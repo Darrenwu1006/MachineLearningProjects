{
 "cells": [
  {
   "cell_type": "markdown",
   "metadata": {},
   "source": [
    "# Movie reviews\n",
    "\n",
    "This notebook takes you though a complete iteration of Machine Learning Assignment 1 - Movie reviews. The assignment details (including links to download the data) can be found [here](https://docs.google.com/document/d/1WGYw99e5q6j5V0Zrf2HveagU6URt_kVvdR8B9HYQ99E/edit?usp=sharing). "
   ]
  },
  {
   "cell_type": "code",
   "execution_count": 180,
   "metadata": {},
   "outputs": [],
   "source": [
    "# all imports and magic commands\n",
    "import numpy as np\n",
    "import pandas as pd\n",
    "import matplotlib.pyplot as plt\n",
    "from my_measures import BinaryClassificationPerformance\n",
    "from sklearn.feature_extraction.text import HashingVectorizer\n",
    "from sklearn.feature_extraction.text import TfidfTransformer\n",
    "from scipy.sparse import csr_matrix, hstack\n",
    "from sklearn.preprocessing import StandardScaler\n",
    "from sklearn.model_selection import train_test_split\n",
    "%matplotlib inline\n",
    "\n",
    "from pprint import pprint"
   ]
  },
  {
   "cell_type": "markdown",
   "metadata": {},
   "source": [
    "### IMPORTANT!!! Make sure you are using `BinaryClassificationPerformance` v1.02"
   ]
  },
  {
   "cell_type": "code",
   "execution_count": 181,
   "metadata": {},
   "outputs": [
    {
     "name": "stdout",
     "output_type": "stream",
     "text": [
      "Help on class BinaryClassificationPerformance in module my_measures:\n",
      "\n",
      "class BinaryClassificationPerformance(builtins.object)\n",
      " |  BinaryClassificationPerformance(predictions, labels, desc, probabilities=None)\n",
      " |\n",
      " |  Performance measures to evaluate the fit of a binary classification model, v1.02\n",
      " |\n",
      " |  Methods defined here:\n",
      " |\n",
      " |  __init__(self, predictions, labels, desc, probabilities=None)\n",
      " |      Initialize attributes: predictions-vector of predicted values for Y, labels-vector of labels for Y\n",
      " |\n",
      " |  compute_measures(self)\n",
      " |      Compute performance measures defined by Flach p. 57\n",
      " |\n",
      " |  img_indices(self)\n",
      " |      Get the indices of true and false positives to be able to locate the corresponding images in a list of image names\n",
      " |\n",
      " |  ----------------------------------------------------------------------\n",
      " |  Data descriptors defined here:\n",
      " |\n",
      " |  __dict__\n",
      " |      dictionary for instance variables\n",
      " |\n",
      " |  __weakref__\n",
      " |      list of weak references to the object\n",
      "\n"
     ]
    }
   ],
   "source": [
    "help(BinaryClassificationPerformance)"
   ]
  },
  {
   "cell_type": "markdown",
   "metadata": {},
   "source": [
    "# Function for feature building and extraction on natural language data"
   ]
  },
  {
   "cell_type": "code",
   "execution_count": 182,
   "metadata": {},
   "outputs": [
    {
     "name": "stderr",
     "output_type": "stream",
     "text": [
      "<>:38: SyntaxWarning: invalid escape sequence '\\.'\n",
      "<>:38: SyntaxWarning: invalid escape sequence '\\.'\n",
      "/var/folders/s4/jz0nwvsn14df6rp9wpmvcshr0000gn/T/ipykernel_81406/4272260032.py:38: SyntaxWarning: invalid escape sequence '\\.'\n",
      "  movie_data['punc_count'] = movie_data['review'].str.count(\"\\.\")\n"
     ]
    }
   ],
   "source": [
    "# function that takes raw data and completes all preprocessing required before model fits\n",
    "def process_raw_data(fn, my_random_seed, test=False):\n",
    "    # read and summarize data\n",
    "    movie_data = pd.read_csv(fn, sep='\\t')\n",
    "    print(\"movie_data is:\", type(movie_data))\n",
    "    print(\"movie_data has\", movie_data.shape[0], \"rows and\", movie_data.shape[1], \"columns\", \"\\n\")\n",
    "    print(\"the data types for each of the columns in movie_data:\")\n",
    "    print(movie_data.dtypes, \"\\n\")\n",
    "    print(\"the first 10 rows in movie_data:\")\n",
    "    print(movie_data.head(5))\n",
    "    if (not test):\n",
    "        print(\"The rate of 'good' movie reviews in the dataset: \")\n",
    "        print(movie_data['sentiment'].mean())\n",
    "\n",
    "    # vectorize Bag of Words from review text; as sparse matrix\n",
    "    if (not test): # fit_transform()\n",
    "        hv = HashingVectorizer(n_features=2 ** 17, alternate_sign=False)\n",
    "        X_hv = hv.fit_transform(movie_data.review)\n",
    "        fitted_transformations.append(hv)\n",
    "        print(\"Shape of HashingVectorizer X:\")\n",
    "        print(X_hv.shape)\n",
    "    else: # transform() \n",
    "        X_hv = fitted_transformations[0].transform(movie_data.review)\n",
    "        print(\"Shape of HashingVectorizer X:\")\n",
    "        print(X_hv.shape)\n",
    "    \n",
    "    # http://scikit-learn.org/stable/modules/generated/sklearn.feature_extraction.text.TfidfTransformer.html\n",
    "    if (not test):\n",
    "        transformer = TfidfTransformer()\n",
    "        X_tfidf = transformer.fit_transform(X_hv)\n",
    "        fitted_transformations.append(transformer)\n",
    "    else:\n",
    "        X_tfidf = fitted_transformations[1].transform(X_hv)\n",
    "    \n",
    "    # create additional quantitative features\n",
    "    # features from Amazon.csv to add to feature set\n",
    "    movie_data['word_count'] = movie_data['review'].str.split(' ').str.len()\n",
    "    movie_data['punc_count'] = movie_data['review'].str.count(\"\\.\")\n",
    "\n",
    "    X_quant_features = movie_data[[\"word_count\", \"punc_count\"]]\n",
    "    print(\"Look at a few rows of the new quantitative features: \")\n",
    "    print(X_quant_features.head(10))\n",
    "    \n",
    "    # Combine all quantitative features into a single sparse matrix\n",
    "    X_quant_features_csr = csr_matrix(X_quant_features)\n",
    "    X_combined = hstack([X_tfidf, X_quant_features_csr])\n",
    "    X_matrix = csr_matrix(X_combined) # convert to sparse matrix\n",
    "    print(\"Size of combined bag of words and new quantitative variables matrix:\")\n",
    "    print(X_matrix.shape)\n",
    "    \n",
    "    # Create `X`, scaled matrix of features\n",
    "    # feature scaling\n",
    "    if (not test):\n",
    "        sc = StandardScaler(with_mean=False)\n",
    "        X = sc.fit_transform(X_matrix)\n",
    "        fitted_transformations.append(sc)\n",
    "        print(X.shape)\n",
    "        y = movie_data['sentiment']\n",
    "    else:\n",
    "        X = fitted_transformations[2].transform(X_matrix)\n",
    "        print(X.shape)\n",
    "    \n",
    "    # Create Training and Test Sets\n",
    "    # enter an integer for the random_state parameter; any integer will work\n",
    "    if (test):\n",
    "        X_submission_test = X\n",
    "        print(\"Shape of X_test for submission:\")\n",
    "        print(X_submission_test.shape)\n",
    "        print('SUCCESS!')\n",
    "        return(movie_data, X_submission_test)\n",
    "    else: \n",
    "        X_train, X_test, y_train, y_test, X_raw_train, X_raw_test = train_test_split(X, y, movie_data, test_size=0.2, random_state=my_random_seed)\n",
    "        print(\"Shape of X_train and X_test:\")\n",
    "        print(X_train.shape)\n",
    "        print(X_test.shape)\n",
    "        print(\"Shape of y_train and y_test:\")\n",
    "        print(y_train.shape)\n",
    "        print(y_test.shape)\n",
    "        print(\"Shape of X_raw_train and X_raw_test:\")\n",
    "        print(X_raw_train.shape)\n",
    "        print(X_raw_test.shape)\n",
    "        print('SUCCESS!')\n",
    "        return(X_train, X_test, y_train, y_test, X_raw_train, X_raw_test)"
   ]
  },
  {
   "cell_type": "markdown",
   "metadata": {},
   "source": [
    "# Create training and test sets from function"
   ]
  },
  {
   "cell_type": "code",
   "execution_count": 183,
   "metadata": {},
   "outputs": [
    {
     "name": "stdout",
     "output_type": "stream",
     "text": [
      "movie_data is: <class 'pandas.core.frame.DataFrame'>\n",
      "movie_data has 25000 rows and 3 columns \n",
      "\n",
      "the data types for each of the columns in movie_data:\n",
      "id           object\n",
      "sentiment     int64\n",
      "review       object\n",
      "dtype: object \n",
      "\n",
      "the first 10 rows in movie_data:\n",
      "       id  sentiment                                             review\n",
      "0  5814_8          1  With all this stuff going down at the moment w...\n",
      "1  2381_9          1  \\The Classic War of the Worlds\\\" by Timothy Hi...\n",
      "2  7759_3          0  The film starts with a manager (Nicholas Bell)...\n",
      "3  3630_4          0  It must be assumed that those who praised this...\n",
      "4  9495_8          1  Superbly trashy and wondrously unpretentious 8...\n",
      "The rate of 'good' movie reviews in the dataset: \n",
      "0.5\n",
      "Shape of HashingVectorizer X:\n",
      "(25000, 131072)\n",
      "Look at a few rows of the new quantitative features: \n",
      "   word_count  punc_count\n",
      "0         433          20\n",
      "1         158          16\n",
      "2         378          20\n",
      "3         379           8\n",
      "4         367           9\n",
      "5          89           5\n",
      "6         112           9\n",
      "7         132           9\n",
      "8         163           7\n",
      "9          43           5\n",
      "Size of combined bag of words and new quantitative variables matrix:\n",
      "(25000, 131074)\n",
      "(25000, 131074)\n",
      "Shape of X_train and X_test:\n",
      "(20000, 131074)\n",
      "(5000, 131074)\n",
      "Shape of y_train and y_test:\n",
      "(20000,)\n",
      "(5000,)\n",
      "Shape of X_raw_train and X_raw_test:\n",
      "(20000, 5)\n",
      "(5000, 5)\n",
      "SUCCESS!\n",
      "Number of fits stored in `fitted_transformations` list: \n",
      "3\n"
     ]
    }
   ],
   "source": [
    "# create an empty list to store any use of fit_transform() to transform() later\n",
    "# it is a global list to store model and feature extraction fits\n",
    "fitted_transformations = []\n",
    "\n",
    "# CHANGE FILE PATH and my_random_seed number (any integer other than 74 will do): \n",
    "X_train, X_test, y_train, y_test, X_raw_train, X_raw_test = process_raw_data(\n",
    "    fn='/Users/wuyuming/Desktop/Project/machine learning/YuMingWu_ml-master/final_assignment_1/moviereviews_train.csv', my_random_seed=3310)\n",
    "\n",
    "print(\"Number of fits stored in `fitted_transformations` list: \")\n",
    "print(len(fitted_transformations))"
   ]
  },
  {
   "cell_type": "markdown",
   "metadata": {},
   "source": [
    "# Fit (and tune) Various Models"
   ]
  },
  {
   "cell_type": "markdown",
   "metadata": {},
   "source": [
    "### MODEL: ordinary least squares"
   ]
  },
  {
   "cell_type": "code",
   "execution_count": 184,
   "metadata": {},
   "outputs": [],
   "source": [
    "from sklearn import linear_model"
   ]
  },
  {
   "cell_type": "code",
   "execution_count": 185,
   "metadata": {},
   "outputs": [
    {
     "name": "stdout",
     "output_type": "stream",
     "text": [
      "{'Pos': 9934, 'Neg': 10066, 'TP': 9934, 'TN': 10066, 'FP': 0, 'FN': 0, 'Accuracy': 1.0, 'Precision': 1.0, 'Recall': 1.0, 'desc': 'ols_train'}\n"
     ]
    }
   ],
   "source": [
    "ols = linear_model.SGDClassifier(loss=\"hinge\")\n",
    "ols.fit(X_train, y_train)\n",
    "\n",
    "ols_performance_train = BinaryClassificationPerformance(ols.predict(X_train), y_train, 'ols_train')\n",
    "ols_performance_train.compute_measures()\n",
    "print(ols_performance_train.performance_measures)"
   ]
  },
  {
   "cell_type": "markdown",
   "metadata": {},
   "source": [
    "### MODEL: SVM, linear"
   ]
  },
  {
   "cell_type": "code",
   "execution_count": 186,
   "metadata": {},
   "outputs": [
    {
     "name": "stdout",
     "output_type": "stream",
     "text": [
      "{'Pos': 9934, 'Neg': 10066, 'TP': 9934, 'TN': 10066, 'FP': 0, 'FN': 0, 'Accuracy': 1.0, 'Precision': 1.0, 'Recall': 1.0, 'desc': 'svm_train'}\n"
     ]
    }
   ],
   "source": [
    "from sklearn import linear_model\n",
    "svm = linear_model.SGDClassifier()\n",
    "svm.fit(X_train, y_train)\n",
    "\n",
    "svm_performance_train = BinaryClassificationPerformance(svm.predict(X_train), y_train, 'svm_train')\n",
    "svm_performance_train.compute_measures()\n",
    "print(svm_performance_train.performance_measures)"
   ]
  },
  {
   "cell_type": "markdown",
   "metadata": {},
   "source": [
    "### MODEL: logistic regression"
   ]
  },
  {
   "cell_type": "code",
   "execution_count": 187,
   "metadata": {},
   "outputs": [
    {
     "name": "stdout",
     "output_type": "stream",
     "text": [
      "{'Pos': 9934, 'Neg': 10066, 'TP': 9934, 'TN': 10066, 'FP': 0, 'FN': 0, 'Accuracy': 1.0, 'Precision': 1.0, 'Recall': 1.0, 'desc': 'lgs_train'}\n"
     ]
    }
   ],
   "source": [
    "from sklearn import linear_model\n",
    "lgs = linear_model.SGDClassifier(loss='log_loss')\n",
    "lgs.fit(X_train, y_train)\n",
    "\n",
    "lgs_performance_train = BinaryClassificationPerformance(lgs.predict(X_train), y_train, 'lgs_train')\n",
    "lgs_performance_train.compute_measures()\n",
    "print(lgs_performance_train.performance_measures)"
   ]
  },
  {
   "cell_type": "markdown",
   "metadata": {},
   "source": [
    "### MODEL: Naive Bayes"
   ]
  },
  {
   "cell_type": "code",
   "execution_count": 188,
   "metadata": {},
   "outputs": [
    {
     "name": "stdout",
     "output_type": "stream",
     "text": [
      "{'Pos': 9934, 'Neg': 10066, 'TP': 9534, 'TN': 9907, 'FP': 159, 'FN': 400, 'Accuracy': 0.97205, 'Precision': 0.9835964097802538, 'Recall': 0.9597342460237568, 'desc': 'nbs_train'}\n"
     ]
    }
   ],
   "source": [
    "from sklearn.naive_bayes import MultinomialNB\n",
    "nbs = MultinomialNB()\n",
    "nbs.fit(X_train, y_train)\n",
    "\n",
    "nbs_performance_train = BinaryClassificationPerformance(nbs.predict(X_train), y_train, 'nbs_train')\n",
    "nbs_performance_train.compute_measures()\n",
    "print(nbs_performance_train.performance_measures)"
   ]
  },
  {
   "cell_type": "markdown",
   "metadata": {},
   "source": [
    "### MODEL: Perceptron"
   ]
  },
  {
   "cell_type": "code",
   "execution_count": 189,
   "metadata": {},
   "outputs": [
    {
     "name": "stdout",
     "output_type": "stream",
     "text": [
      "{'Pos': 9934, 'Neg': 10066, 'TP': 9934, 'TN': 10066, 'FP': 0, 'FN': 0, 'Accuracy': 1.0, 'Precision': 1.0, 'Recall': 1.0, 'desc': 'prc_train'}\n"
     ]
    }
   ],
   "source": [
    "from sklearn import linear_model\n",
    "prc = linear_model.SGDClassifier(loss='perceptron')\n",
    "prc.fit(X_train, y_train)\n",
    "\n",
    "prc_performance_train = BinaryClassificationPerformance(prc.predict(X_train), y_train, 'prc_train')\n",
    "prc_performance_train.compute_measures()\n",
    "print(prc_performance_train.performance_measures)"
   ]
  },
  {
   "cell_type": "markdown",
   "metadata": {},
   "source": [
    "### MODEL: Ridge Regression Classifier"
   ]
  },
  {
   "cell_type": "code",
   "execution_count": 190,
   "metadata": {},
   "outputs": [
    {
     "name": "stdout",
     "output_type": "stream",
     "text": [
      "{'Pos': 9934, 'Neg': 10066, 'TP': 9934, 'TN': 10066, 'FP': 0, 'FN': 0, 'Accuracy': 1.0, 'Precision': 1.0, 'Recall': 1.0, 'desc': 'rdg_train'}\n"
     ]
    }
   ],
   "source": [
    "from sklearn import linear_model\n",
    "rdg = linear_model.RidgeClassifier()\n",
    "rdg.fit(X_train, y_train)\n",
    "\n",
    "rdg_performance_train = BinaryClassificationPerformance(rdg.predict(X_train), y_train, 'rdg_train')\n",
    "rdg_performance_train.compute_measures()\n",
    "print(rdg_performance_train.performance_measures)"
   ]
  },
  {
   "cell_type": "markdown",
   "metadata": {},
   "source": [
    "### MODEL: Random Forest Classifier"
   ]
  },
  {
   "cell_type": "code",
   "execution_count": 191,
   "metadata": {},
   "outputs": [
    {
     "name": "stdout",
     "output_type": "stream",
     "text": [
      "{'Pos': 9934, 'Neg': 10066, 'TP': 6745, 'TN': 8699, 'FP': 1367, 'FN': 3189, 'Accuracy': 0.7722, 'Precision': 0.8314842209072978, 'Recall': 0.6789812764244011, 'desc': 'rdf_train'}\n"
     ]
    }
   ],
   "source": [
    "from sklearn.ensemble import RandomForestClassifier\n",
    "rdf = RandomForestClassifier(max_depth=2, random_state=0)\n",
    "rdf.fit(X_train, y_train)\n",
    "\n",
    "rdf_performance_train = BinaryClassificationPerformance(rdf.predict(X_train), y_train, 'rdf_train')\n",
    "rdf_performance_train.compute_measures()\n",
    "print(rdf_performance_train.performance_measures)"
   ]
  },
  {
   "cell_type": "markdown",
   "metadata": {},
   "source": [
    "### ROC plot to compare performance of various models and fits"
   ]
  },
  {
   "cell_type": "code",
   "execution_count": 192,
   "metadata": {
    "scrolled": false
   },
   "outputs": [
    {
     "data": {
      "image/png": "[encoded data removed]",
      "text/plain": [
       "<Figure size 640x480 with 1 Axes>"
      ]
     },
     "metadata": {},
     "output_type": "display_data"
    }
   ],
   "source": [
    "fits = [ols_performance_train, svm_performance_train, lgs_performance_train, nbs_performance_train, prc_performance_train, rdg_performance_train, rdf_performance_train]\n",
    "\n",
    "for fit in fits:\n",
    "    plt.plot(fit.performance_measures['FP'] / fit.performance_measures['Neg'], \n",
    "             fit.performance_measures['TP'] / fit.performance_measures['Pos'], 'bo')\n",
    "    plt.text(fit.performance_measures['FP'] / fit.performance_measures['Neg'], \n",
    "             fit.performance_measures['TP'] / fit.performance_measures['Pos'], fit.desc)\n",
    "plt.axis([0, 1, 0, 1])\n",
    "plt.title('ROC plot: test set')\n",
    "plt.xlabel('False positive rate')\n",
    "plt.ylabel('True positive rate')\n",
    "plt.show()"
   ]
  },
  {
   "cell_type": "markdown",
   "metadata": {},
   "source": [
    "### looking at reviews based on their classification\n",
    "\n",
    "Let's say we decide that Ordinary Least Squares (OLS) Regression is the best model for generalization. Let's take a look at some of the reviews and try to make a (subjective) determination of whether it's generalizing well. "
   ]
  },
  {
   "cell_type": "code",
   "execution_count": 193,
   "metadata": {},
   "outputs": [
    {
     "name": "stdout",
     "output_type": "stream",
     "text": [
      "[0 0 1 ... 0 0 1]\n"
     ]
    }
   ],
   "source": [
    "ols_predictions = ols.predict(X_train)\n",
    "print(ols_predictions)"
   ]
  },
  {
   "cell_type": "code",
   "execution_count": 194,
   "metadata": {},
   "outputs": [],
   "source": [
    "svm_predictions = svm.predict(X_train)"
   ]
  },
  {
   "cell_type": "code",
   "execution_count": 195,
   "metadata": {},
   "outputs": [],
   "source": [
    "rdf_predictions = rdf.predict(X_train)"
   ]
  },
  {
   "cell_type": "markdown",
   "metadata": {},
   "source": [
    "### let's look at some false positives:"
   ]
  },
  {
   "cell_type": "code",
   "execution_count": 213,
   "metadata": {},
   "outputs": [
    {
     "name": "stdout",
     "output_type": "stream",
     "text": [
      "Examples of false positives:\n",
      "52\n",
      "You know a movie will not go well when John Carradine narrates (a.k.a. reads the script & plot synopsis) over his character's funeral procession, a mere 5 minutes into the movie. The narration is his character's last will & testament. It stipulates that his estate be divided amongst his 4 children and servants. The children shall split $136 million equally, but if any should die then that share is split amongst the remainders. If all the children should die then it is divided amongst the servants. To be eligible, they must live in the family estate for a week. It sounds like the typical plot of a reality show.<br /><br />There is little subtext as to the nature of the Deans. They are a powerful and severely dysfunctional family, but the real trouble starts with the drowning of that dog. From the opening voice-over by John Carradine you expect this movie will lead to a Machiavellian cat and mouse game with a twist ending. <br /><br />That journey is painfully slow and pointless. We trudge through minutes of watching people sitting around, playing pool, throwing darts, the misuse of the \\through the fish bowl\\\" shot, dramatic conversations between silk cravat wearing men, constant bickering, misplaced circus music, bizarre flashbacks reminiscent of faux-German expressionism, the horror aesthetic of the 4th grade and heaps of dramatic overacting. This all inevitably leads to the expected & ungratifying ending. You will be happy to still be alive, but the pain might be too great to bear alone. Share children, share.<br /><br />-Celluloid Rehab\"\n",
      "* * * * * * * * * \n",
      "154\n",
      "It's kind of fascinating to me that so many reviewers consider this a masterpiece. I am not a dullard as far as quality films go, and I will agree that from a technical filming standpoint, as well as for several of the characters portrayed, the film is in an award-worthy class. But there is no sense (for me) of this film actually going anywhere; I mean, taking the viewer anywhere. It is a series of mood scenes, perhaps remarkable as such, but I want more from a film. I look for story and movement and a fulfillment of arrival, none of which did I find in this film. Yes, it might be considered poetry on film . . . but there is much poetry that I cannot live with for the same reason: that it paints pictures without going anywhere.<br /><br />One thing further to be said is that it documents a mid-century English childhood, which is necessarily limited in its universality. I was personally appalled at what a young British boy had to live through, in that time and place. Having grown up in America just a decade earlier, I can authoritatively say that the contrast is immense. I cannot help wondering if this contrast has had some effect on those reviewing the film so favorably. In other words, could there be a tendency to judge the film entirely on its 'filmic magic' (which I acknowledge is there) and completely ignore its lack of relevance to the nature of one's actual recalled experience?\n",
      "* * * * * * * * * \n",
      "930\n",
      "Beautifully photographed and ably acted, generally, but the writing is very slipshod. There are scenes of such unbelievability that there is no joy in the watching. The fact that the young lover has a twin brother, for instance, is so contrived that I groaned out loud. And the \\emotion-light bulb connection\\\" seems gimmicky, too.<br /><br />I don't know, though. If you have a few glasses of wine and feel like relaxing with something pretty to look at with a few flaccid comedic scenes, this is a pretty good movie. No major effort on the part of the viewer required. But Italian film, especially Italian comedy, is usually much, much better than this.\"\n",
      "* * * * * * * * * \n",
      "1227\n",
      "In a variant of Sholay , Ram Gopal Verma ventures into what can be called an unknown territory where the blockbuster takes a new shape. The Thakur goes south.Mohanlal as Narsimha the police inspector whose family has been killed seeks vengeance Madrasi style. The accent is totally South Indian in contrast to Thakur from the north. The severing of the hands of Thakur by Gabbar is also cut down to the fingers in Aag. So make up costs are cut down because there is no effort to hide the hands instead only a long shouldered Kurta covers up for the cut fingers. Moreso in the climax where the Thakur uses his legs and says\\Tere Liye to mere paer hi kaafi hai\\\" here Narsimha uses his finger stubs to fire a gun and kill the villain. Babban, the new avtar of gabbar is also different. He is not from Bihar or UP. He is Bambaiya. Gabbar's infamous laugh is also in two instalments this time and is more subdued. Babban asks for Diwali instead of Holi and romances Urmila the replacement of Helen in Mehbooba. he also dances and enjoys dancing with Abhisheh who plays Jalal Agha in Mehbooba.Babban is more intelligent this time. He tosses the apple and asks the question that made Isaac Newton discover laws of gravitation. Basanti is more verbose than the Auto driver Ghungroo. Nisha Kothari cannot play the auto driver and looks too artificial using words like 'entertain' and 'too much' with gay abandon. Viru was fun whereas Ajay Devgun is a misfit for the role. The God Speaks to Basanti incident and the shooting lessons and the Koi Haseena song and the water tank sequences are painful. The water tank turns into a well and the drunk Devgun is so bad in the sequence that the audience would have wanted him to commit suicide. Jai was composed and serious. Prashant Raj is better than the others because we do not expect anything from him. But he also bungles on the Mausi sequence. He is not as romantic as Jai with the mouth organ . Jaya's role played by Sushmita changes careers. A pure housewife turns into a doctor this time plunging into full time social service after her husband is killed. She too lacks the pain that Jaya displayed. Her flirtations with Jai are more open this time. Samba gets a bigger role this time as Tambe. He does not have to point guns and answer questions of Gabbar this time. He follows Babban wherever he goes and is a bodyguard with more visibility outside the den. Horses give way to Jeeps and auto. The Gabbar's hideout here keeps changing and Ramgarh becomes Kaliganj. All in all it is more of a spoof than anything else. RGV comes up with his own interpretation of the classic. But we remember the original so well even after three decades that our minds refuse to accept stylized versions and changed dialogues. So we call it a spoof. So Mr.RGV(Sholay ) and Farhan Akhtar (Don) and JPDutta(Umrao jaan) stop making remixes and start making originals.\"\n",
      "* * * * * * * * * \n",
      "1484\n",
      "In the questionable comedy vein of Mel Brooks, \\Wholly Moses!\\\" tries to take the Bible story of Moses and make fun of it, resulting in the unfunniest Biblical spoof ever filmed.<br /><br />There is no real plot here, just excuses to trot out stalwart comedy talent in underwritten roles. Dudley Moore and Laraine Newman are on a bus tour of the Holy Land, when they stumble across an ancient scroll in a cave. There they read the story of Herschel and Zerelda, also played by Moore and Newman. Herschel's life parallels Moses'. He was sent down the river to be found by the pharaoh's family at the same time Moses was. Herschel's birth father, the late James Coco, becomes Herschel's slave after Herschel is rescued by idol makers and works as a sculptor. Eventually Herschel comes to work for the pharaoh as an astronomer, is banished, and ends up tending Moses' flock of sheep. Herschel and Moses are brothers in law, marrying sisters, and Herschel thinks God has chosen him to free his people in Egypt. Of course, Moses was receiving the Divine Word, but Herschel misunderstood. I'll pause here to laugh hysterically...pause...anyway, the rest of the film is a series of badly written scenes involving Moore and actors who are making \\\"special appearances.\\\" These scenes do not propel the plot forward, they bring what little story there is to a grinding halt.<br /><br />Jack Gilford plays a tailor. Dom DeLuise has maybe three lines when he meets Herschel in the desert. John Houseman is an archangel, just giving the same line readings he gave in \\\"The Paper Chase.\\\" David L. Lander is a fake blind man \\\"healed\\\" by Herschel. Andrea Martin is one of Zerelda's sisters. I was not sure who Madeline Kahn was supposed to be, she gives a ride to Herschel, and has about a minute and a half of screen time. John Ritter plays a very unfunny devil. Richard Pryor has one scene as the pharaoh, but it was obviously shot at a different time than Moore's scene because the two do not appear onscreen together! In the end, Zerelda turns into a pillar of salt after looking back on New Sodom's destruction, ha ha. Herschel writes the Ten Commandments, and gives them to Moses, who is basking in all the glory. In the final scenes, the screenwriter decide to try and salvage this shallow film by having Herschel bait God into an argument. God comes off as an all powerful bully who was leading Herschel around for his own amusement, speaking through him only to give him the Ten Commandments. We even have Zerelda quip \\\"God works in mysterious ways,\\\" thereby excusing everyone's very unChristian behavior during the film.<br /><br />This film is not funny. There is nary a laugh to be found anywhere. At least Monty Python made fun of many established religious mainstays in \\\"Life of Brian\\\" in addition to their questionable take on Jesus' life, but here the humor consists of poo poo jokes and characters constantly bumping their heads. This makes Mel Brooks look like Merchant/Ivory. Churchgoers will be offended, not by the film's attitude toward religion, but by the smugness the movie exhibits, impressed with their own hoitytoityness (I know, not a word) on a subject they obviously know nothing about. \\\"Wholly Moses!\\\" is wholly bad, and an embarassment to all involved. I suggest you read the Book instead.<br /><br />This is rated (PG) for some physical violence, profanity, sexual references, and adult situations.\"\n",
      "* * * * * * * * * \n",
      "2041\n",
      "Well what I can say about this movie is that it's great to see so many Asian faces. What I didn't like about the film was that it was full of stereotypes of what typical racial characters would do in their role. The Asian girl without confidence who has to play someone else to get ahead, the white guy infatuated with Asian culture and chooses to leave his white world behind for the land of yellow and the \\keeping it real\\\" black cab driver. Plus all the coke, shanghai tang and dunkin donuts product placement was a bit too obvious. The story plot itself was fun but pretty much how I thought the story would unravel. Then again when watching romantic comedies you can't expect much but then again I would have been wanted to just be surprised at least once. The parents are the best part of the flick.\"\n",
      "* * * * * * * * * \n",
      "2301\n",
      "This seems like two films: one a dreary, pretentious lengthy saga about an ac-tor who is taken over by the parts he plays; the other a brilliant social comment about a middle aged divorce who is picked up by a waitress. Shelley Winters is wonderful as a waitress with another business on the side. She drops heavy hints about the need for connections, her certificate in massage and her desire to get into the modelling game. I love the glimpse of her seedy flat with a kitchenette behind a curtain, and her terrible seducing outfit of navel-revealing, puff-sleeved crochet top.<br /><br />Do actors get Oscars for Shakespeare? We know they Oscars for impersonating disabled people, wearing a lot of prosthetics, or pretending to be mad. The Shakespearean scenes (which go ON and ON) are embarrassing and dated. And so are the 'going mad' scenes where Tony looks distracted while listening to his own voice-over.<br /><br />By the way, Anthony John is not aristocratic. He makes it quite clear in an early scene that he used to be a chorus boy. When he quotes his father's advice, he slips into a Cockney accent.\n",
      "* * * * * * * * * \n",
      "2753\n",
      "One of Frances Farmer's earliest movies; at 22, she is absolutely beautiful. Bing Crosby is in great voice, but the songs are not his best. Martha Raye and Bob Burns are interesting, but their comedy, probably great in its time, is really corny today. Roy Rogers also appears- in a singing role. In my view only worth watching if you are a Frances Farmer fan, and possibly a Bing Crosby fan.\n",
      "* * * * * * * * * \n",
      "2969\n",
      "After an initial release of 4 very good Eurotrash titles, REDEMPTION has managed to scrape the bottom of the barrel with THE BLOODSUCKER LEADS THE DANCE. I found NO Bloodsuckers anywhere in this movie.<br /><br />The story is simple. A mysterious count invites several actresses to his castle for a little vacation. After some sofcore sexual shenanigans the girls get decapitated one by one. Who is the killer? Who knows? There are more red herrings in this one than at the local fish market on Friday.<br /><br />The pace is excruciating. The story is silly and the skin scenes aren't all that terrific either.<br /><br />Give this one a miss.\n",
      "* * * * * * * * * \n",
      "3940\n",
      "It was interesting to see how accurate the writing was on the geek buzz words, yet very naive on the corporate world. The Justice Department would catch more of the big corp giants if they did such naive things to win. The real corporate world is much more subtle and interesting, yet every bit as sinister. I seriously doubt ANY corp would actually kill someone directly; even the mod is more indirect these days. In the real world, they do kill people with nicotine, pollution, additives, poisons, etc. This movie must have been developed by some garage geeks, I think, and the studios didn't know the difference. They just wanted something to capitalize on the Microsoft antitrust case in the news.\n",
      "* * * * * * * * * \n",
      "4022\n",
      "1 How is it that everyone can understand each other perfectly without devices like universal translators or translator microbes? Did the creators of this show realize that people who were taken from different parts of the earth, in different time frames (Attilla the Hun wasn't a contemporary of preliterate Hellenic cultures, nor were the Vikings contemporary to the Pyramid builders) speak different languages and can never develop a language so similar to modern day English(except for the inflections they \\do not\\\" use), which has been influenced by Latin, ancient Greek, Danish and French? <br /><br />2 Cultural differences can't be overcome so easily, trust has to be won, yet everywhere the team arrives they are welcomed without any suspicion and start ordering people around like they are their appointed leaders. Of course real fans would comment that they are perceived as gods. The people they meet should be shocked by their technology and accuse them of witchcraft and the like.<br /><br />3 Historical background: none. Visually it might vaguely remind you of Greek or Viking culture, but anyone can dress in a bunch of tablecloths or run to a local costume rental for a plastic helmet with horns and claim to look the part. A small-town theater group probably has better props.<br /><br />4 Boring! Another lame Canuck production, which inexplicably ran for ten long years. As a kids show it could make the grade, but anyone who has a little knowledge about human behavior and language couldn't bear to even watch the first twelve episodes of season 1, like I just did. I very much wanted to believe I had found a decent sci-fi show, otherwise I would shut it of and cleansed my computer of this refuge after the first five minutes!\"\n",
      "* * * * * * * * * \n",
      "4309\n",
      "I suppose that any novel that's as much of a downer as Moby Dick would not find much favor with Depression era audiences who had enough of their own troubles. But any resemblance to the classic Herman Melville novel is a pure coincidence. <br /><br />In fact half of the film is a prequel to the main story as we know it, not that too much of it was kept for the film. We first meet Ahab Creely (he's got a last name and a brother) as one happy go lucky soul with two legs and intentions to marry Joan Bennett who is Father Mapple's daughter. That brother Derek, played by Lloyd Hughes, also wants to marry Bennett.<br /><br />John Barrymore is Ahab in an over the top performance. Barrymore had not quite mastered the sound cinema and he gave out with all the silent era histrionics plus a stage voice that would have shaken the rafters of any movie theater this film was playing in.<br /><br />We see Ahab lose his leg to the great whale Moby Dick and I have to say the amputation scene was pretty gruesome. Of course this was all before the Code. Still I'm sure 1930 audiences shuddered.<br /><br />After that the story of Ahab's hunt for the whale that he thinks made him unsightly in Joan Bennett's eyes. That is not exactly Melville's motivation, in fact there are no women characters in Moby Dick as he wrote it.<br /><br />One of the things Melville did was invest the crew of Ahab's ship the Pequod with personalities. Other than Queequeg the cannibal harpooner the names are there, but not the personalities. Starbuck and Stubbs might as well be Smith and Jones.<br /><br />I'd see this version of Moby Dick strictly for curiosity and nothing else.\n",
      "* * * * * * * * * \n",
      "4677\n",
      "And how many actors can he get to stand in for his own neurotic, compulsive uber-New Yorker persona? In this film Woody is played by Will Ferrell in what is mercifully less a direct impersonation than the one Kenneth Branagh did in \\Celebrity.\\\" It's an annoyingly repetitive story now: nebbishy, neurotic man with a wife or girlfriend falls madly in love with a shiksa queen upon which he projects all manner of perfection. Everyone lives in perfect gigantic apartments in great Manhattan neighborhoods, everyone constantly patronizes expensive, exclusive restaurants during which all the characters relate fascinating anecdotes and discuss arcane philosophy, there is always a trip to the Hamptons during which the nebbishy main character spazzes out about sand and physical exertion and possible exposure to diseases, and then of course, said main character feels guilty about his lust for the shiksa queen but pursues her anyway, sometimes succeeding, sometimes failing, etc.<br /><br />This a tired formula, and proof that Allen isn't really a great film artist at all. He just seems like a dirty old man with the libido and emotions of a 20-year-old who is intent upon telling the same boring old stories again and again.\"\n",
      "* * * * * * * * * \n",
      "5094\n",
      "Waldemar Daninsky (Paul Naschy) travels to Tibet and is bitten by a yeti, which causes him to become a werewolf. He is accidentally killed after he attacks his cheating wife and her lover, and is later revived by a female scientist, Dr. Ilona Ermann, who uses him in mind control experiments. Daninsky later discovers an underground asylum populated by the bizarre subjects of the doctor's failed experiments.<br /><br />Upon hearing of Naschy's death from colleague Jon Kitley, I rummaged through my collection for a suitable film to watch. In my scramble, I found I own not one but three(!) copies of \\Fury of the Wolfman\\\". The film is of questionable video quality, the sound is dubbed in a mediocre fashion, the cinematography is sort of slapstick style at times. And the American versions have two love scenes removed. Quite frankly, without a remastered, uncut copy, I wasn't really getting the proper movie in all its glory.<br /><br />This film claims to be the fourth in a long series about the werewolf Count Waldemar Daninsky. I suspect this is true, but you wouldn't know this from the film itself. The plot is confusing at times, and there's really no indication that this is a sequel. If you read the plot summaries on Wikipedia and compare them to what is printed on the box, you'll see that I'm not alone in my confusion.<br /><br />Perhaps the film's shortcomings can be forgiven if we understand the production hell it went through. While floating around for years, it was only released in 1973, due to problems involved in finding a distributor. And Naschy said in his autobiography that the director, Zabalza, was an incompetent alcoholic, and that he hated working with him. Those really aren't light accusations, and I have no idea what Zabalza had to say on his own behalf.<br /><br />Chances are, sooner or later you'll come across a low-grade version of \\\"Fury of the Wolfman\\\". It appears in a variety of three-packs and box sets, so you might accidentally acquire it and not even know. What really needs to happen is an American uncut version, with a decent sound and video mix, and the love scenes thrown back in. As far as I know, this does not exist. Let us honor Paul Naschy's legacy and get his films to a wider audience in a level of quality he deserves.\"\n",
      "* * * * * * * * * \n",
      "5106\n",
      "The year 1934 was when Shirley Temple played three major movies and really began to make a name for herself. Unfortunately, the studios had to experiment to see what the public best liked about here. Two of those things were singing and dancing. Another was a short, interesting film that kept people's attention and got their minds off The Depression. You know the other keys to Shirley's successful films.<br /><br />This film achieved none of the above, despite the star presences of Gary Cooper and Carole Lombard and despite a very good director in Henry Hathaway. In addition, there are too many talky parts in here which become simply boring, and too many arguments between a sullen Lombard and Cooper. To top it off, you didn't get the normal feel-good ending which is what the public wants. I guess they learned after this movie.\n",
      "* * * * * * * * * \n",
      "5363\n",
      "I actually liked this movie until the end. Sure, it was cheesy and pretty unlikely but still it kept my attention on a rainy afternoon. Until the end, that is. For her final performance at the prestigious classical conservatory where she has struggled to catch-up to the other classically trained students, what does the main character do? Wow them with her grasp and execution of this time honored musical tradition? No. She tortures and butchers the great sensuous Habanera from Carmen and turns it into an utterly forgettable Brittany Spears-wannabe pop song. My ears bled! And, in the supreme moment of horror, her teachers gave her a standing ovation! Any teacher not in a Spears-induced fantasy would have failed her on the spot. Save your time, save your ears - skip this movie!\n",
      "* * * * * * * * * \n",
      "5675\n",
      "I can only believe that Garson Kanin must have been two people. The one who wrote the brilliant \\A Double Life\\\" and the funny \\\"Born Yesterday\\\" and co-wrote such excellent screenplays as \\\"Adam's Rib\\\" and \\\"Pat And Mike\\\" with his wife Ruth Gordon and then the one who wrote and/or directed such tiresome, sad drivel as \\\"Bachelor Mother\\\", \\\"Some Kind Of A Nut\\\", and this. The cast tries, but the script is so tired and clichéd that even the efforts of the always wonderful Brenda Vaccaro are defeated. The script sinks to it's nadir in the truly offensive sequence in which Janssen's character tests Drivas's character to make sure he's not gay. An ugly sequence, but sadly one which could easily play in a film today. \\\"Ethnic\\\" jokes are now totally verboten, but \\\"fag\\\" jokes are still \\\"good, clean, family fun\\\".\"\n",
      "* * * * * * * * * \n",
      "5710\n",
      "Funny that I find myself forced to review this movie, but here I am.<br /><br />I am reviewing it, because just recently, I have had the chance to witness the revival of R.C. Sheriff's play \\Journey's End\\\" on stage in New York, at the Belasco Theatre, starring Hugh Darcy, Boyd Gaines, Jefferson Mays and others, as well as being masterfully directed by David Grindley.<br /><br />I left the theater shattered. I am not exaggerating, I was flabbergasted. After almost two and a half hours of a recreated and very claustrophobic depiction of soldier's life in the trenches of the Somme (I speculate), during World War One, brought to life vividly, by everyone involved, I came out of the theater with the shakes.<br /><br />Mind you, I am not easily shocked, nor am I too sensitive. I am a stage actor and a director myself, so I know the buttons being pressed to achieve certain effects, both emotionally, as well as psychologically.<br /><br />But what I had just witnessed, came so much to life, that I had chills in my spine as I left.<br /><br />None of these emotions came to life, while watching \\\"Aces High\\\", the movie based on this play and even adapted for the screen, in cooperation with R.C. Sheriff himself, shortly before he died.<br /><br />The screen adaptation takes place in the skies over France. So, gone is the claustrophobic ambiance to start with.<br /><br />The only plus of the movie, are the aerial battle scenes, which look dated in their special effects, compared to today's standards, but still very valid in the flying tactics adopted on screen.<br /><br />Granted there had been a couple of screen adaptations of \\\"All Quiet on the Western Front\\\" by Erich Maria Remarque, which takes place in trenches, and not in the sky, but that was the \\\"German\\\" vision on things, if one would like to be picky on such things.<br /><br />\\\"Journey's End\\\" is just the other side of the medal, and would have made it into a great movie, if they had left it alone and intact.<br /><br />The transfer on DVD is poor, even though in Widescreen and adapted for 16:9 TV screens, the quality of the film itself is that of a movie theater. Nothing more, nothing less. It sports various defects, such as minor scratches and dots, although the copy, for the rest, is clean.<br /><br />If you want another WWI movie in your collection, especially for those who love and enjoy to see aerial battles among old-timers, then this is a picture for you. But I rather would suggest \\\"Von Richthofen and Brown\\\" as an alternative, although that too, is a movie filled with inaccuracies.<br /><br />For the rest of you, who love good acting and drama, I would leave this one out. Buy the play. Go watch the play, if you have the chance to get a decent revival of it near you, but keep off this would-be adaptation.<br /><br />It is an anti-war movie, granted, but the weakest I have ever seen in my lifetime ever.<br /><br />The presence of actors such as Trevor Howard, Ray Milland, Richard Johnson and John Gielgud, is just a bluff, since they are just seen in very weak and very brief cameo roles throughout the movie.<br /><br />McDowell, the very talented Christopher Plummer, Simon Ward and Peter Firth, all deliver very weak performances, not due to their lack of skills, but rather due to lack of true and solid direction.<br /><br />There are too many gaps in it, and as said before, it drags itself to the dubious end. Dubious because in the original play, none of the men we come to know and sympathize with, stay alive. They are all killed in a fatal and futile mission. In the movie they all die, except Malcolm McDowell, who manages somehow to stay alive another day, being the wing commander of the unlucky bunch, just to receive another three pilots to fly and die for another lost cause.<br /><br />The end of the play leaves a bare stage in total darkness. You just hear the cannons roar, the machine guns rattle, and grenade impacts throughout the theater. Then, suddenly, total peace and silence. The curtain comes up. Lights. And here they all are. Lined up, standing straight and rigid. Obedient corpses...<br /><br />Far more interesting and far more shocking than \\\"Aces High\\\" finale, which is also dragged by the hair.<br /><br />It is up to you to judge.<br /><br />For me, if I had the money and the contacts to do so, I would take the play and develop it, the way it was meant. Adding here and there some action scene in the field, just to visualize the \\\"outer\\\" horror and slaughter going on in the \\\"vasty fields of France\\\", around the men involved, but then, just strictly concentrating on what is going on, in that tiny \\\"shack\\\" at the edge of sanity and the world...<br /><br />Want such a movie?<br /><br />Then ask for it.<br /><br />This is not it.\"\n",
      "* * * * * * * * * \n",
      "6341\n",
      "As someone who was staggered at the incredible visuals of \\Hero,\\\" I was anxious to see this film which was billed as being along the same lines, but better. It also featured an actress I like: Ziyi Zhang. Well, I was disappointed on both counts. I bought the DVD of this film sight-unseen, and that was a mistake. It was not better.<br /><br />I realize these flying-through-the-air martial arts films are pure fantasy but this story is stretched so far past anything remotely believable it just made me shake my head in disappointing disbelief. A blind woman defeating hundreds of opponents? Sorry, that's going a little far. Also, the major male character 'Jin\\\" (Takeshi Kaneshiro) was so annoying with his dialog, stupid look on his face and stupid laugh, that he ruined the film, too.<br /><br />Despite the wonderful colors and amazing action scenes, this story - to me - just didn't have an appeal to make it a movie worth owning. This film is no \\\"Hero\\\" of mine!\"\n",
      "* * * * * * * * * \n",
      "6470\n",
      "What can I say, this is a piece of brilliant film-making that should have won an Oscar. A copy should be kept safe in a secure vault for posterity. It should be required viewing for all high school students across the world. Sam Mraovich is a genius, perhaps the most genius writer/director/producer/chef/babysitter/walmart greeter to ever grace the cinema world with his art.<br /><br />Where do I begin with this one? Every millisecond of Ben and Arthur was so completely breathtaking! And Mraovich as Arthur, wow, he is so attractive I'm surprised he didn't go for Mr. Universe. I couldn't contain myself during the nude scene. I loaned this movie to my brother and he called me on the phone saying how Arthur's nude scene turned him gay. I am totally supportive of course, because of this film and it's beautifully crafted lessons in tolerance. Why just yesterday I burned down a church and I wrote \\for Sam and Arthur\\\" in its smoldering ashes.<br /><br />The cinematography was the best thing about this film. When that Fed-Ex plane took to the skies amid the palm trees of Vermont, I wept! Why, I never even knew they had palm trees in Vermont or that people could travel on Fed-Ex planes before this film. It opened my eyes to a new realm of possibilities. This film inspired me to enroll in Sam Mraovich's school of Screen writing, Acting, Directing, Composing, Casting, Producing, Production Design and Real Estate. I just want to say, \\\"Thank you, Mr. Mraovich. Thank you for bringing this creation into the world. We can never re-pay you enough.\\\"\"\n",
      "* * * * * * * * * \n",
      "6657\n",
      "One of the more 'literate' Lone Stars, with time spent on character development and interaction, dialog and acting business. The opening scene sets the stage (literally) for the personalities of the gambler, Kansas Charlie (Eddy Chandler), and his buddy, John Scott (John Wayne) the rodeo (say Roh-Day-oh) star, both of whom are slightly randy. The film follows their adventures, as they try to best each other in the pursuit of the Mexican Juanita, and later in their pursuit of perky Mary Kornman, who has the inevitable evil brother (though he'd been led astray by the real villain, and wants to repent). And oh, of course, they're being wrongly accused of two crimes and have to serve jail time before escaping and being exonerated at the end.<br /><br />The high point is Scott continually and deliberately ogling Mary's butt in her grocery store, and knocking away the ladder she's standing on so he can catch her and grab her as she falls. It all seems a little contemporary for a 30s western, but it sounds better than it actually is. <br /><br />Sadly, the exciting action elements we find in many other Lone Stars are sorely missing here. No Yakima Canutt. Cheap and bad uses of stock footage of riders falling off horses. No George Hayes. Tedious Stooge-like bi-play between Scott and Charlie, with Charlie swinging at Scott, Scott stomping on his foot and then punching him (repeated two more times!). The skilled Paul Fix is underused. Eddy Chandler himself, here in his big star turn, is not really believable as a randy side kick. The villain looks too old and fat. So does Chandler, who spent his later career in 300 more movies as an uncredited meatloaf. Mary Kornman, of the twenties \\Our Gang\\\" (see 'Mary, Queen of Tots' 1925) is cute in her scenes with John Wayne, but that's about it for this one. Seeds of a better western lie buried here.<br /><br />P.S. The ultra-short colorized version, which looks good, moves along so fast, it's over if you blink more than once. Thankfully though, the embarrassing scenes with Eddy Chandler have been cut.\"\n",
      "* * * * * * * * * \n",
      "7566\n",
      "Anna lives with her family in a new housing estate just outside the city. She has been with her husband Sebastiaan for years and they don't talk so much anymore. While on a working visit abroad, a female colleague commits suicide. Anna is deeply impressed by her death, even though she hardly knew her. Nobody seems to know why she took her own life. For the first time Anna realizes that one can be an unknown among your most dearest. Anna doesn't mention the incident back home and starts observing her husband and child. Guernsey is the story of a woman who suddenly starts looking at her own life. And she wonders how she got so drifted apart from the people closest to her.<br /><br />(This is my translation of the DVD cover text synopsis. I hope you find it useful, as this movie doesn't have an IMDb Plot Summary yet at this date.)\n",
      "* * * * * * * * * \n",
      "8850\n",
      "John Wayne & Albert Dekker compete for oil rights on Indian territory, and for the attention of Martha Scott in this Republic Pictures film shot out of Utah, USA.<br /><br />An interesting Western of sorts due to its characters and its more modern setting, with Wayne & Dekker playing the old and new factions of the West. It's based on a story by Thomson Burtis who co-writes the script along with Eleanore Griffin and Ethel Hill. Albert Rogell directs in the workmanlike way that befits his career. A pretty mundane story is in truth saved by its final third, where thankfully the action picks up and we are treated to something resembling a pulse. The light hearted approach to the romantic strand doesn't sit quite right, and a glorious fist fight between the two protagonists is ruined by Rogell being unable to disguise the stunt men doing the work. But hey, stunt men deserve their moment of glory always. Solid support comes from George 'Gabby' Hayes and Wayne as usual has much screen charisma, particularly when rattling off his pistol. But in spite of its better than usual Republic budget, it remains a film of interest only to 1940s Wayne enthusiasts. 4/10\n",
      "* * * * * * * * * \n",
      "9553\n",
      "I'm not a big fan of rom/coms at the best of times. A few have been quite good (check of Dream for an Insomniac), but this one is just more of the same but less.<br /><br />With a running time of 100min, I expect more than 1 laugh every 30mins. The only real belly laugh are when male strangers and friends instinctivly help out Lee's character.<br /><br />All I can say is AVOID. I gaurentee there is at least 10 other movies on the shelf that deserve you $$<br /><br />3 of out 10 (And only cos I'm a big Lee fan)\n",
      "* * * * * * * * * \n",
      "9601\n",
      "Just like last years event WWE New Years Revolution 2006 was headlined by an Elimination Chamber match. The difference between last years and this years match however was the entertainment value. In reality only three people stood a chance of walking out of the Pepsi Arena in Albany, New York with the WWE Championship. Those men were current champion John Cena, Kurt Angle and Shawn Michaels. There was no way Vinnie Mac would put the belt on any of the rookies; Carlito or Chris Masters. And Kane? Kane last held the WWE Championship in June 1998, and that was only for one night. It was obvious he wasn't going to be the one either. Last years match was a thrilling affair with six of the best WWE had to offer. 2006 was a predictable and disappointing affair but still the match of the night by far.<br /><br />The only surprise of the evening came after the bell had run on the main event. Out strolled Vince McMahon himself and demanded they lift the chamber. It was then announced that Edge was cashing in his money in the bank championship match right then and there. With no time to prepare and just off the back of winning the Elimination Chamber match John Cena did not stand a chance and dropped the title after a spear to one of the most entertaining heels in WWE. This was the only entertaining piece of action that happened all night.<br /><br />The undercard, like last year, was truly atrocious. Triple H and The Big Show put on a snore fest that had me struggling to stay away. HHH picked up the win but that was never in any real doubt was it? Any pay-per-view that has both Jerry Lawler and Viscera wrestling on the same card will never have any chance of becoming a success really does it. The King pinned Helms (who books this stuff?) and Big Vis tasted defeat against the wasted Shelton Benjamin with a little help from his Mama.<br /><br />The women of the WWE also had a busy night. There was the usual Diva nonsense with a Bra and Panties Gauntlet match which was won by Ashley and the Woman's Championship was also on the line. In a match, I thought would have been left to brew till WrestleMania 22 Mickie James challenged Trish Stratus in a good match. Trish won the contest but it was evident that this is going to continue for the foreseeable future.<br /><br />The opening contest of the night pitted soon to be WWE Champion Edge against Intercontinental Champion, Ric Flair. This could have been better but it was a battered and bloody Flair that retained after a disqualification finish. Edge obviously had bigger fish to fry.<br /><br />So New Years Revolution kicked off the 2006 pay-per-view calendar in disastrous fashion. The only good thing from that is knowing that for the WWE the only way is up. They don't get much worse than this.\n",
      "* * * * * * * * * \n",
      "9761\n",
      "Chesty gringo Telly Savalas (as Frank Cooper) is a US-Mexico \\Border Cop\\\". He serves as a father figure to young immigrant Danny De La Paz (as Benny Romero), who wants Mr. Savalas to be best man at his impending wedding. Savalas is tough, but boss Eddie Albert (as Commander Moffat) may be tougher. Tough is what you need to stop smuggler Michael V. Gazzo (as Chico Suarez). Alliances may be in flux.<br /><br />If you find the possibility of hearing \\\"Kojak\\\" and \\\"Oliver Douglas\\\" uttering expletives to be repulsive, you ought to steer clear of \\\"The Border\\\". If not, you may not have the stomach for the \\\"realistic\\\" cow slaughtering scene. Although it doesn't end up being worth much, Mr. De La Paz and Cecilia Camacho (as Leina) steal the show. <br /><br />** The Border (1979) Tony Richardson ~ Telly Savalas, Danny De La Paz, Eddie Albert\"\n",
      "* * * * * * * * * \n",
      "9958\n",
      "The main problem with the documentary \\Czech Dream\\\" is that isn't really saying what it thinks it's saying.<br /><br />In an audacious - I hesitate to use the word \\\"inspired\\\" - act of street theater, Vit Klusak and Filip Remunda, two student filmmakers from the Czech Republic, pulled off a major corporate hoax to serve as the basis for their movie: they deliberately fabricated a phony \\\"hypermarket\\\" (the Eastern European equivalent of Costco or Wal Mart Super Store), built an entire ad campaign around it - replete with billboards, radio and TV spots, an official logo, a catchy theme song and photos of fake merchandise - and then waited around to see just how many \\\"dopes\\\" would show up to their creation on opening day. They even built a makeshift façade to convince people that the store itself actually existed.<br /><br />One might well ask, \\\"Why do such a thing?\\\" Well, that's a very good question, but the answer the filmmakers provide isn't all that satisfying a one. Essentially, we're told that the purpose of the stunt was to show how easily people can be manipulated into believing something - even something that's not true - simply through the power of advertising. And the movie makers run for moral cover by claiming that the \\\"real\\\" (i.e. higher) purpose for the charade is to convince the Czech people not to fall for all the advertisements encouraging them to join the European Union. Fair enough - especially when one considers that the actual advertisers who agree to go along with the stunt declaim against the unethical nature of lying to customers, all the while justifying their collaboration in the deception by claiming it to be a form of \\\"research\\\" into what does and does not work in advertising. In a way, by allowing themselves to be caught on camera making these comments, these ad men and women are as much dupes of the filmmakers as the poor unsuspecting people who are the primary target of the ruse.<br /><br />But, in many ways, the satirical arrow not only does not hit its intended target, it ironically zeroes right back around on the very filmmakers who launched it. For it is THEY THEMSELVES and NOT the good-hearted and naturally trusting people who ultimately come off as the unethical and classless ones here, as they proceed to make fools out of perfectly decent people, some of them old and handicapped and forced to travel long distances on foot to get to the spot. And what is all this supposed to prove anyway? That people are \\\"greedy\\\" because they go to the opening of a new supermarket looking for bargains? Or that they're stupid and gullible because they don't suspect that there might not be an actual market even though one has been advertised? Such vigilance would require a level of cynicism that would make it virtually impossible to function in the real world.<br /><br />No, I'm afraid this smart-alecky, nasty little \\\"stunt\\\" only proves what complete and utter jerks the filmmakers are for making some really nice people feel like idiots. And, indeed many of them, when they finally discover the trick that's been played on them, react with a graciousness and good humor I'm not sure I would be able to muster were I to find myself in their position.<br /><br />I'm not saying that the movie isn't gripping - something akin to witnessing a massive traffic accident in action - but, when the dust has finally settled and all the disappointed customers return red-faced and empty-handed to their homes, we can safely declare that they are not the ones who should be feeling ashamed.\"\n",
      "* * * * * * * * * \n",
      "9968\n",
      "The story goes something like this: A small-town girl, Katie (Jessica Simpson), decides to visit her boyfriend in the big city. When she arrives she discovers he isn't quite as faithful as he should be. Katie then ends up venturing into the adventure that is New York. Filling in as bike messenger comedic and charming mishaps ensues. She falls into a hole in the ground and thus meets charismatic good-guy Ben (Luke Wilson). It's not love at first sight, at least for her, but destiny and Ben, won't give up quite that easy. Being \\just\\\" a small-town girl AND blonde a couple of evil executives at a building firm decides she's the perfect scapegoat for their cunning plan. Misunderstandings with hilarious and sad consequences follow. However, this is one blonde who won't take it lying down!<br /><br />People being judgmental of this film will soon enough be proved wrong. The jokes are confident and fitting, and the story well developed. The relationship between Katie and Ben feels so natural that it puts anything Godard has created to shame. The multi-talented Jessica Simpson once again surprises with a strong role only she could pull off. Simpson really is the Marilyn Monroe of our day (there's even one scene honoring her!). She balances perfectly between vulnerable and whimsy. Katie really does show us that you can't judge a book by its cover! Luke Wilson is as charming as ever. Even if he was covered in manure that man would be as appealing as anyone. His light touch, puppy dog eyes and laid back manner makes it difficult to resist. Andy Dick plays the role he was born to play, one of the two diabolical executives. He really cannot be underestimated. The strength of the performance lies in his restraint. It's remarkable, because most actors would just run away with it and play it for cheap laughs. Not this guy! <br /><br />In conclusion, director Scott Marshall has crafted an intelligent and frequently hilarious comedy that is destined to become a classic alongside masterpieces of cinema like Epic Movie and Norbit. Kudos to everyone involved in this, especially Jessica Simpson. Her sincere smile and whole-hearted laughter would make even the toughest man break out in a big grin. You may be tough, but you're not THAT tough! Warmly recommended to everyone who wants to be swept off their feet and see a romantic comedy that for once, feels honest. Thank you for this film! Oh, and the soundtrack rocks! <br /><br />Now if you still haven't gotten it. I'm being sarcastic. 1/10\"\n",
      "* * * * * * * * * \n",
      "10364\n",
      "I'm a big fan of Italian films from the seventies, and I wouldn't hesitate to list the beautiful Barbara Bouchet among my favourite actresses of all time, so I did go into this film with some hopes. However, it soon becomes apparent that this is a largely pointless film that isn't going to go anywhere. Clearly nobody would go into this expecting much more, but the fact that this is pointless gets more annoying when you consider that it's also rather dull and none of the characters are interesting. As the title suggests, the film focuses on a 'rogue'; in this case one that steals, womanises and smuggles stuff. That's basically all the plot that this movie has. The film does have a real 'seventies style' to it and the idea of it all being very carefree gets across well. It sometimes seems like directors Boro Draskovic and Gregory Simpson were trying to put across some sort of point, although whatever that point is doesn't come across very well. Seeing Barbara Bouchet on screen is always a pleasure, and that is the case here too; she's definitely the best thing about the film and the sequence in which she hangs out of a car naked is the best part of the film. Overall, The Rogue will probably have some appeal for people who love the seventies style, but unfortunately it doesn't have much else to offer.\n",
      "* * * * * * * * * \n",
      "10400\n",
      "This adaptation positively butchers a classic which is beloved for its subtlety. Timothy Dalton has absolutely no conception of the different nuances of Rochester's character. I get the feeling he never even read the book, just sauntered on set in his too tight breeches and was handed a character summary that read \\Grumpy, broody, murky past.\\\" He plays Rochester not as a character or as a real person but as an over the top grouch who never cracks a smile until after he gets engaged at which point he miraculously morphs into a pansy. There is no chemistry. The only feeling that this adaptation excited in me was incredulity and also sympathy for Charlotte Bronte who is most definitely turning in her grave. GO AND REREAD THE BOOK. ROCHESTER HAS A PERSONALITY. AND BY THE WAY: A \\\"PASSIONATE\\\" LOVE SCENE DOES NOT MEAN YOU HAVE TO EAT HER FACE.\"\n",
      "* * * * * * * * * \n",
      "11041\n",
      "One of the previous reviewers wrote that there appeared to be no middle ground for opinions of Love Story; one loved it or hated it. But there seems to be a remarkable distribution of opinions throughout the scale of 1 to 10. For me, this movie rated a 4. There are some beautiful scenes and locations, and Ray Milland turns in a fabulous job as Oliver's father. But the movie did not do a particularly compelling job of telling its story, and the story was not so unique as to warrant multiple viewings, at least, not for me. I may be a bit of a snob, but I tend to avoid movies with Ryan O'Neal -- I still haven't seen Barry Lyndon -- because most of them, but not all, are ruined for me by his presence. The lone exception is What's Up, Doc?, in which his straight performance is the perfect underlining for Barbra Streisand's goofball protagonist -- and, not coincidentally, he takes a shot at Love Story for good measure! McGraw and O'Neal tend to mug their lines, rather than act them.<br /><br />This movie is notable for the beginning of one fine career: it was Tommy Lee Jones's first movie.\n",
      "* * * * * * * * * \n",
      "11123\n",
      "David Mamet's film debut has been hailed by many as a real thinking-man's movie, a movie that makes you question everybody and everything. I saw it for the first time recently and couldn't understand what was supposed to be so great about it.<br /><br />The movie is about a female psychologist named Margaret who is also a best-selling author. Margaret has become disillusioned by her profession and her inability to really help anyone. She tries to rectify this by helping settle her patient's gambling debt to a shark named Mike (played by Joe Mantegna, who is the only reason to watch this film). She discovers that Mike is actually a professional confidence man when she nearly falls victim to a scam he pulls immediately after meeting her. Intrigued, she returns to see him and asks him to show her how con artists operate (she plans on using this as the subject of a new psychology book). She then falls for him and accompanies him on a long con that he and his associates have set up.<br /><br />I don't feel like going into details, but at the end of the film it is revealed that the events of the whole movie were an elaborate con by Mike and his cronies to swindle Margaret out of $80,000.<br /><br />First of all, the big twist towards the end was VERY predictable. Any scene where the con men were operating was made very obvious by the stagey acting and weird line reads. Not only that, but the audience (and the main character) knows that they're dealing with con men, so is it really such a big surprise when we find out that Margaret has herself been conned? Besides, Margaret is supposedly an intelligent psychologist who is an expert at reading people, yet she allows herself to be duped far too easily -- and keep in mind, she knows full well that Mike is a con artist.<br /><br />Secondly, we are led to believe that Margaret was conned from the very beginning, yet in order for the con to ultimately work, she had to do several things that the con men couldn't possibly have predicted that she would do. First, she had to decide to help settle her patient's debt, allowing her to meet the con men in the first place. If she hadn't done this, the entire con would have failed. I just have to say that it's pretty unreasonable to assume that a psychologist is going to take it upon herself to settle a patient's gambling debt. Not only that, but what are the odds that the con men would be at the right spot on the very night she decided to show up? Did they simply show up at that bar every night, hoping she would come and see them? Another thing that had to happen that couldn't have been predicted is that Margaret had to return to see Mike again and ask him to teach her the tricks of his trade. What are the odds of this happening? And yet the whole con is based on this premise.<br /><br />Another problem I had is with the ending. Margaret finds out she's been conned and decides to get revenge on Mike. At first, Mamet leads us to believe that she's going to con the con, but that falls through, so the ultimate ending is her gunning Mike down in an airport baggage area. Somehow that just felt like a clumsy and inept way to end a movie about con artists plying their trade. Not only that, but she didn't even take back the money he stole from her.<br /><br />Ultimately, the movie leaves you feeling empty and unfulfilled. And if you, like me, predicted ahead of time that Margaret was going to be conned, you will find this revelation just as unsatisfying.\n",
      "* * * * * * * * * \n",
      "11530\n",
      "The views of Earth that are claimed in this film to have been faked by NASA have recently been compared with the historical weather data for the time of Apollo 11, and show a good match between the cloud patterns in the video sequence and the actual rainfall records on the day.<br /><br />This would seem to undermine the entire argument put forward in the film that the \\whole Earth\\\" picture is actually a small part of the planet framed by the spacecraft window.<br /><br />I am waiting for Bart Sibrel to now claim that the historical weather data has been faked by NASA, though that would no doubt involve them in also replacing every archived newspaper copy with a weather map, and the ones in private hands would still be a problem.<br /><br />Ah, a response: \\\"Trying to discredit this movie by referring to NASA weather data I'd say is a charming, but weak and gullible argument. What about the rest of the footage and proofs in the movie? A certain wise man once said something about sifting mosquitoes and swallowing camels. Do you in any way feel that maybe this could apply to what you are trying to do here? :-) This movie is just packed with irrefutable evidence against the claim once made by U.S. government that the moon-missions were a success, and that man now are true masters of the universe. Things are nearly never quite what they seem.. Just watch the movie, and I dear say you'll see things a bit different than before.\\\"<br /><br />First off, weather data doesn't come from NASA, it comes for met agencies around the world. Second, the weather data undermines a major claim in the film. Third, far from being \\\"packed with irrefutable evidence\\\", the remaining claims in the film have been thoroughly debunked. Sibrel thought he had a previously secret piece of film, so he edited it and added his own interpretation. Unfortunately for him, his source film is public domain, and the bits Sibrel edited out contradict his claims.\"\n",
      "* * * * * * * * * \n",
      "11916\n",
      "I really looked forward to this program for two reasons; I really liked Jan Michael Vincent and I am an aviation nut and have a serious love affair with helicopters. I don't like this program because it takes fantasy to an unbelievable level. The world speed record for helicopters was set at 249 mph by a Westland Lynx several years ago. The only chopper that was ever faster was the experimental Lockheed AH56A in the 1960's. It hit over 300 and was a compound helicopter, which means it had a pusher propeller at the end of its fuselage providing thrust.<br /><br />In short, no helicopter can fly much over 275 because of the principle of rotary wing flight. And the Bell 222, the \\actor\\\" that portrayed Airwolf wasn't very fast even by helicopter standards. And it didn't stay in production very long.<br /><br />There was a movie that came out during this time period called \\\"Blue Thunder\\\" that was much more realistic.\"\n",
      "* * * * * * * * * \n",
      "12390\n",
      "In 1925, childhood friends Marie Dressler (as Maggie Warren) and Polly Moran (as Lizzie Praskins) oversee the wedding of their children, Anita Page (as Helen) and Norman Foster (as John). Before the celebration, Ms. Dressler turns the reigns of her small town bank over to her son, Mr. Foster. Six years later, the Great Depression brings many bank closures, and financial insecurity. Banker Foster is able to survive, due to mother Dressler's wise planning. But, Ms. Moran is worried about her fortune, and loudly demands a complete withdrawal. Other \\Warren Bank\\\" customers hear Moran's rant, and start questioning their own solvency. Soon, the family is in financial crisis.<br /><br />Dressler's huge critical and financial film hit \\\"Emma\\\" had been released early in the year, and MGM had to have wanted to get a new Dressler film out as soon as possible. Dressler's 1931 hits, \\\"Reducing\\\" and \\\"Politics\\\" were still making a lot of money; and, Dressler had become 1932's US #1 Box Office Star, according to the industry standard list compiled by Quigley Publications. \\\"Prosperity\\\" certainly celebrated Dressler's status, but the production appears uncharacteristically sloppy, and rushed. The cast does well, considering. Some more care in direction and editing, and some retakes, would have helped apparently, they needed it in theaters for the holidays.<br /><br />**** Prosperity (11/12/32) Sam Wood ~ Marie Dressler, Polly Moran, Anita Page, Norman Foster\"\n",
      "* * * * * * * * * \n",
      "12696\n",
      "Second-tier American leading man Guy Madison plays a character whose notoriety precedes him in this Spaghetti Western  which, having very modest credentials emerges as essentially routine (though featuring a nice enough score). The plot offers some mild interest: the title, incidentally, refers to a wounded man involved in the murderous assault by gun-runners on a ranch  the property of the family of their pursuer, cavalry agent Madison. The latter's younger siblings are determined that the injured party, now in their charge, lead them to the gang boss responsible; ultimately, the identity of either mystery man proves a surprise  and both, ironically, become involved with one of Madison's sisters (another is raped during the raid). Euro-Cult starlet Rosalba Neri appears unremarkably as a saloon hostess, and Madison's ex-flame.\n",
      "* * * * * * * * * \n",
      "12863\n",
      "The problems with this film are many, but I will try to mention the most glaring and bothersome ones. First of all, while the theme suggests a number of vignettes about Manhattan life, the reality was that everything, as usual in movies and TV, was about something bizarre, usually of a sexual nature. The story lines were thin or nonexistent, and virtually every scene, camera shot, line of dialog, and expressed emotion was absolutely, and totally fake. It finally reached a point after an hour of so of mind numbing garbage that I walked out (something no uncommon for me in recent years.) I would have guessed the fi9lm was directed by some wannabe auteur drop outs from some 3rd rate film studies program, but I believe the (at one time, pre-Amelia, talented)director Mira Nair took part in this disgusting travesty, so perhaps the directorial talent in America has descended en masse into the cesspool.\n",
      "* * * * * * * * * \n",
      "13277\n",
      "SEX WISH was actually released (minus ten minutes of more, ahem, 'extreme' footage) here in the UK back in the early days of the video boom, and caused a tabloid storm in a teacup when it allegedly inspired a copycat murder case. Strangely enough, the papers brushed this ultra-disturbing flick under the carpet in their headlong rush to get the comparatively innocuous likes of FROZEN SCREAM and NIGHT OF THE DEMON canned, and the film has been all but forgotten as a result. I jumped at the chance to watch it on a DVD-RW and spent most of the film's duration with my jaw on the floor. It's not so much politically incorrect as utterly demented, a triple-X take on Michael Winner's DEATH WISH (did the title kind of give the game away as far as inspiration was concerned?) with hardcore sex and some truly nasty violence thrown into an already bubbling brew of seventies sleaze. If you don't consider yourself to be squeamish, this may force you to think again. By the time SEX WISH is over, you'll want to scrub your eyeballs clean with disinfectant and take a long hot shower to purge yourself. If any film truly deserves the \\it's only a movie, only a movie, only a movie\\\" tag-line, it's this one.<br /><br />Highlights (or lowlights) - a rapist using a vibrator on a victim as he masturbates over her, Harry Reems's scene-stealing moustache, the helpless young black couple who are forced to screw in front the sword cane killer (they'd have won Oscars for their entirely credible performances if the Academy had gone mad) before the man is castrated for his troubles, and some jarringly slick direction that threatens to lift the proceedings above their obvious grind-house origins. Don't say I didn't warn you. If you thought the world was a more innocent place thirty years ago, SEX WISH will prove you very, very wrong.\"\n",
      "* * * * * * * * * \n",
      "13682\n",
      "This video guide was the masterpiece of the year 1995. Beautifully done! Matthew Perry and Jennifer Aniston have major on-screen chemistry when they talk about what the Start button does. I'm waiting for Microsoft to release a Special Edition DVD complete with deleted scenes, Bill Gates commentary, a documentary of how Windows 95 compares to Windows XP, and more!<br /><br />Overall: 10/10 (Should have won at least a Golden Globe)\n",
      "* * * * * * * * * \n",
      "14062\n",
      "Very strange but occasionally elegant exploitation movie with no real story, but benefiting from its stunningly ravishing lead actress and a handful of nice, gruesome make-up effects. Daniella is a beautiful twenty-something girl, carrying with her the trauma of being raped at the age of 13. Nightmares and hallucinations lead her further into believing she's the reincarnation of a female ancestor who was said to be a werewolf. She kills her brother-in-law during a nightly encounter and gets submitted in a hospital. She escapes again, however, and randomly devours more men whilst on the run for police detectives, doctors and relatives. It's all pretty to look at and listen too (really great soundtrack), but the absence of plot and continuity become irritating quite fast. Luckily enough, leading lady Annik Borel rarely ever wears clothes and she fills up the boring moments by dancing naked around a fire. The film is too long, too weird and too forgettable. The biggest surprise comes at the end, when suddenly and out of the blue, director Rino Di Silvestro tries to make us believe that his movie was based on true facts. Yeah, right...\n",
      "* * * * * * * * * \n",
      "14236\n",
      "Murders are occurring in a Texas desert town. Who is responsible? Slight novelties of mystery and racial tensions (the latter really doesn't fit), but otherwise strictly for slasher fans, who will appreciate the gore and nudity, which are two conventional elements for these films.<br /><br />Dana Kimmell (of FRIDAY THE 13TH PART 3 infamy) stars as the bratty quasi-detective teen.<br /><br />*1/2 out of ****<br /><br />MPAA: Rated R for violence and gore, nudity, and some language.\n",
      "* * * * * * * * * \n",
      "14247\n",
      "Extremely dull drama starring a very young Roddy McDowall, who trains a wild horse, the Flicka of the title, and is the only reason for watching the movie in the first place. Coated in blaring, overbearing music and weighed down by schmaltzy dialogue, this is one of those interminable films that bores you to the point of a gnawing headache. The naffly-titled sequel, 'Thunderhead, Son of Flicka', in which McDowall trains the next generation of nag, is marginally better than the original but the pace remains slow and the score continues to pummel you into submission, although there are at least one or two scenes that don't induce a coma.\n",
      "* * * * * * * * * \n",
      "14354\n",
      "The reason the DVD releases of this film are in black and white is because nobody can get their hands on a color print of this public domain film, a modest sea story at best.<br /><br />Distributed for television thru Allied Artists, DVD's (or VHS) on the market at this time for this title are all coming from the same 16MM television print. Films distributed for television prior to 1963 were often distributed in b/w prints, because the bulk of viewers did not have color sets anyway. Striking b/w prints for television was also cheaper, as it often involved quite a few prints to cover all stations running a film on a syndicated basis.\n",
      "* * * * * * * * * \n",
      "14641\n",
      "\\A stage company cast finds themselves terrified when a bizarre killer known as 'The Fiend' targets them for death. A pair of reporters and their clumsy photographer set out to work the story of 'The Fiend' and find themselves targets as well. Just as you think our trio of heroes has the case solved, you're thrown another twist that has you wondering who the killer really is,\\\" according to the DVD sleeve's synopsis.<br /><br />Taking \\\"The Hunchback of Notre Dame\\\" to Hollywood, producer Sam Katzman's lack of studio settings probably helps \\\"A Face in the Fog\\\" look interesting, especially toward the end (1930s traffic). The direction could be improved upon; for example, the camera angle on the fight scene is not helpful. The budget appears slight. Under the circumstances, most of the silent/talkie crossover cast perform it amiably.<br /><br />**** A Face in the Fog (2/1/36) Robert F. Hill ~ Lloyd Hughes, June Collyer, Al St. John\"\n",
      "* * * * * * * * * \n",
      "15053\n",
      "I still haven't gotten to see all of this; it's running on cable right now, and I seem to keep coming in on the middle of it. My main reason for being interested in it is that I'm a Bill Paxton fan; he's a pretty good actor, and has turned in consistently good work over the course of his career.<br /><br />The other thing is that, while never really a fan of the old series, I kinda liked Thunderbirds for the ships and effect work. Derek Meddings was quite possibly the best in the business during the sixties and seventies, and his designs for the International Rescue craft are wonderful. The current team has done a fine job of translating his work to the big screen.<br /><br />BUT...<br /><br />This is one lame story. The kids are asked to drive it, and while they do an okay job, it's hard to suspend your disbelief, especially when you have Brains' eight-year-old son flying T2, an enormous multi-ton transport with all the aerodynamics of a Buick. Everywhere you look, you see a Ford logo. Product placement is way over the top here, and it's annoying. Ben Kingsley does an good job as The Hood, but he can only do so much with a one-dimensional role. If you can accept the film on its very slim merits, Thunderbirds is a fun, enjoyable ride. Just don't look too closely at the machinery that drives it.<br /><br />ADDENDUM: I finally got to see all of this, and it's worse than I thought. The acting is fairly uniformly poor, and while the effects are fairly good, the story on multiple viewings has gotten cheesier. The overdone product placement for Ford is annoying, and the kids as central characters grate on my remaining nerves. As with The Avengers, if you ignore the source material, it's bearable. But not very. Watch the original show, and you'll see what I mean.<br /><br />And a word of advice to Jon Frakes. Take a refresher course at the Director's Guild. You can do better than this, old friend.<br /><br />Another footnote...<br /><br />I saw this again. Last night. On Telemundo. Dubbed in Spanish, with cheesy comedy sound effects. And yes, I came in roughly in the middle, with Ben, Ron and Sophia in their fight scene on Tracy Island. <br /><br />I didn't think it was possible for an already lame movie to be worse, but it was. It was embarrassingly bad. <br /><br />If this had been done straight, no kids-to-the-rescue, no tongue-in-cheek jokes, it might have worked. As it is, it's just another beloved childhood joy that's been ruined.\n",
      "* * * * * * * * * \n",
      "15728\n",
      "I thought that Zombie Flesh Eaters 2 was quite a good horror film When a terrorist's body, infected with a stolen chemical, is recovered by the US military, the corpse is then cremated, releasing the virus into the atmosphere over a small island. Soon the infected locals turn into flesh-hungry zombies, and a group of soldiers on leave must team up with a group of tourists and board themselves up in a abandoned hotel as they try to fight off the aggressive living dead. I did not find this film to be as good as the original film, Zombie Flesh Eaters. But it was still an OK horror film with some good action. I did not think that it was one of the best in the series. 4/10\n",
      "* * * * * * * * * \n",
      "16248\n",
      "This is an interesting idea gone bad. The hidden meanings in art left as clues by a serial killer sounds intriguing, but the execution in \\Anamorph\\\" is excruciatingly slow and without much interest. There is no other way to describe the film except boring. The death clues are the only interesting part of \\\"Anamorph\\\". Everything connecting them is tedious. Willem Dafoe gives a credible performance as the investigator, but he has little to do with a script that is stretched to the limit. Several supporting character actors are wasted , including Peter Stormare as the art expert, James Rebhorn as the police chief, Paul Lazar as the medical examiner, and most notably Deborah Harry, who is featured on the back of the DVD case, yet only has a couple lines spoken through a cracked door. Not recommended. - MERK\"\n",
      "* * * * * * * * * \n",
      "16292\n",
      "I have yet to read a negative professional review of this movie. I guess I must have missed something. The beginning is intriguing, the three main characters meet late at night in an otherwise empty bar and entertain each other with invented stories. That's the best part. After the three go their separate ways, the film splits into three threads. That's when boredom sets in. Certainly, the thread with the Felliniesque babushkas who make dolls out of chewed bread is at first an eye opening curiosity. Unfortunately, the director beat this one to death, even injecting a wild plot line that leads nowhere in particular. Bottom line: a two-hour plot-thin listlessness. If you suffer from insomnia, view it in bed and you will have a good night sleep.\n",
      "* * * * * * * * * \n",
      "16719\n",
      "Who in the world told Harrison Ford that this was a good role for him???<br /><br />And Josh Hartnett...how does a 19 year old who can't fire a gun become a cop? Over used cliches plus zero character development and about 15 pointless music industry cameos equal a surprisingly bad film!!!\n",
      "* * * * * * * * * \n",
      "16947\n",
      "You can tell a Lew Grade production a mile off  distinctly British in style; epic in conception; peopled by international all-star casts; usually set in exotic climes. It's a formula that Grade and his company ITC employed throughout the 70s into the early 80s, resulting in titles like The Eagle Has Landed, Firepower, and Raise The Titanic! In 1977 Grade produced March Or Die, a remarkably old-fashioned Foreign Legion adventure that models all the characteristics mentioned above. Directed by the usually dependable Dick Richards  who helmed the acclaimed Farewell My Lovely just a couple years earlier - March Or Die is an unfortunate disappointment.<br /><br />A company of Foreign Legionnaires led by the harsh disciplinarian General Foster (Gene Hackman) is sent to Morocco shortly after World War 1. Their mission is to protect an archaeological party fronted by the dedicated Francois Marneau (Max Von Sydow). The archaeologists are carrying out an excavation at the ancient city of Erfoud, but fear an attack from Arab tribesmen following the decimation of an earlier archaeological group. Foster is not happy with the assignment  he does not consider historical artifacts worthy of his men risking their lives. This creates ongoing tension between himself and Marneau, who believes that the legionnaires should sacrifice their lives to make the excavation possible. The problems heighten when a beautiful woman named Simone Picard (Catherine Deneuve) tags along with the legionnaires. She is hoping to find out what happened to her father, a historian abducted by the Arabs when they wiped out the first archaeological team. Her presence arouses desires amongst the legionnaires, none more so than gypsy thief Marco Segrain (Terence Hill), a charming and courageous rogue who initially shows indifference towards his legionnaire colleagues but gradually grows in stature. Things climax with a huge battle at Erfoud, with swarms of united Arab tribes charging against the handful of legionnaires as they desperately try to defend their lives.<br /><br />On paper the star duo of Gene Hackman and Terence Hill seem a mismatch  Hackman is the heavyweight Oscar-winning character actor, Hill the handsome but limited Italian heart-throb from numerous low budget spaghetti westerns. One expects Hackman to act his counterpart off the screen. Yet, bizarrely, it is Hackman who gives the weak and uninvolving performance, while Hill raises his game to surprisingly high levels. The film is attractively shot on desert locations, but the pacing is awfully slow and few of the characters are worth caring for. Maurice Jarre's music is uncommonly flat too  very disappointing from the guy who gave us the Lawrence Of Arabia score. It is remarkable that anyone had the nerve to try an old-fashioned adventure of this type in the 70s (it was a genre that peaked in the 30s, and had been all but forgotten during the intervening decades). Sadly, the gamble doesn't really pay off  this homage to the legionnaire flicks of old becomes more of a plod than a march.\n",
      "* * * * * * * * * \n",
      "17263\n",
      "I would not consider myself as one of Leonard Cohen's greatest fans. He does however feature as an important poet / musician in my literary / musical heritage. By far the most valuable element in this documentary is to hear Leonard's reflections on his own life and career. Warming and humble. <br /><br />Unfortunately the most of the musicians featured in the concert didn't converse the nuances of Leonard's musical / literary manner. Nick Cave, Jarvis Cocker & Beth Orton were the exceptions, even though Leonard highly values Rufus Wainrights interpretations of his songs.<br /><br />What particularly failed in this documentary was the ability of the filmmaker to allow the viewer to see who Leonard Cohen is and how these musicians connect to him. A lot is said in this respect, but the viewer is not drawn into the person Leonard Cohen. This failing is especially evident with the interviews with Bono and the Edge. They view Leonard as a special icon, but can't translate their exact value of Leonard Cohen. The collaboration with U2 is a farce. The entire live registration looks like a rushed job. And just as in the whole film, only Leonard Cohen remains his part and can tell about his own part.<br /><br />The entire montage and screenplay is much like a high school extramural project. The use of effects such as echo, slow-motion or flashed images are ill placed. Some of the camera-work is dismal. Part of the score hardly recalls any associations I may have expected. At times it seemed the filmmaker was adding psychotic elements to the film. Perhaps a reference to his once use of LSD.<br /><br />Some unintentional humor ... at some point Leonard tells how he influenced a musical genre. Initially he can't recall the genre's name, until eventually he says it was punk, the punksters really picked up on his music. The next scene in the film is a live cover of 'I can't forget' ...<br /><br />\\And I can't forget, I can't forget I can't forget but I don't remember who\\\"\"\n",
      "* * * * * * * * * \n",
      "17513\n",
      "Unfortunately this film, 54 was a pathetic attempt of the true story of 'Studio 54.' The only thing that was good about the picture was 'Mike Myers' who was a joy to watch. 'Neve Cambpell,' although her role was little was unfortunately bad. The bottom line is that this film lacked a good performance from the actors, except one and that the conversion of the true story was a desperate attempt for a good screenplay.\n",
      "* * * * * * * * * \n",
      "17585\n",
      "After a few lean years, 1968 was a pretty swell time for Elvis: not only did he make that celebrated \\Comeback\\\" TV Special but he also became a father and starred in two pretty decent movies as well  SPEEDWAY and LIVE A LITTLE, LOVE A LITTLE. Therefore, personally I can forgive him for the misstep that was STAY AWAY, JOE which, at best, emerges as an interesting misfire and is not all that bad considering. Sure, Burgess Meredith and Joan Blondell are indeed embarrassing  as, respectively, a dopey Indian father to Elvis' character and a bawdy bartender who has her eye on Mr. Presley too - but one is glad to see Elvis surrounded by top veteran Hollywood talent like Katy Jurado (as Meredith's Mexican wife), the two Jones  Henry and L.Q. - and Thomas Gomez who is particularly amusing as sarcastic Chief Thundercloud who is Meredith's stubborn father still donning his old chieftain clothes in the present day! <br /><br />While there is a surprising (if not unwelcome given their usual blandness) lack of songs, there seems to be no shortage of free-for-all parties were the male Indians hit the bottle steadily while Presley practices his womanizing skills behind their backs! As can be expected, the typically 'Western' Arizona scenery is a major asset here and the sleepy, snoring bull gag is not only a good one but a major plot point. On the other hand, the climactic 'destruction of the house' episode is one we've seen too often since and doesn't work too well here...\"\n",
      "* * * * * * * * * \n",
      "18156\n",
      "I must say, when I read the storyline on the back of the case, It sounded really interesting, but when I started to watch the movie seemed boring at first and even more at the end. Some scenes are way too long and the story has not been worked out properly.\n",
      "* * * * * * * * * \n",
      "18188\n",
      "This movie was craptacular. I was so emotionally uninvolved in every single character that the movies' biggest antagonist was, in fact, myself. I played it beautifully throughout; promising myself I would walk away, but only drinking another beer hoping it would auto-magically transform into something engrossing along the way. Even in this state, I couldn't help but notice that Cuba's acting was as flimsy as tracing paper. His obsessive dedication to his job was unconvincingly done as well as his one night binge after the failure of his own idiot standards. Burt came on the screen as a General, that's right, a General (who wears too much makeup). I fell into a frighteningly fast binge to rival Cuba's, except mine was real and I stubbed my toe. Recompense! Recompense my stubbed toe!\n",
      "* * * * * * * * * \n",
      "18199\n",
      "This film was a critical and box-office fiasco back in 1957. It was based on a novel which was later turned into a play--which flopped on Broadway. The story is about some navy officers on leave in San Francisco during WWII. They have 4 day's leave which they spend at the Mark Hopkins hotel. The film meanders a lot and none of the characters seem very real. Cary Grant is generally brilliant in comedy and drama--but here he plays a sort of wheeler dealer and he doesn't really pull it off. Tony Curtis or James Garner would have been better choices. Audrey Hepburn was initially set to play opposite Grant, but had other commitments--so Suzy parker stepped in. She had never acted before, but was America's top photographic model at the time. I think that she did a good job, considering all the pressure that she was under. Grant's pairing with Jayne Mansfield in a few brief scenes--did not really work. The Studio was trying to give her some class by acting with Grant--but the character had no substance at all.\n",
      "* * * * * * * * * \n",
      "18665\n",
      "The number of goofs in this episode was higher than the first 9. They don't follow their own rules about spirits where destruction of the body makes the spirit dissolve. This one dropped a second body. That body, and Dean, drop about 20 feet from Sam but then they are right with Sam. Flashlights go out in an unlighted asylum, at night, and we can still see everything. It's night but light is streaming through the windows. A ghost that died in 1960's is making cell phones calls? Come on! There is no way Sam could get a psychiatrist to see him in the same day he makes an appointment and the doctor talks to Sam like it wasn't his first visit. Sam and Dean knew there were other bodies in the asylum and innocent spirits still lurking and didn't do anything to help them. That doesn't seem like a thing the Winchester boys would do. Oh and after crawling around on a dirt filled mattress and all around a nasty asylum the girls' makeup and hair is perfect and not a smudge on her white shirt. <br /><br />While the implementation of this episode had problems the premise was good and a few times I was not creeped out but nervous as Dean sat reading Elicots' journal. I just knew that an object so intensely personal to the ghost would draw it to the person violating it's sanctity. Elicot didn't appear. Maybe that is a fault for such an important object or place (like Elicot's office) should draw the spirit when a living being touches or enters. When they separate I want to scream... 'that's how you die! Always stay together and watch each others backs!' but they don't listen to me :o The Elicot spirit and his special ability was a very nice touch. It's prime-time show but I do wish the horror of Elicot strapping one of his victims down and using anticipation of torture to creep us out further.<br /><br />Especially because of the lighting goofs I gave this a 4. Sudden darkness or the flickering of the whole scene's lighting as the flashlight flickers is all that more terrifying. The lighter coming or the flashlight reviving and instantly a spirit is in their face is shocking. I understand the directors wants us to see his scene but then make a mention or obvious connection by Elicot touching an electric socket and the lights coming on. Have the characters respond to the fact an asylum with no power suddenly has lights in the one room. Blue white lights flickering as electric arcs just like Elicot's finger power. <br /><br />Seriously, MCG could have done better.\n",
      "* * * * * * * * * \n",
      "18905\n",
      "What I found so curious about this film--I saw the full 4 hour roadshow version, is how oddly dispassionate it is. For a film about 2 very charismatic men--Castro and Che, engaged in a gargantuan political struggle, it's almost totally devoid of emotional fire. The scenes between Benicio Del Toro and Demian Bichir (who is at best a second level actor,with a slightly high pitched voice) have no drama or depth and basically come down to Castro telling Che: go here, go there, do this and that, with no explanation as to what effect or use this action will result in. Odder still is there is an actor in the cast who has the requisite power to play Castro--Joaquim de Almeida, but he's shunted aside in a minor part in the second half. Without the tension or passion that you would expect to fire these men and their followers, the film becomes a dullish epic-length film about hairy, bearded men running through various jungles shouting and shooting to no particular purpose or end. Several of the reviews I've read showered praise on the work of director Steven Soderbergh while ignoring the actors almost completely. (One in fact spent more time talking about Soderbergh's new digital film camera than the plot or actors or the fact that it's entirely in Spanish with English subtitles.)This is an odd, odd thing to do since a) Soderbergh was only a hired gun on the film and b) it's no more than a competent job of work, with an unremarked upon nod to Oliver Stone's JFK in the black and white cut up camera-work when Che visits New York. If you can imagine Reds directed by Andrew McLaglen instead of Warren Beatty, you'd get an idea of the dull competency of this movie.\n",
      "* * * * * * * * * \n",
      "19159\n",
      "Granting the budget and time constraints of serial production, BATMAN AND ROBIN nonetheless earns a place near the bottom of any \\cliffhanger\\\" list, utterly lacking the style, imagination, and atmosphere of its 1943 predecessor, BATMAN.<br /><br />The producer, Sam Katzman, was known as \\\"King of the Quickies\\\" and, like his director, Spencer Bennett, seemed more concerned with speed and efficiency than with generating excitement. (Unfortunately, this team also produced the two Superman serials, starring Kirk Alyn, with their tacky flying animation, canned music, and dull supporting players.) The opening of each chapter offers a taste of things to come: thoroughly inane titles (\\\"Robin Rescues Batman,\\\" \\\"Batman vs Wizard\\\"), mechanical music droning on, and our two heroes stumbling toward the camera looking all around, either confused or having trouble seeing through their cheap Halloween masks. Batman's cowl, with its devil's horns and eagle's beak, fits so poorly that the stuntman has to adjust it during the fight scenes. His \\\"utility belt\\\" is a crumpled strip of cloth with no compartments, from which he still manages to pull a blowtorch and an oxygen tube at critical moments!<br /><br />In any case, the lead players are miscast. Robert Lowery displays little charm or individual flair as Bruce Wayne, and does not cut a particularly dynamic figure as Batman. He creates the impression that he'd rather be somewhere, anywhere else! John Duncan, as Robin, has considerable difficulty handling his limited dialogue. He is too old for the part, with an even older stuntman filling in for him. Out of costume, Lowery and Duncan are as exciting as tired businessmen ambling out for a drink, without one ounce of the chemistry evident between Lewis Wilson and Douglas Croft in the 1943 serial.<br /><br />Although serials were not known for character development, the earlier BATMAN managed to present a more energetic cast. This one offers a group going through the motions, not that the filmmakers provide much support. Not one of the hoodlums stands out, and they are led by one of the most boring villains ever, \\\"The Wizard.\\\" (Great name!) Actually, they are led by someone sporting a curtain, a shawl, and a sack over his head, with a dubbed voice that desperately tries to sound menacing. The \\\"prime suspects\\\" -- an eccentric professor, a radio broadcaster -- are simply annoying.<br /><br />Even the established comic book \\\"regulars\\\" are superfluous. It is hard to discern much romance between Vicki Vale and Bruce Wayne. Despite the perils she faces, Vicki displays virtually no emotion. Commissioner Gordon is none-too-bright. Unlike in the previous serial, Alfred the butler is a mere walk-on whose most important line is \\\"Mr Wayne's residence.\\\" They are props for a drawn-out, gimmick-laden, incoherent plot, further saddled with uninspired, repetitive music and amateurish production design. The Wayne Manor exterior resembles a suburban middle-class home in any sitcom, the interiors those of a cheap roadside motel. The Batcave is an office desperately in need of refurbishing. (The costumes are kept rolled up in a filing cabinet!)<br /><br />Pity that the filmmakers couldn't invest more effort into creating a thrilling adventure. While the availability of the two serials on DVD is a plus for any serious \\\"Batfan,\\\" one should not be fooled by the excellent illustrations on the box. They capture more of the authentic mood of the comic book than all 15 chapters of BATMAN AND ROBIN combined.<br /><br />Now for the good news -- this is not the 1997 version!\"\n",
      "* * * * * * * * * \n",
      "19226\n",
      "C'mon guys some previous reviewers have nearly written a novel commenting on this episode. It's just an old 60's TV show ! This episode of Star Trek is notable because of the most serious babe (Yeoman Barrow's) ever used on Star Trek and the fact that it was filmed in a real outdoor location. Unlike the TNG and Voyager series which were totally confined to sound stages.<br /><br />This use of an outdoor location (and babe) gives proper depth and an almost film like quality to a quite ordinary episode of this now dated and very familiar show.<br /><br />Except a few notable exceptions i.e \\The city on the edge of forever\\\" , \\\"assignment Earth\\\" and \\\"Tomorrow is Yesterday\\\" The old series of Star Trek needs to be seriously moth-balled and put out of it's boring misery. Half a dozen good episodes from 79 is quite a poor batting average.<br /><br />This is typical of the boring stuff Gene Roddenberry produced back then actually, contrary to popular belief where some people worshiped the ground he walked on, he actually made a LOT of rubbish! He doesn't deserve to be spoken of in the same breath as Irwin Allen for example.<br /><br />Just look at the set of the bridge of the Enterprise from a modern point of view. They used wobbly plywood for the floor, cafeteria chairs with plastic backs and cheap cardboard above the instrument panels. You can clearly see the folds in the paper ! Every expense spared or what !\"\n",
      "* * * * * * * * * \n",
      "19348\n",
      "I first saw the live musical at the Denver Center For The Performing Arts and it was absolutely mind-blowing, Stunning and had such fantastic continuity of plot and dialogue that I liked it much more than most musicals that I have seen on the stage. The interesting thing is that you NEVER got to see Zach's face. He was always in the dark but his presence was powerful and guided the direction of entire production. Whe I heard they were making a movie from it, I waited with bated breath, but when I watched the movie version I was so bummed-out disappointed that I felt I was cheated. The movie lacks the captivating mood set in the live production and it never allows you to be completely in close touch with every character. Personally, I would like to see the live version again and if that should ever be revived, I would wholeheartedly recommend that you go out of your way to see it. It will be one of the most memorable experiences you will enjoy.\n",
      "* * * * * * * * * \n",
      "19638\n",
      "My complaints here concern the movie's pacing and the material at hand. While using archival film and letters lends the film a fresh and interesting perspective, too often the material selected to highlight simply isn't very interesting (such as when Goebbels complains about this or that ailment, &tc., or the ad nauseam footage of his small German hometown). Also, the movie crawls along in covering c. 1920-1939 and then steams through the war years. In sum, the film is little better than a History Channel documentary, with the exception that the filmmaker has a slightly greater sensibility than your average History Channel documentary editor and thus can more artfully arrange the details of Goebbels' life. Still, I found it wanting.\n",
      "* * * * * * * * * \n"
     ]
    }
   ],
   "source": [
    "# false positives\n",
    "\n",
    "print(\"Examples of false positives:\")\n",
    "\n",
    "import random, time\n",
    "\n",
    "for i in range(0, len(rdf_predictions)):\n",
    "    if (rdf_predictions[i] == 1):\n",
    "        if (X_raw_train.iloc[i]['sentiment'] == 0):\n",
    "            if (random.uniform(0, 1) < 0.05): # to print only 5% of the false positives\n",
    "                print(i)\n",
    "                print(X_raw_train.iloc[i]['review'])\n",
    "                print('* * * * * * * * * ')"
   ]
  },
  {
   "cell_type": "markdown",
   "metadata": {},
   "source": [
    "---\n",
    "\n",
    "# <span style=\"color:red\">WARNING: Don't look at test set performance too much!</span>\n",
    "\n",
    "---\n",
    "\n",
    "The following cells show performance on your test set. Do not look at this too often! "
   ]
  },
  {
   "cell_type": "markdown",
   "metadata": {},
   "source": [
    "# Look at performance on the test set"
   ]
  },
  {
   "cell_type": "markdown",
   "metadata": {},
   "source": [
    "### MODEL: ordinary least squares"
   ]
  },
  {
   "cell_type": "code",
   "execution_count": 197,
   "metadata": {},
   "outputs": [
    {
     "name": "stdout",
     "output_type": "stream",
     "text": [
      "{'Pos': 2566, 'Neg': 2434, 'TP': 2155, 'TN': 2047, 'FP': 387, 'FN': 411, 'Accuracy': 0.8404, 'Precision': 0.8477576711250984, 'Recall': 0.8398285268901013, 'desc': 'ols_test'}\n"
     ]
    }
   ],
   "source": [
    "ols_performance_test = BinaryClassificationPerformance(ols.predict(X_test), y_test, 'ols_test')\n",
    "ols_performance_test.compute_measures()\n",
    "print(ols_performance_test.performance_measures)"
   ]
  },
  {
   "cell_type": "markdown",
   "metadata": {},
   "source": [
    "### MODEL: SVM, linear"
   ]
  },
  {
   "cell_type": "code",
   "execution_count": 198,
   "metadata": {},
   "outputs": [
    {
     "name": "stdout",
     "output_type": "stream",
     "text": [
      "{'Pos': 2566, 'Neg': 2434, 'TP': 2159, 'TN': 2027, 'FP': 407, 'FN': 407, 'Accuracy': 0.8372, 'Precision': 0.8413873733437256, 'Recall': 0.8413873733437256, 'desc': 'svm_test'}\n"
     ]
    }
   ],
   "source": [
    "svm_performance_test = BinaryClassificationPerformance(svm.predict(X_test), y_test, 'svm_test')\n",
    "svm_performance_test.compute_measures()\n",
    "print(svm_performance_test.performance_measures)"
   ]
  },
  {
   "cell_type": "markdown",
   "metadata": {},
   "source": [
    "### MODEL: logistic regression"
   ]
  },
  {
   "cell_type": "code",
   "execution_count": 199,
   "metadata": {},
   "outputs": [
    {
     "name": "stdout",
     "output_type": "stream",
     "text": [
      "{'Pos': 2566, 'Neg': 2434, 'TP': 2137, 'TN': 2014, 'FP': 420, 'FN': 429, 'Accuracy': 0.8302, 'Precision': 0.8357450136879155, 'Recall': 0.8328137178487919, 'desc': 'lgs_test'}\n"
     ]
    }
   ],
   "source": [
    "lgs_performance_test = BinaryClassificationPerformance(lgs.predict(X_test), y_test, 'lgs_test')\n",
    "lgs_performance_test.compute_measures()\n",
    "print(lgs_performance_test.performance_measures)"
   ]
  },
  {
   "cell_type": "markdown",
   "metadata": {},
   "source": [
    "### MODEL: Naive Bayes"
   ]
  },
  {
   "cell_type": "code",
   "execution_count": 200,
   "metadata": {},
   "outputs": [
    {
     "name": "stdout",
     "output_type": "stream",
     "text": [
      "{'Pos': 2566, 'Neg': 2434, 'TP': 1884, 'TN': 1796, 'FP': 638, 'FN': 682, 'Accuracy': 0.736, 'Precision': 0.7470261697065821, 'Recall': 0.7342166796570537, 'desc': 'nbs_test'}\n"
     ]
    }
   ],
   "source": [
    "nbs_performance_test = BinaryClassificationPerformance(nbs.predict(X_test), y_test, 'nbs_test')\n",
    "nbs_performance_test.compute_measures()\n",
    "print(nbs_performance_test.performance_measures)"
   ]
  },
  {
   "cell_type": "markdown",
   "metadata": {},
   "source": [
    "### MODEL: Perceptron"
   ]
  },
  {
   "cell_type": "code",
   "execution_count": 201,
   "metadata": {},
   "outputs": [
    {
     "name": "stdout",
     "output_type": "stream",
     "text": [
      "{'Pos': 2566, 'Neg': 2434, 'TP': 2158, 'TN': 2008, 'FP': 426, 'FN': 408, 'Accuracy': 0.8332, 'Precision': 0.8351393188854489, 'Recall': 0.8409976617303195, 'desc': 'prc_test'}\n"
     ]
    }
   ],
   "source": [
    "prc_performance_test = BinaryClassificationPerformance(prc.predict(X_test), y_test, 'prc_test')\n",
    "prc_performance_test.compute_measures()\n",
    "print(prc_performance_test.performance_measures)"
   ]
  },
  {
   "cell_type": "markdown",
   "metadata": {},
   "source": [
    "### MODEL: Ridge Regression Classifier"
   ]
  },
  {
   "cell_type": "code",
   "execution_count": 202,
   "metadata": {},
   "outputs": [
    {
     "name": "stdout",
     "output_type": "stream",
     "text": [
      "{'Pos': 2566, 'Neg': 2434, 'TP': 2074, 'TN': 1941, 'FP': 493, 'FN': 492, 'Accuracy': 0.803, 'Precision': 0.8079470198675497, 'Recall': 0.8082618862042089, 'desc': 'rdg_test'}\n"
     ]
    }
   ],
   "source": [
    "rdg_performance_test = BinaryClassificationPerformance(rdg.predict(X_test), y_test, 'rdg_test')\n",
    "rdg_performance_test.compute_measures()\n",
    "print(rdg_performance_test.performance_measures)"
   ]
  },
  {
   "cell_type": "markdown",
   "metadata": {},
   "source": [
    "### MODEL: Random Forest Classifier"
   ]
  },
  {
   "cell_type": "code",
   "execution_count": 203,
   "metadata": {},
   "outputs": [
    {
     "name": "stdout",
     "output_type": "stream",
     "text": [
      "{'Pos': 2566, 'Neg': 2434, 'TP': 1652, 'TN': 2091, 'FP': 343, 'FN': 914, 'Accuracy': 0.7486, 'Precision': 0.8280701754385965, 'Recall': 0.6438035853468433, 'desc': 'rdf_test'}\n"
     ]
    }
   ],
   "source": [
    "rdf_performance_test = BinaryClassificationPerformance(rdf.predict(X_test), y_test, 'rdf_test')\n",
    "rdf_performance_test.compute_measures()\n",
    "print(rdf_performance_test.performance_measures)"
   ]
  },
  {
   "cell_type": "markdown",
   "metadata": {},
   "source": [
    "### ROC plot to compare performance of various models and fits"
   ]
  },
  {
   "cell_type": "code",
   "execution_count": 204,
   "metadata": {},
   "outputs": [
    {
     "data": {
      "image/png": "[encoded data removed]",
      "text/plain": [
       "<Figure size 640x480 with 1 Axes>"
      ]
     },
     "metadata": {},
     "output_type": "display_data"
    }
   ],
   "source": [
    "fits = [ols_performance_test, svm_performance_test, lgs_performance_test, nbs_performance_test, prc_performance_test, rdg_performance_test, rdf_performance_test]\n",
    "\n",
    "for fit in fits:\n",
    "    plt.plot(fit.performance_measures['FP'] / fit.performance_measures['Neg'], \n",
    "             fit.performance_measures['TP'] / fit.performance_measures['Pos'], 'bo')\n",
    "    plt.text(fit.performance_measures['FP'] / fit.performance_measures['Neg'], \n",
    "             fit.performance_measures['TP'] / fit.performance_measures['Pos'], fit.desc)\n",
    "plt.axis([0, 1, 0, 1])\n",
    "plt.title('ROC plot: test set')\n",
    "plt.xlabel('False positive rate')\n",
    "plt.ylabel('True positive rate')\n",
    "plt.show()"
   ]
  },
  {
   "cell_type": "markdown",
   "metadata": {},
   "source": [
    "---\n",
    "\n",
    "# <span style=\"color:red\">SUBMISSION</span>\n",
    "\n",
    "---"
   ]
  },
  {
   "cell_type": "code",
   "execution_count": 205,
   "metadata": {},
   "outputs": [
    {
     "name": "stdout",
     "output_type": "stream",
     "text": [
      "movie_data is: <class 'pandas.core.frame.DataFrame'>\n",
      "movie_data has 25000 rows and 2 columns \n",
      "\n",
      "the data types for each of the columns in movie_data:\n",
      "id        object\n",
      "review    object\n",
      "dtype: object \n",
      "\n",
      "the first 10 rows in movie_data:\n",
      "         id                                             review\n",
      "0  12311_10  Naturally in a film who's main themes are of m...\n",
      "1    8348_2  This movie is a disaster within a disaster fil...\n",
      "2    5828_4  All in all, this is a movie for kids. We saw i...\n",
      "3    7186_2  Afraid of the Dark left me with the impression...\n",
      "4   12128_7  A very accurate depiction of small time mob li...\n",
      "Shape of HashingVectorizer X:\n",
      "(25000, 131072)\n",
      "Look at a few rows of the new quantitative features: \n",
      "   word_count  punc_count\n",
      "0         131           5\n",
      "1         169          15\n",
      "2         176          18\n",
      "3         112           5\n",
      "4         133           8\n",
      "5         331          20\n",
      "6         121          18\n",
      "7         230          22\n",
      "8          59           3\n",
      "9         224          14\n",
      "Size of combined bag of words and new quantitative variables matrix:\n",
      "(25000, 131074)\n",
      "(25000, 131074)\n",
      "Shape of X_test for submission:\n",
      "(25000, 131074)\n",
      "SUCCESS!\n",
      "Number of rows in the submission test set (should be 25,000): \n"
     ]
    }
   ],
   "source": [
    "# read in test data for submission\n",
    "# CHANGE FILE PATH and my_random_seed number (any integer other than 74 will do): \n",
    "raw_data, X_test_submission = process_raw_data(\n",
    "    fn='/Users/wuyuming/Desktop/Project/machine learning/YuMingWu_ml-master/final_assignment_1/moviereviews_test.tsv', my_random_seed=3310, test=True)\n",
    "print(\"Number of rows in the submission test set (should be 25,000): \")"
   ]
  },
  {
   "cell_type": "code",
   "execution_count": 206,
   "metadata": {},
   "outputs": [],
   "source": [
    "# lgs_performance_test = BinaryClassificationPerformance(\n",
    "#     lgs.predict(X_test), y_test, 'lgs_test')\n",
    "# lgs_performance_test.compute_measures()\n",
    "# print(lgs_performance_test.performance_measures)"
   ]
  },
  {
   "cell_type": "code",
   "execution_count": 207,
   "metadata": {},
   "outputs": [
    {
     "name": "stdout",
     "output_type": "stream",
     "text": [
      "{'Pos': 2566, 'Neg': 2434, 'TP': 2158, 'TN': 2008, 'FP': 426, 'FN': 408, 'Accuracy': 0.8332, 'Precision': 0.8351393188854489, 'Recall': 0.8409976617303195, 'desc': 'prc_test'}\n"
     ]
    }
   ],
   "source": [
    "# prc prediction\n",
    "prc_performance_test = BinaryClassificationPerformance(\n",
    "    prc.predict(X_test), y_test, 'prc_test')\n",
    "prc_performance_test.compute_measures()\n",
    "print(prc_performance_test.performance_measures)"
   ]
  },
  {
   "cell_type": "markdown",
   "metadata": {},
   "source": [
    "---\n",
    "\n",
    "Choose a <span style=\"color:red\">*single*</span> model for your submission. In this code, I am choosing the Ordinary Least Squares model fit, which is in the `ols` object. But you should choose the model that is performing the best for you! "
   ]
  },
  {
   "cell_type": "code",
   "execution_count": 214,
   "metadata": {},
   "outputs": [
    {
     "name": "stdout",
     "output_type": "stream",
     "text": [
      "Positive Review: 0.4662\n"
     ]
    }
   ],
   "source": [
    "# PRC_TEST\n",
    "\n",
    "# store the id from the raw data\n",
    "my_submission = pd.DataFrame(raw_data[\"id\"])\n",
    "# concatenate predictions to the id\n",
    "my_submission[\"prediction\"] = prc.predict(X_test_submission)\n",
    "# look at the proportion of positive predictions\n",
    "print(\"Positive Review: \" + str(my_submission['prediction'].mean()))"
   ]
  },
  {
   "cell_type": "code",
   "execution_count": 209,
   "metadata": {},
   "outputs": [
    {
     "data": {
      "text/html": [
       "<div>\n",
       "<style scoped>\n",
       "    .dataframe tbody tr th:only-of-type {\n",
       "        vertical-align: middle;\n",
       "    }\n",
       "\n",
       "    .dataframe tbody tr th {\n",
       "        vertical-align: top;\n",
       "    }\n",
       "\n",
       "    .dataframe thead th {\n",
       "        text-align: right;\n",
       "    }\n",
       "</style>\n",
       "<table border=\"1\" class=\"dataframe\">\n",
       "  <thead>\n",
       "    <tr style=\"text-align: right;\">\n",
       "      <th></th>\n",
       "      <th>id</th>\n",
       "      <th>review</th>\n",
       "      <th>word_count</th>\n",
       "      <th>punc_count</th>\n",
       "    </tr>\n",
       "  </thead>\n",
       "  <tbody>\n",
       "    <tr>\n",
       "      <th>24990</th>\n",
       "      <td>5071_2</td>\n",
       "      <td>I'd love to write a little summary of this mov...</td>\n",
       "      <td>174</td>\n",
       "      <td>9</td>\n",
       "    </tr>\n",
       "    <tr>\n",
       "      <th>24991</th>\n",
       "      <td>5078_2</td>\n",
       "      <td>Obvious tailored vehicle for Ryan Philippe. It...</td>\n",
       "      <td>167</td>\n",
       "      <td>9</td>\n",
       "    </tr>\n",
       "    <tr>\n",
       "      <th>24992</th>\n",
       "      <td>10069_3</td>\n",
       "      <td>&lt;br /&gt;&lt;br /&gt;JURASSIC PARK III *___ Adventure &lt;...</td>\n",
       "      <td>204</td>\n",
       "      <td>12</td>\n",
       "    </tr>\n",
       "    <tr>\n",
       "      <th>24993</th>\n",
       "      <td>7407_8</td>\n",
       "      <td>If you're even mildly interested in the War be...</td>\n",
       "      <td>186</td>\n",
       "      <td>8</td>\n",
       "    </tr>\n",
       "    <tr>\n",
       "      <th>24994</th>\n",
       "      <td>7207_1</td>\n",
       "      <td>It used to be that video distributors like Sub...</td>\n",
       "      <td>318</td>\n",
       "      <td>11</td>\n",
       "    </tr>\n",
       "    <tr>\n",
       "      <th>24995</th>\n",
       "      <td>2155_10</td>\n",
       "      <td>Sony Pictures Classics, I'm looking at you! So...</td>\n",
       "      <td>148</td>\n",
       "      <td>3</td>\n",
       "    </tr>\n",
       "    <tr>\n",
       "      <th>24996</th>\n",
       "      <td>59_10</td>\n",
       "      <td>I always felt that Ms. Merkerson had never got...</td>\n",
       "      <td>197</td>\n",
       "      <td>9</td>\n",
       "    </tr>\n",
       "    <tr>\n",
       "      <th>24997</th>\n",
       "      <td>2531_1</td>\n",
       "      <td>I was so disappointed in this movie. I am very...</td>\n",
       "      <td>164</td>\n",
       "      <td>9</td>\n",
       "    </tr>\n",
       "    <tr>\n",
       "      <th>24998</th>\n",
       "      <td>7772_8</td>\n",
       "      <td>From the opening sequence, filled with black a...</td>\n",
       "      <td>154</td>\n",
       "      <td>11</td>\n",
       "    </tr>\n",
       "    <tr>\n",
       "      <th>24999</th>\n",
       "      <td>11465_10</td>\n",
       "      <td>This is a great horror film for people who don...</td>\n",
       "      <td>165</td>\n",
       "      <td>6</td>\n",
       "    </tr>\n",
       "  </tbody>\n",
       "</table>\n",
       "</div>"
      ],
      "text/plain": [
       "             id                                             review  \\\n",
       "24990    5071_2  I'd love to write a little summary of this mov...   \n",
       "24991    5078_2  Obvious tailored vehicle for Ryan Philippe. It...   \n",
       "24992   10069_3  <br /><br />JURASSIC PARK III *___ Adventure <...   \n",
       "24993    7407_8  If you're even mildly interested in the War be...   \n",
       "24994    7207_1  It used to be that video distributors like Sub...   \n",
       "24995   2155_10  Sony Pictures Classics, I'm looking at you! So...   \n",
       "24996     59_10  I always felt that Ms. Merkerson had never got...   \n",
       "24997    2531_1  I was so disappointed in this movie. I am very...   \n",
       "24998    7772_8  From the opening sequence, filled with black a...   \n",
       "24999  11465_10  This is a great horror film for people who don...   \n",
       "\n",
       "       word_count  punc_count  \n",
       "24990         174           9  \n",
       "24991         167           9  \n",
       "24992         204          12  \n",
       "24993         186           8  \n",
       "24994         318          11  \n",
       "24995         148           3  \n",
       "24996         197           9  \n",
       "24997         164           9  \n",
       "24998         154          11  \n",
       "24999         165           6  "
      ]
     },
     "execution_count": 209,
     "metadata": {},
     "output_type": "execute_result"
    }
   ],
   "source": [
    "raw_data.tail(10)"
   ]
  },
  {
   "cell_type": "code",
   "execution_count": 210,
   "metadata": {},
   "outputs": [
    {
     "data": {
      "text/html": [
       "<div>\n",
       "<style scoped>\n",
       "    .dataframe tbody tr th:only-of-type {\n",
       "        vertical-align: middle;\n",
       "    }\n",
       "\n",
       "    .dataframe tbody tr th {\n",
       "        vertical-align: top;\n",
       "    }\n",
       "\n",
       "    .dataframe thead th {\n",
       "        text-align: right;\n",
       "    }\n",
       "</style>\n",
       "<table border=\"1\" class=\"dataframe\">\n",
       "  <thead>\n",
       "    <tr style=\"text-align: right;\">\n",
       "      <th></th>\n",
       "      <th>id</th>\n",
       "      <th>prediction</th>\n",
       "    </tr>\n",
       "  </thead>\n",
       "  <tbody>\n",
       "    <tr>\n",
       "      <th>24990</th>\n",
       "      <td>5071_2</td>\n",
       "      <td>0</td>\n",
       "    </tr>\n",
       "    <tr>\n",
       "      <th>24991</th>\n",
       "      <td>5078_2</td>\n",
       "      <td>1</td>\n",
       "    </tr>\n",
       "    <tr>\n",
       "      <th>24992</th>\n",
       "      <td>10069_3</td>\n",
       "      <td>1</td>\n",
       "    </tr>\n",
       "    <tr>\n",
       "      <th>24993</th>\n",
       "      <td>7407_8</td>\n",
       "      <td>1</td>\n",
       "    </tr>\n",
       "    <tr>\n",
       "      <th>24994</th>\n",
       "      <td>7207_1</td>\n",
       "      <td>0</td>\n",
       "    </tr>\n",
       "    <tr>\n",
       "      <th>24995</th>\n",
       "      <td>2155_10</td>\n",
       "      <td>0</td>\n",
       "    </tr>\n",
       "    <tr>\n",
       "      <th>24996</th>\n",
       "      <td>59_10</td>\n",
       "      <td>0</td>\n",
       "    </tr>\n",
       "    <tr>\n",
       "      <th>24997</th>\n",
       "      <td>2531_1</td>\n",
       "      <td>0</td>\n",
       "    </tr>\n",
       "    <tr>\n",
       "      <th>24998</th>\n",
       "      <td>7772_8</td>\n",
       "      <td>0</td>\n",
       "    </tr>\n",
       "    <tr>\n",
       "      <th>24999</th>\n",
       "      <td>11465_10</td>\n",
       "      <td>0</td>\n",
       "    </tr>\n",
       "  </tbody>\n",
       "</table>\n",
       "</div>"
      ],
      "text/plain": [
       "             id  prediction\n",
       "24990    5071_2           0\n",
       "24991    5078_2           1\n",
       "24992   10069_3           1\n",
       "24993    7407_8           1\n",
       "24994    7207_1           0\n",
       "24995   2155_10           0\n",
       "24996     59_10           0\n",
       "24997    2531_1           0\n",
       "24998    7772_8           0\n",
       "24999  11465_10           0"
      ]
     },
     "execution_count": 210,
     "metadata": {},
     "output_type": "execute_result"
    }
   ],
   "source": [
    "my_submission.tail(10)"
   ]
  },
  {
   "cell_type": "code",
   "execution_count": 211,
   "metadata": {},
   "outputs": [
    {
     "data": {
      "text/plain": [
       "(25000, 2)"
      ]
     },
     "execution_count": 211,
     "metadata": {},
     "output_type": "execute_result"
    }
   ],
   "source": [
    "my_submission.shape"
   ]
  },
  {
   "cell_type": "code",
   "execution_count": 212,
   "metadata": {},
   "outputs": [],
   "source": [
    "# export submission file as pdf\n",
    "# CHANGE FILE PATH: \n",
    "my_submission.to_csv(\n",
    "    '/Users/wuyuming/Desktop/Project/machine learning/YuMingWu_ml-master/final_assignment_1/sample_submissions/YuMingWu_moviereviews_sample_submission.csv', index=False)"
   ]
  },
  {
   "cell_type": "markdown",
   "metadata": {},
   "source": [
    "# Submit to Canvas: 1) the CSV file that was written in the previous cell and 2) the url to the repository (GitHub or other) that contains your code and documentation"
   ]
  }
 ],
 "metadata": {
  "kernelspec": {
   "display_name": "Python 3",
   "language": "python",
   "name": "python3"
  },
  "language_info": {
   "codemirror_mode": {
    "name": "ipython",
    "version": 3
   },
   "file_extension": ".py",
   "mimetype": "text/x-python",
   "name": "python",
   "nbconvert_exporter": "python",
   "pygments_lexer": "ipython3",
   "version": "3.12.1"
  }
 },
 "nbformat": 4,
 "nbformat_minor": 2
}
