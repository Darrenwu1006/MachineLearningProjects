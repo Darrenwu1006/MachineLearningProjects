{
 "cells": [
  {
   "cell_type": "markdown",
   "metadata": {},
   "source": [
    "# Movie reviews\n",
    "\n",
    "This notebook takes you though a complete iteration of Machine Learning Assignment 1 - Movie reviews. The assignment details (including links to download the data) can be found [here](https://docs.google.com/document/d/1WGYw99e5q6j5V0Zrf2HveagU6URt_kVvdR8B9HYQ99E/edit?usp=sharing). "
   ]
  },
  {
   "cell_type": "code",
   "execution_count": 971,
   "metadata": {},
   "outputs": [],
   "source": [
    "# all imports and magic commands\n",
    "import numpy as np\n",
    "import pandas as pd\n",
    "import matplotlib.pyplot as plt\n",
    "from my_measures import BinaryClassificationPerformance\n",
    "from sklearn.feature_extraction.text import HashingVectorizer\n",
    "from sklearn.feature_extraction.text import TfidfTransformer\n",
    "from scipy.sparse import csr_matrix, hstack\n",
    "from sklearn.preprocessing import StandardScaler\n",
    "from sklearn.model_selection import train_test_split\n",
    "%matplotlib inline\n",
    "\n",
    "from pprint import pprint"
   ]
  },
  {
   "cell_type": "markdown",
   "metadata": {},
   "source": [
    "### IMPORTANT!!! Make sure you are using `BinaryClassificationPerformance` v1.02"
   ]
  },
  {
   "cell_type": "code",
   "execution_count": 972,
   "metadata": {},
   "outputs": [
    {
     "name": "stdout",
     "output_type": "stream",
     "text": [
      "Help on class BinaryClassificationPerformance in module my_measures:\n",
      "\n",
      "class BinaryClassificationPerformance(builtins.object)\n",
      " |  BinaryClassificationPerformance(predictions, labels, desc, probabilities=None)\n",
      " |\n",
      " |  Performance measures to evaluate the fit of a binary classification model, v1.02\n",
      " |\n",
      " |  Methods defined here:\n",
      " |\n",
      " |  __init__(self, predictions, labels, desc, probabilities=None)\n",
      " |      Initialize attributes: predictions-vector of predicted values for Y, labels-vector of labels for Y\n",
      " |\n",
      " |  compute_measures(self)\n",
      " |      Compute performance measures defined by Flach p. 57\n",
      " |\n",
      " |  img_indices(self)\n",
      " |      Get the indices of true and false positives to be able to locate the corresponding images in a list of image names\n",
      " |\n",
      " |  ----------------------------------------------------------------------\n",
      " |  Data descriptors defined here:\n",
      " |\n",
      " |  __dict__\n",
      " |      dictionary for instance variables\n",
      " |\n",
      " |  __weakref__\n",
      " |      list of weak references to the object\n",
      "\n"
     ]
    }
   ],
   "source": [
    "help(BinaryClassificationPerformance)"
   ]
  },
  {
   "cell_type": "markdown",
   "metadata": {},
   "source": [
    "# Function for feature building and extraction on natural language data"
   ]
  },
  {
   "cell_type": "code",
   "execution_count": 973,
   "metadata": {},
   "outputs": [],
   "source": [
    "# # function that takes raw data and completes all preprocessing required before model fits\n",
    "# def process_raw_data(fn, my_random_seed, test=False):\n",
    "#     # read and summarize data\n",
    "#     movie_data = pd.read_csv(fn, sep='\\t')\n",
    "#     print(\"movie_data is:\", type(movie_data))\n",
    "#     print(\"movie_data has\", movie_data.shape[0], \"rows and\", movie_data.shape[1], \"columns\", \"\\n\")\n",
    "#     print(\"the data types for each of the columns in movie_data:\")\n",
    "#     print(movie_data.dtypes, \"\\n\")\n",
    "#     print(\"the first 10 rows in movie_data:\")\n",
    "#     print(movie_data.head(5))\n",
    "#     if (not test):\n",
    "#         print(\"The rate of 'good' movie reviews in the dataset: \")\n",
    "#         print(movie_data['sentiment'].mean())\n",
    "\n",
    "#     # vectorize Bag of Words from review text; as sparse matrix\n",
    "#     if (not test): # fit_transform()\n",
    "#         hv = HashingVectorizer(n_features=2 ** 17, alternate_sign=False)\n",
    "#         X_hv = hv.fit_transform(movie_data.review)\n",
    "#         fitted_transformations.append(hv)\n",
    "#         print(\"Shape of HashingVectorizer X:\")\n",
    "#         print(X_hv.shape)\n",
    "#     else: # transform() \n",
    "#         X_hv = fitted_transformations[0].transform(movie_data.review)\n",
    "#         print(\"Shape of HashingVectorizer X:\")\n",
    "#         print(X_hv.shape)\n",
    "    \n",
    "#     # http://scikit-learn.org/stable/modules/generated/sklearn.feature_extraction.text.TfidfTransformer.html\n",
    "#     if (not test):\n",
    "#         transformer = TfidfTransformer()\n",
    "#         X_tfidf = transformer.fit_transform(X_hv)\n",
    "#         fitted_transformations.append(transformer)\n",
    "#     else:\n",
    "#         X_tfidf = fitted_transformations[1].transform(X_hv)\n",
    "    \n",
    "#     # create additional quantitative features\n",
    "#     # features from Amazon.csv to add to feature set\n",
    "#     movie_data['word_count'] = movie_data['review'].str.split(' ').str.len()\n",
    "#     movie_data['punc_count'] = movie_data['review'].str.count(\"\\.\")\n",
    "\n",
    "#     X_quant_features = movie_data[[\"word_count\", \"punc_count\"]]\n",
    "#     print(\"Look at a few rows of the new quantitative features: \")\n",
    "#     print(X_quant_features.head(10))\n",
    "    \n",
    "#     # Combine all quantitative features into a single sparse matrix\n",
    "#     X_quant_features_csr = csr_matrix(X_quant_features)\n",
    "#     X_combined = hstack([X_tfidf, X_quant_features_csr])\n",
    "#     X_matrix = csr_matrix(X_combined) # convert to sparse matrix\n",
    "#     print(\"Size of combined bag of words and new quantitative variables matrix:\")\n",
    "#     print(X_matrix.shape)\n",
    "    \n",
    "#     # Create `X`, scaled matrix of features\n",
    "#     # feature scaling\n",
    "#     if (not test):\n",
    "#         sc = StandardScaler(with_mean=False)\n",
    "#         X = sc.fit_transform(X_matrix)\n",
    "#         fitted_transformations.append(sc)\n",
    "#         print(X.shape)\n",
    "#         y = movie_data['sentiment']\n",
    "#     else:\n",
    "#         X = fitted_transformations[2].transform(X_matrix)\n",
    "#         print(X.shape)\n",
    "    \n",
    "#     # Create Training and Test Sets\n",
    "#     # enter an integer for the random_state parameter; any integer will work\n",
    "#     if (test):\n",
    "#         X_submission_test = X\n",
    "#         print(\"Shape of X_test for submission:\")\n",
    "#         print(X_submission_test.shape)\n",
    "#         print('SUCCESS!')\n",
    "#         return(movie_data, X_submission_test)\n",
    "#     else: \n",
    "#         X_train, X_test, y_train, y_test, X_raw_train, X_raw_test = train_test_split(X, y, movie_data, test_size=0.2, random_state=my_random_seed)\n",
    "#         print(\"Shape of X_train and X_test:\")\n",
    "#         print(X_train.shape)\n",
    "#         print(X_test.shape)\n",
    "#         print(\"Shape of y_train and y_test:\")\n",
    "#         print(y_train.shape)\n",
    "#         print(y_test.shape)\n",
    "#         print(\"Shape of X_raw_train and X_raw_test:\")\n",
    "#         print(X_raw_train.shape)\n",
    "#         print(X_raw_test.shape)\n",
    "#         print('SUCCESS!')\n",
    "#         return(X_train, X_test, y_train, y_test, X_raw_train, X_raw_test)"
   ]
  },
  {
   "cell_type": "code",
   "execution_count": 974,
   "metadata": {},
   "outputs": [
    {
     "name": "stderr",
     "output_type": "stream",
     "text": [
      "<>:49: SyntaxWarning: invalid escape sequence '\\.'\n",
      "<>:49: SyntaxWarning: invalid escape sequence '\\.'\n",
      "/var/folders/s4/jz0nwvsn14df6rp9wpmvcshr0000gn/T/ipykernel_81406/3614209611.py:49: SyntaxWarning: invalid escape sequence '\\.'\n",
      "  movie_data['punc_count'] = movie_data['review'].str.count(\"\\.\")\n"
     ]
    }
   ],
   "source": [
    "from sklearn.feature_extraction.text import TfidfVectorizer\n",
    "from sklearn.decomposition import PCA\n",
    "\n",
    "# function that takes raw data and completes all preprocessing required before model fits\n",
    "\n",
    "\n",
    "def process_raw_data_with_PCA(fn, my_random_seed, test=False):\n",
    "\n",
    "    # read and summarize data\n",
    "    movie_data = pd.read_csv(fn, sep='\\t')\n",
    "    print(\"movie_data is:\", type(movie_data))\n",
    "    print(\"movie_data has\",\n",
    "          movie_data.shape[0], \"rows and\", movie_data.shape[1], \"columns\", \"\\n\")\n",
    "    print(\"the data types for each of the columns in movie_data:\")\n",
    "    print(movie_data.dtypes, \"\\n\")\n",
    "    print(\"the first 10 rows in movie_data:\")\n",
    "    print(movie_data.head(5))\n",
    "    if (not test):\n",
    "        print(\"The rate of 'good' movie reviews in the dataset: \")\n",
    "        print(movie_data['sentiment'].mean())\n",
    "\n",
    "     # vectorize Bag of Words from review text; as sparse matrix\n",
    "    if (not test):  # fit_transform()\n",
    "        hv = HashingVectorizer(n_features=2 ** 17, alternate_sign=False)\n",
    "        X_hv = hv.fit_transform(movie_data.review)\n",
    "        fitted_transformations.append(hv)\n",
    "        print(\"Shape of HashingVectorizer X:\")\n",
    "        print(X_hv.shape)\n",
    "    else:  # transform()\n",
    "        X_hv = fitted_transformations[0].transform(movie_data.review)\n",
    "        print(\"Shape of HashingVectorizer X:\")\n",
    "        print(X_hv.shape)\n",
    "\n",
    "    # TF-IDF transformer\n",
    "    if (not test):\n",
    "        transformer = TfidfTransformer()\n",
    "        X_tfidf = transformer.fit_transform(X_hv)\n",
    "        fitted_transformations.append(transformer)\n",
    "    else:\n",
    "        X_tfidf = fitted_transformations[1].transform(X_hv)\n",
    "\n",
    "    # PCA transform\n",
    "    pca = PCA(n_components=0.95)  \n",
    "    X_pca = pca.fit_transform(X_tfidf.toarray())  \n",
    "\n",
    "    # create additional quantitative features\n",
    "    # features from Amazon.csv to add to feature set\n",
    "    movie_data['word_count'] = movie_data['review'].str.split(' ').str.len()\n",
    "    movie_data['punc_count'] = movie_data['review'].str.count(\"\\.\")\n",
    "\n",
    "    X_quant_features = movie_data[[\"word_count\", \"punc_count\"]]\n",
    "    print(\"Look at a few rows of the new quantitative features: \")\n",
    "    print(X_quant_features.head(10))\n",
    "\n",
    "    # Combine all quantitative features into a single sparse matrix\n",
    "    X_quant_features_csr = csr_matrix(X_quant_features)\n",
    "    X_combined = hstack([X_pca, X_quant_features_csr])\n",
    "    X_matrix = csr_matrix(X_combined)  # convert to sparse matrix\n",
    "    print(\"Size of combined bag of words and new quantitative variables matrix:\")\n",
    "    print(X_matrix.shape)\n",
    "\n",
    "    # Create `X`, scaled matrix of features\n",
    "    # feature scaling\n",
    "    if (not test):\n",
    "        sc = StandardScaler(with_mean=False)\n",
    "        X = sc.fit_transform(X_matrix)\n",
    "        fitted_transformations.append(sc)\n",
    "        print(X.shape)\n",
    "        y = movie_data['sentiment']\n",
    "    else:\n",
    "        X = fitted_transformations[2].transform(X_matrix)\n",
    "        print(X.shape)\n",
    "\n",
    "    # Create Training and Test Sets\n",
    "    # enter an integer for the random_state parameter; any integer will work\n",
    "    if (test):\n",
    "        X_submission_test = X\n",
    "        print(\"Shape of X_test for submission:\")\n",
    "        print(X_submission_test.shape)\n",
    "        print('SUCCESS!')\n",
    "        return (movie_data, X_submission_test)\n",
    "    else:\n",
    "        X_train, X_test, y_train, y_test, X_raw_train, X_raw_test = train_test_split(\n",
    "            X, y, movie_data, test_size=0.3, random_state=my_random_seed)\n",
    "        print(\"Shape of X_train and X_test:\")\n",
    "        print(X_train.shape)\n",
    "        print(X_test.shape)\n",
    "        print(\"Shape of y_train and y_test:\")\n",
    "        print(y_train.shape)\n",
    "        print(y_test.shape)\n",
    "        print(\"Shape of X_raw_train and X_raw_test:\")\n",
    "        print(X_raw_train.shape)\n",
    "        print(X_raw_test.shape)\n",
    "        print('SUCCESS!')\n",
    "        return (X_train, X_test, y_train, y_test, X_raw_train, X_raw_test)"
   ]
  },
  {
   "cell_type": "markdown",
   "metadata": {},
   "source": [
    "# Create training and test sets from function"
   ]
  },
  {
   "cell_type": "code",
   "execution_count": 975,
   "metadata": {},
   "outputs": [
    {
     "name": "stdout",
     "output_type": "stream",
     "text": [
      "movie_data is: <class 'pandas.core.frame.DataFrame'>\n",
      "movie_data has 25000 rows and 3 columns \n",
      "\n",
      "the data types for each of the columns in movie_data:\n",
      "id           object\n",
      "sentiment     int64\n",
      "review       object\n",
      "dtype: object \n",
      "\n",
      "the first 10 rows in movie_data:\n",
      "       id  sentiment                                             review\n",
      "0  5814_8          1  With all this stuff going down at the moment w...\n",
      "1  2381_9          1  \\The Classic War of the Worlds\\\" by Timothy Hi...\n",
      "2  7759_3          0  The film starts with a manager (Nicholas Bell)...\n",
      "3  3630_4          0  It must be assumed that those who praised this...\n",
      "4  9495_8          1  Superbly trashy and wondrously unpretentious 8...\n",
      "The rate of 'good' movie reviews in the dataset: \n",
      "0.5\n",
      "Shape of HashingVectorizer X:\n",
      "(25000, 131072)\n",
      "Look at a few rows of the new quantitative features: \n",
      "   word_count  punc_count\n",
      "0         433          20\n",
      "1         158          16\n",
      "2         378          20\n",
      "3         379           8\n",
      "4         367           9\n",
      "5          89           5\n",
      "6         112           9\n",
      "7         132           9\n",
      "8         163           7\n",
      "9          43           5\n",
      "Size of combined bag of words and new quantitative variables matrix:\n",
      "(25000, 131074)\n",
      "(25000, 131074)\n",
      "Shape of X_train and X_test:\n",
      "(20000, 131074)\n",
      "(5000, 131074)\n",
      "Shape of y_train and y_test:\n",
      "(20000,)\n",
      "(5000,)\n",
      "Shape of X_raw_train and X_raw_test:\n",
      "(20000, 5)\n",
      "(5000, 5)\n",
      "SUCCESS!\n",
      "Number of fits stored in `fitted_transformations` list: \n",
      "3\n"
     ]
    }
   ],
   "source": [
    "# create an empty list to store any use of fit_transform() to transform() later\n",
    "# it is a global list to store model and feature extraction fits\n",
    "fitted_transformations = []\n",
    "\n",
    "# CHANGE FILE PATH and my_random_seed number (any integer other than 74 will do): \n",
    "X_train, X_test, y_train, y_test, X_raw_train, X_raw_test = process_raw_data(\n",
    "    fn='/Users/wuyuming/Desktop/Project/machine learning/YuMingWu_ml-master/final_assignment_1/moviereviews_train.csv', my_random_seed=3310)\n",
    "\n",
    "print(\"Number of fits stored in `fitted_transformations` list: \")\n",
    "print(len(fitted_transformations))"
   ]
  },
  {
   "cell_type": "markdown",
   "metadata": {},
   "source": [
    "# Fit (and tune) Various Models"
   ]
  },
  {
   "cell_type": "markdown",
   "metadata": {},
   "source": [
    "### MODEL: ordinary least squares"
   ]
  },
  {
   "cell_type": "code",
   "execution_count": 976,
   "metadata": {},
   "outputs": [],
   "source": [
    "# from sklearn import linear_model"
   ]
  },
  {
   "cell_type": "code",
   "execution_count": 977,
   "metadata": {},
   "outputs": [],
   "source": [
    "# ols = linear_model.SGDClassifier(loss=\"hinge\")\n",
    "# ols.fit(X_train, y_train)\n",
    "\n",
    "# ols_performance_train = BinaryClassificationPerformance(ols.predict(X_train), y_train, 'ols_train')\n",
    "# ols_performance_train.compute_measures()\n",
    "# print(ols_performance_train.performance_measures)"
   ]
  },
  {
   "cell_type": "markdown",
   "metadata": {},
   "source": [
    "### MODEL: SVM, linear"
   ]
  },
  {
   "cell_type": "code",
   "execution_count": 978,
   "metadata": {},
   "outputs": [
    {
     "name": "stdout",
     "output_type": "stream",
     "text": [
      "Performance measures on training set:\n",
      "Accuracy: 1.0\n",
      "Precision: 1.0\n",
      "Recall: 1.0\n",
      "F1 Score: 1.0\n"
     ]
    }
   ],
   "source": [
    "from sklearn import linear_model\n",
    "from sklearn.metrics import accuracy_score, precision_score, recall_score, f1_score\n",
    "\n",
    "\n",
    "svm = linear_model.SGDClassifier()\n",
    "svm.fit(X_train, y_train)\n",
    "\n",
    "svm_train_predictions = svm.predict(X_train)\n",
    "accuracy = accuracy_score(y_train, svm_train_predictions)\n",
    "precision = precision_score(y_train, svm_train_predictions)\n",
    "recall = recall_score(y_train, svm_train_predictions)\n",
    "f1 = f1_score(y_train, svm_train_predictions)\n",
    "\n",
    "print(\"Performance measures on training set:\")\n",
    "print(\"Accuracy:\", accuracy)\n",
    "print(\"Precision:\", precision)\n",
    "print(\"Recall:\", recall)\n",
    "print(\"F1 Score:\", f1)"
   ]
  },
  {
   "cell_type": "markdown",
   "metadata": {},
   "source": [
    "### MODEL:SVM X Cross Validation\n"
   ]
  },
  {
   "cell_type": "code",
   "execution_count": 979,
   "metadata": {},
   "outputs": [
    {
     "name": "stdout",
     "output_type": "stream",
     "text": [
      "Cross-validation scores:  [0.822  0.8315 0.842  0.8305 0.843  0.815  0.82   0.83   0.843  0.844 ]\n",
      "Mean cross-validation score:  0.8321\n",
      "{'Pos': 2566, 'Neg': 2434, 'TP': 2148, 'TN': 2037, 'FP': 397, 'FN': 418, 'Accuracy': 0.837, 'Precision': 0.844007858546169, 'Recall': 0.8371005455962588, 'desc': 'svm_test'}\n"
     ]
    }
   ],
   "source": [
    "from sklearn.model_selection import cross_val_score\n",
    "\n",
    "svm_cv_scores = cross_val_score(\n",
    "    svm, X_train, y_train, cv=10, scoring='accuracy') \n",
    "print(\"Cross-validation scores: \", svm_cv_scores)\n",
    "print(\"Mean cross-validation score: \", svm_cv_scores.mean())\n",
    "\n",
    "svm.fit(X_train, y_train)\n",
    "\n",
    "svm_performance_test = BinaryClassificationPerformance(\n",
    "    svm.predict(X_test), y_test, 'svm_test')\n",
    "svm_performance_test.compute_measures()\n",
    "print(svm_performance_test.performance_measures)\n"
   ]
  },
  {
   "cell_type": "code",
   "execution_count": 980,
   "metadata": {},
   "outputs": [],
   "source": [
    "# from sklearn import linear_model\n",
    "# svm = linear_model.SGDClassifier()\n",
    "# svm.fit(X_train, y_train)\n",
    "\n",
    "# svm_performance_train = BinaryClassificationPerformance(svm.predict(X_train), y_train, 'svm_train')\n",
    "# svm_performance_train.compute_measures()\n",
    "# print(svm_performance_train.performance_measures)"
   ]
  },
  {
   "cell_type": "markdown",
   "metadata": {},
   "source": [
    "### MODEL: logistic regression"
   ]
  },
  {
   "cell_type": "code",
   "execution_count": 981,
   "metadata": {},
   "outputs": [],
   "source": [
    "# from sklearn import linear_model\n",
    "# lgs = linear_model.SGDClassifier(loss='log_loss')\n",
    "# lgs.fit(X_train, y_train)\n",
    "\n",
    "# lgs_performance_train = BinaryClassificationPerformance(lgs.predict(X_train), y_train, 'lgs_train')\n",
    "# lgs_performance_train.compute_measures()\n",
    "# print(lgs_performance_train.performance_measures)"
   ]
  },
  {
   "cell_type": "markdown",
   "metadata": {},
   "source": [
    "### MODEL: Naive Bayes"
   ]
  },
  {
   "cell_type": "code",
   "execution_count": 982,
   "metadata": {},
   "outputs": [],
   "source": [
    "# from sklearn.naive_bayes import MultinomialNB\n",
    "# nbs = MultinomialNB()\n",
    "# nbs.fit(X_train, y_train)\n",
    "\n",
    "# nbs_performance_train = BinaryClassificationPerformance(nbs.predict(X_train), y_train, 'nbs_train')\n",
    "# nbs_performance_train.compute_measures()\n",
    "# print(nbs_performance_train.performance_measures)"
   ]
  },
  {
   "cell_type": "markdown",
   "metadata": {},
   "source": [
    "### MODEL: Perceptron"
   ]
  },
  {
   "cell_type": "code",
   "execution_count": 983,
   "metadata": {},
   "outputs": [],
   "source": [
    "# from sklearn import linear_model\n",
    "# prc = linear_model.SGDClassifier(loss='perceptron')\n",
    "# prc.fit(X_train, y_train)\n",
    "\n",
    "# prc_performance_train = BinaryClassificationPerformance(prc.predict(X_train), y_train, 'prc_train')\n",
    "# prc_performance_train.compute_measures()\n",
    "# print(prc_performance_train.performance_measures)"
   ]
  },
  {
   "cell_type": "markdown",
   "metadata": {},
   "source": [
    "### MODEL: Ridge Regression Classifier"
   ]
  },
  {
   "cell_type": "code",
   "execution_count": 984,
   "metadata": {},
   "outputs": [],
   "source": [
    "# from sklearn import linear_model\n",
    "# rdg = linear_model.RidgeClassifier()\n",
    "# rdg.fit(X_train, y_train)\n",
    "\n",
    "# rdg_performance_train = BinaryClassificationPerformance(rdg.predict(X_train), y_train, 'rdg_train')\n",
    "# rdg_performance_train.compute_measures()\n",
    "# print(rdg_performance_train.performance_measures)"
   ]
  },
  {
   "cell_type": "markdown",
   "metadata": {},
   "source": [
    "### MODEL: Random Forest Classifier"
   ]
  },
  {
   "cell_type": "code",
   "execution_count": 985,
   "metadata": {},
   "outputs": [],
   "source": [
    "# from sklearn.ensemble import RandomForestClassifier\n",
    "# rdf = RandomForestClassifier(max_depth=2, random_state=0)\n",
    "# rdf.fit(X_train, y_train)\n",
    "\n",
    "# rdf_performance_train = BinaryClassificationPerformance(rdf.predict(X_train), y_train, 'rdf_train')\n",
    "# rdf_performance_train.compute_measures()\n",
    "# print(rdf_performance_train.performance_measures)"
   ]
  },
  {
   "cell_type": "markdown",
   "metadata": {},
   "source": [
    "### ROC plot to compare performance of various models and fits"
   ]
  },
  {
   "cell_type": "code",
   "execution_count": 986,
   "metadata": {
    "scrolled": false
   },
   "outputs": [],
   "source": [
    "# fits = [ols_performance_train, svm_performance_train, lgs_performance_train, nbs_performance_train, prc_performance_train, rdg_performance_train, rdf_performance_train]\n",
    "\n",
    "# for fit in fits:\n",
    "#     plt.plot(fit.performance_measures['FP'] / fit.performance_measures['Neg'], \n",
    "#              fit.performance_measures['TP'] / fit.performance_measures['Pos'], 'bo')\n",
    "#     plt.text(fit.performance_measures['FP'] / fit.performance_measures['Neg'], \n",
    "#              fit.performance_measures['TP'] / fit.performance_measures['Pos'], fit.desc)\n",
    "# plt.axis([0, 1, 0, 1])\n",
    "# plt.title('ROC plot: test set')\n",
    "# plt.xlabel('False positive rate')\n",
    "# plt.ylabel('True positive rate')\n",
    "# plt.show()"
   ]
  },
  {
   "cell_type": "code",
   "execution_count": 987,
   "metadata": {},
   "outputs": [
    {
     "data": {
      "image/png": "[encoded data removed]",
      "text/plain": [
       "<Figure size 800x600 with 1 Axes>"
      ]
     },
     "metadata": {},
     "output_type": "display_data"
    }
   ],
   "source": [
    "plt.figure(figsize=(8, 6))\n",
    "for fit, fit_desc in zip(fits, fit_descs):\n",
    "    if 'FP' in fit.performance_measures and 'TP' in fit.performance_measures:\n",
    "        plt.plot(fit.performance_measures['FP'] / fit.performance_measures['Neg'],\n",
    "                 fit.performance_measures['TP'] / fit.performance_measures['Pos'], 'bo')\n",
    "        plt.text(fit.performance_measures['FP'] / fit.performance_measures['Neg'],\n",
    "                 fit.performance_measures['TP'] / fit.performance_measures['Pos'], fit_desc)\n",
    "\n",
    "\n",
    "plt.axhline(y=0.8297999999999999, color='r',\n",
    "            linestyle='--', label='Mean CV Score')\n",
    "\n",
    "plt.axis([0, 1, 0, 1])\n",
    "plt.title('ROC plot: train set')\n",
    "plt.xlabel('False positive rate')\n",
    "plt.ylabel('True positive rate')\n",
    "plt.legend()\n",
    "plt.show()"
   ]
  },
  {
   "cell_type": "markdown",
   "metadata": {},
   "source": [
    "### looking at reviews based on their classification\n",
    "\n",
    "Let's say we decide that Ordinary Least Squares (OLS) Regression is the best model for generalization. Let's take a look at some of the reviews and try to make a (subjective) determination of whether it's generalizing well. "
   ]
  },
  {
   "cell_type": "code",
   "execution_count": 988,
   "metadata": {},
   "outputs": [
    {
     "name": "stdout",
     "output_type": "stream",
     "text": [
      "[0 0 1 ... 0 0 1]\n"
     ]
    }
   ],
   "source": [
    "ols_predictions = ols.predict(X_train)\n",
    "print(ols_predictions)"
   ]
  },
  {
   "cell_type": "code",
   "execution_count": 989,
   "metadata": {},
   "outputs": [
    {
     "name": "stdout",
     "output_type": "stream",
     "text": [
      "[0 0 1 ... 0 0 1]\n"
     ]
    }
   ],
   "source": [
    "svm_predictions = svm.predict(X_train)\n",
    "print(svm_predictions)"
   ]
  },
  {
   "cell_type": "code",
   "execution_count": 990,
   "metadata": {},
   "outputs": [
    {
     "name": "stdout",
     "output_type": "stream",
     "text": [
      "[0 0 1 ... 0 0 0]\n"
     ]
    }
   ],
   "source": [
    "rdf_predictions = rdf.predict(X_train)\n",
    "print(rdf_predictions)"
   ]
  },
  {
   "cell_type": "markdown",
   "metadata": {},
   "source": [
    "### let's look at some false positives:"
   ]
  },
  {
   "cell_type": "code",
   "execution_count": 991,
   "metadata": {},
   "outputs": [
    {
     "name": "stdout",
     "output_type": "stream",
     "text": [
      "Examples of false positives:\n",
      "16\n",
      "Goodnight, Mister Tom begins in an impossibly exquisite village in the south of England where the sun always seems to shine. Before we have much idea of the period we hear a radio announcement of the declaration of World War II. Soon a train blowing clouds of steam brings refugee children from London and when shy little William is billeted with reluctant, gruff old Tom (who you just know will turn out to have a heart of gold) our tale begins.<br /><br />And what a load of sentimental claptrap it is. In fact it's just the old odd-couple buddy formula. Aren't any new stories being written?<br /><br />As I suggested there's hardly any period feel in the village and not much more in London apart from the odd old ambulance rattling around. And certainly no hint of the horror of the Blitz as London's citizens file politely into air-raid shelters. Even when the local schoolteacher's husband is declared missing presumed killed, he is later restored to life.<br /><br />I found `Goodnight, Mister Tom' cliched and obvious and John Thaw's accent conjured up a picture of Ronnie Barker of the Two Ronnies with a straw in his mouth doing his `country bumpkin' accent.<br /><br />Incidentally my wife enjoyed this movie for all the reasons that I disliked it and looking at fellow-imdb reviewers I seem to be in a minority of one.<br /><br />\n",
      "* * * * * * * * * \n",
      "134\n",
      "I did not like the idea of the female turtle at all since 1987 we knew the TMNT to be four brothers with their teacher Splinter and their enemies and each one of the four brothers are named after the great artists name like Leonardo , Michelangleo, Raphel and Donatello so Venus here doesn't have any meaning or playing any important part and I believe that the old TMNT series was much more better than that new one which contains Venus As a female turtle will not add any action to the story we like the story of the TMNT we knew in 1987 to have new enemies in every part is a good point to have some action but to have a female turtle is a very weak point to have some action, we wish to see more new of TMNT series but just as the same characters we knew in 1987 without that female turtle.\n",
      "* * * * * * * * * \n",
      "529\n",
      "This ambitious film suffers most from writer/director Paul Thomas Anderson's delusions of grandeur. Highly derivative of much better material (Altman's \\Nashville,\\\" Lumet's \\\"Network\\\"), this lumbering elephant takes far too long to get nowhere. A couple of misguided detours along the way (an embarrassing musical interlude, a biblical plague) don't help matters. Neither does the uneven level of performances. Especially bad: William H. Macy, whose character and storyline could easily have been eliminated altogether; Julianne Moore, for her unconvincing angst. And how many times must we see John C. Reilly's Sad Sack shtick (\\\"Chicago\\\" and \\\"The Hours\\\" will suffice)? Tom Cruise comes off well by comparison  his misogynist, foul-mouthed Holy Roller was rather amusing. Speaking of foul mouths, the script was so loaded with \\\"F\\\" bombs, they lost their impact in no time. Don't even talk about that awful soundtrack, full of insipid and annoying vocals by Aimee Mann. Her extended rendition of \\\"One,\\\" a maudlin number to begin with, drove me to distraction at the start of the film. I should have heeded the handwriting on the wall and saved myself three more hours, by which time I'd been pushed to the brink of hell. One redeeming feature, which I haven't seen mentioned in other reviews, is the best performance in the bunch, by unknown Melora Walters in the role of Claudia, the damaged coke fiend bent on self-destruction. Her credibility exceeded all others by far. This film took itself way too seriously and just didn't know when to end.\"\n",
      "* * * * * * * * * \n",
      "1150\n",
      "About 4 years ago, I liked this movie. I would watch it over and over and over. But now... I don't. Actually, I think this movie would have been great for Mystery Science Theater 3000. It has a bunch of comment-heavy actors (Macaulay Culkin, Christopher Lloyd, Patrick Stewart, Whoopi Goldberg), and a pretty cheesy plot. My favorite part is when Culkin is riding his bike and he comes across a gang and a gang member says, \\Hey, Tyler! Where ya goin'? The MOON??\\\" Also look out for the classic line, \\\"Do you have feeling in your toes?\\\"<br /><br />On the other hand, it's better than \\\"The Good Son\\\".\"\n",
      "* * * * * * * * * \n",
      "1172\n",
      "-SPOILES- Lame south of the border adventure movie that has something to do with the blackmail of a big cooperate executive Rosenlski the president of Unasco Inc. by on the lamb beachcomber David Ziegler who's living the life of Reilly, or Ziegler, in his beach house in Cancun Mexico.Having this CD, that he gave to his brother James, that has three years of phone conversations between Rosenlski and the President of the United States involved in criminal deals. This CD has given David an edge over the international mobsters who are after him. <br /><br />The fact that James get's a little greedy by trying to shake down Rosenlski for 2 million in diamonds not only cost him his life but put David in danger of losing his as well. Ropsenlski want's to negotiate with David for the CD by getting his ex-wife Liz to talk to him about giving it up, Rosnelski made a deal to pay off her debts if she comes through. David is later killed by Rosenliski's Mexican hit-man Tony, with the help of a great white shark, who just doesn't go for all this peaceful dealings on his boss' part. <br /><br />Tony had taken the CD that Liz left for his boss at a local hotel safe and now want's to murder James, like he did David, and at the same time keep the CD to have something over Rosenlski.<br /><br />David who had secretly hidden the diamonds that James had on him at the time of his murder is now the target of Tony and his men to shut him up for good. David also wants to take the diamonds and at the same time give his boss Rosenlski the impression that the CD that David had is lost but use it later, without Rosenlski knowing who's behind it,to blackmail him. <br /><br />The movie \\Night of the Sharks\\\" has a number of shark attacks in it with this huge one-eyed white shark who ends up taking out about a half dozen of the cast members including Tony. David who's a firm believer in gun-control uses knives high explosives and Molotov cocktails, as well as his fists, to take out the entire Tony crew. Even the killer shark is finished off by Tony but with a hunting knife, not a gun. When it came to using firearms to save his friend and sidekick Paco a girlfriend Juanita and his priest Father Mattia lives from Tony and his gang guns were a no-no with David; he was more of a knife and spear man then anything else. <br /><br />The ending of the movie was about as predictable as you can make it with David thought to be killed by the one-eyed shark later pops up out of the crowd,after Rosenlski was convinced that he's dead and leaves the village. David continues his life as a free living and loving beachcomber with no one looking to kill him and about two million dollars richer. to David's credit he had his friend Paco give Rosenski back his CD but under the conditions that if anything happened to him his cousin, who Rosenlski doesn't know who and where he is, will shoot his big mouth off and let the whole world know about his dirty and criminal dealings.\"\n",
      "* * * * * * * * * \n",
      "1486\n",
      "This has to be the cheapest film made in 21st century. It is all the way low quality, but at the end it falls below... everything. All the cheap tricks - like flashing and darkness - are used to hide those crappy computer effects.<br /><br />All the actors are below average, especially the main character Anne Fletcher (Simmone Mackinnon). There is a scene, where Anne is asked: \\Why you seem so careless?\\\" The correct answer is, because she can't act. No matter what happens (the world is about to be destroyed, her friend is dying, she is fired), she has the same stupid grin in her face.<br /><br />It is not only the movie, which is B -quality. It is also the back cover description (at least in Finland). The text mentions things like Lorica Gray -vessel, Capital -vessel and main character Garrison Harper and Anna (not Anne) Fletcher. The description sounds like a different movie, both featuring character called Fletcher and sea monsters\"\n",
      "* * * * * * * * * \n",
      "2041\n",
      "Well what I can say about this movie is that it's great to see so many Asian faces. What I didn't like about the film was that it was full of stereotypes of what typical racial characters would do in their role. The Asian girl without confidence who has to play someone else to get ahead, the white guy infatuated with Asian culture and chooses to leave his white world behind for the land of yellow and the \\keeping it real\\\" black cab driver. Plus all the coke, shanghai tang and dunkin donuts product placement was a bit too obvious. The story plot itself was fun but pretty much how I thought the story would unravel. Then again when watching romantic comedies you can't expect much but then again I would have been wanted to just be surprised at least once. The parents are the best part of the flick.\"\n",
      "* * * * * * * * * \n",
      "2452\n",
      "***SLIGHT SPOILERS***<br /><br />A hunchback 15-year-old boy kisses a very cute 15-year-old girl and eventually he has sex for the first time. After the act, he lays in the bed with her not touching her. The next day he concludes that he does not like sex much and does not want to try it again for at least a few years.<br /><br />This is seemingly a fine opening for a teleplay about a boy discovering his homosexuality, or perhaps a medical drama about a post-pubescent teen with a severe hormone deficiency.<br /><br />However, as the plot develops what emerges is a story of a 15-year-old father who is supported and encouraged by his overbearing mother.<br /><br />At one point, his mother preaches to her co-workers who are not as understanding as they might be, \\Every step of the way in this, my son has been amazing... I have never been more proud of him...\\\"<br /><br />The young father's older sister, who otherwise is cold towards her brother, begins to show pride in her sibling, \\\"You have been cool about this,\\\" as she gives him an encouraging warm hug.<br /><br />The 15-year-old father wants to be a father. He wants to be a parent.<br /><br />Why not? We see the \\\"new\\\" baby a few minutes after birth -- it appears to be a healthy, happy 4-month-old infant. Just as babies were born on TV in the 1960's and 1970's.<br /><br />Once the young father is a parent, he has found happiness. He insists he will be the one to change the dirty diaper. We see the 15-year-old father sincerely happy holding his baby while the teen's busy=body mother is peaking over his shoulder. Fade to black.\"\n",
      "* * * * * * * * * \n",
      "2801\n",
      "It's so sad that Romanian audiences are still populated with vulgar and uneducated individuals who relish this kind of cheap and demonstrative shows, as superficial and brutal as the \\Garcea\\\" series or the \\\"Vacanta mare\\\" child-plays... The difference is that Mugur Mihäescu, Doru Octavian Dumitru and other such sub-artisans never presume to claim their shows as \\\"art\\\". Pintilie, who 40 years ago made a very good movie (\\\"Duminicä la ora sase\\\") followed by another one, nice enough (\\\"Reconstituirea\\\"), tries to declare his film-lenghts \\\"art works\\\" - but, unfortunately, he masters at a way too limited level the specifically cinematographic means of expression. As such, \\\"Niki Ardelean\\\" offers again a sample of \\\"HOW NOT\\\" - this being about its only merit.\"\n",
      "* * * * * * * * * \n",
      "2969\n",
      "After an initial release of 4 very good Eurotrash titles, REDEMPTION has managed to scrape the bottom of the barrel with THE BLOODSUCKER LEADS THE DANCE. I found NO Bloodsuckers anywhere in this movie.<br /><br />The story is simple. A mysterious count invites several actresses to his castle for a little vacation. After some sofcore sexual shenanigans the girls get decapitated one by one. Who is the killer? Who knows? There are more red herrings in this one than at the local fish market on Friday.<br /><br />The pace is excruciating. The story is silly and the skin scenes aren't all that terrific either.<br /><br />Give this one a miss.\n",
      "* * * * * * * * * \n",
      "3298\n",
      "This film was a disaster from start to finish. Interspersed with performances from \\the next generation of beautiful losers\\\" are interviews with Bono and The Edge as well as the performers themselves. This leaves little time for the clips of Leonard Cohen himself, who towers over everyone else in the film with his commanding yet gentle presence, wisdom and humor. The rest are too busy trying to canonize him as St. Leonard or as some Old Testament prophet. Many of the performances are forgettable over-interpretations (especially Rufus & Martha Wainright's) or bland under-achievements. Only Beth Orton and Anthony got within striking distance of Leonard's own versions by using a little restraint. Annoying little pseudo-avant-garde gestures are sprinkled throughout the film- like out of focus superimpositions of red spheres over many of the concert and interview shots, shaky blurred camera work, use of digital delay on some of Leonard Cohen's comments (making it harder to hear what's being said) and a spooky, pretentious low drone under a lot of the interview segments (an attempt at added gravitas?). For the real thing, see the Songs From The Life Of documentary produced by the BBC in 1988.\"\n",
      "* * * * * * * * * \n",
      "3316\n",
      "The highlight of this movie for me was without doubt Tom Hanks. As Mike Sullivan, he was definitely cast against type and showed that he can handle an untraditional (for him) role. Hanks is usually the good guy in a movie - the one you like, admire and root for. Sullivan was definitely not a good guy. It's true that in the context of this movie he came across as somewhat noble - his purpose being to avenge the murders of his wife and youngest son. Even so, he was already a gangster and murderer before those killings. So Hanks took a role I wouldn't have expected him in, and he pulled it off well.<br /><br />Hanks' good performance aside, though, I certainly couldn't call this an enjoyable movie. After an opening that I would best describe as enigmatic (it wasn't entirely clear to me for a while where this was going) it turns into a very sombre movie, about the complicated relationships Sullivan has developed as a gangster - largely raised by Rooney (Paul Newman), who's a sort of mob boss, and trying to raise his own two sons and to keep them \\clean\\\" so to speak; isolated from his business. After the older son witnesses a murder, the gang tries to kill him to keep him quiet, gets the wrong son (and the mother), and leaves Sullivan and his older son (Mike, Jr.) on the run. It becomes a weird sort of father/son bonding movie.<br /><br />Although it ends on a somewhat hopeful note (at least in the overall context of the story) it's really very dark throughout, that mood being reinforced with many of the scenes being shot in darkness and torrential rainfall. I have to confess that while I appreciated Hanks' performance, the movie as a whole just didn't pull me in. 4/10\"\n",
      "* * * * * * * * * \n",
      "3326\n",
      "I was willing to go with the original _Cruel Intentions._ It went along with the plot and stayed true to the characters of one of my favorite stories. However, this movie was, in my opinion, a crummy rehash with essentially the same story line and no clear character choices. I didn't honestly care what happened to any of them. The strongest part of the original story (Les Liasons, not CI) is the characters and their interactions, not the events themselves. I wasn't clear until I read the IMDB that this movie was meant to be a prequel, especially since the title includes a number \\2,\\\" I expected a sequel, but then determined that it must be a companion piece. Over all, I must say that this movie read, to me at least, like a soft porn version of Les Liasons. I was not impressed.\"\n",
      "* * * * * * * * * \n",
      "3330\n",
      "This is another example of a sucky sequel to a great movie. I highly recommend The Prophecy, but this movie was a dud from the start. The acting was decent all the way around, but the story line was weak and added nothing to the origional. A 4 out of 10 at best.\n",
      "* * * * * * * * * \n",
      "3365\n",
      "This is definitely one of the weirder 70's movies out there, and it's most notable for kicking off a decade of Bigfoot hysteria. It is also notable for the little touches of insanity throughout the movie, especially when the dark, moody first half is replaced by a MUSICAL INTERLUDE of all things (as another user pointed out, one of the songs is dedicated to a character, Travis Crabtree, who paddles around in a canoe for a while, then... leaves, never to be seen again). Although it's painfully dated now, i's still a fun scary movie to show to kids, and anyone who enjoys either Bigfoot lore or 70's hillbilly culture is bound to get a kick out of this. My favorite part: a guy gets so scared that he jumps headfirst through a door (!?) and the narrator explains he went unconscious from \\shock.\\\" Uh, I'd say breaking a door with his head is more likely why he went unconscious, but whatever.<br /><br />4/10 stars, or 7/10 if you like bad Americana.\"\n",
      "* * * * * * * * * \n",
      "3685\n",
      "Monika Mitchell's showbiz satire has some laughs and some premeditated violence. I wouldn't say blood-soaked; but there is insult and injury. Max Matteo(John Cassini)is a character actor that has a quirky adaptable presence on screen, but he has a terrible track record of being chosen for the parts he goes after. There is always a producer's nephew or seemingly trivial reason for his not being awarded the role he seeks. Well, the best thing to do is get rid of the competition...Max becomes obsessed with such thoughts. The rewarding career is just a swing, push and shot away. Other cast members: Rene Rivera, Molly Parker, Jennifer Beals, Frank Cassini and cameos by Eric Roberts and Sandra Oh. Well, that's show business...or is it?\n",
      "* * * * * * * * * \n",
      "4120\n",
      "Mindless dribble about the second coming of Christ in the form of a hippie and albino looking Sandra Locke. You have no idea what's happening on the screen with the irritating theme song \\Suzanne\\\" being played over and over throughout the movie until when \\\"The Second Coming of Suzanne\\\" is over you already know it by hard no matter how hard you try to forget the whole thing.<br /><br />This off-the-wall armature movie maker Logan,Jared Martin, is out to make the movie of the century but is so rude and obnoxious that none in the banking world is willing to finance his project. Planning to go on his own Logan then spots this couple at a seaside café and is fascinated with the young woman Suzanne, Sandra Locke, who reminds him of someone he knew in another life: Jesus Christ.<br /><br />With Logan's assistant and all around gofer Clavius, Richard Dreyfuss,somehow getting a $740,000.00 loan from the bank to finance Logan's masterpiece he starts to work on Suzanne by flattering her about her talent as an actress in order to get her interested to be in his film. This leads to Suzanne not only leaving her boyfriend artist Simon, Paul Sand, but later Simon being so depressed and feeling all alone takes a gun to his mouth and blows his brains out.<br /><br />The movie also has two somewhat unrelated sub-plots in it that has to do with a young autistic girl Dorothy, Kari Avalos, who's cured of her autism by Suzanne after everyone else, at the psychiatric hospital that she was committed to,failed. It's not really known what exactly Suzanne was doing at the hospital but she seemed to be some kind of orderly or volunteer there; was this supposed to show us in the audience that she, like Jesus, could miraculously heal the sick?<br /><br />There's also this newspaper columnist and big time businessman tycoon Jackson Sinclair, Gene Barry, who seems to be either going through a very difficult mid-life crisis or has seen a biblical-like vision that changed his life forever. Sinclair had been searching for the meaning of life as well as what it's all about all through the movie and wanted to know why there's all this suffering in the world, like this movie that he's in, and seemed to have found the answer when he first laid his eyes on Suzanne. Sinclair also got some sense knocked into his head when his private chauffeur David, Mark Rasmusser, who's gotten sick and tired of his weird and crazy hallucinations almost running him off a cliff in a kamikaze like drive along the Pacific Coast.<br /><br />The movie \\\"The Second Coming of Suzanne\\\" goes on with a number of unrelated sequences, probably to fill or pad in some time by it's director and film editor, and then goes to it's final scene in a Christ-like crucification on a hill as Logan has all the cameras rolling. It turns out that the crazed Logan got so carried away with his masterpiece as he tried to replicate, on the helpless and tied up Suzanne, the actual crucification of Jesus Christ some 2,000 years ago.<br /><br />Hard to sit through and almost impossible to follow \\\"The Second Coming of Suzanne\\\" puts you through the same kind torture that Suzanne is put through by Logan and the makers of the film. The movie tries to be arty but that's just an excuse to cover up it's brainless and non-existent storyline and even worse the terrible and amateurish acting by everyone in it.\"\n",
      "* * * * * * * * * \n",
      "4745\n",
      "There's a lot the matter with Helen and none of it's good. Shelley Winters and Debbie Reynolds play mothers of a pair of Leopold & Loeb like killers who move from the mid-west to Hollywood to escape their past. Reynolds, a starstruck Jean Harlow wannabe, opens a dance studio for children and Winters is her piano player. Soon Winters (as Helen) begins to crack up. It's all very slow going and although there are moments of real creepiness (nasty phone calls, a visit from wino Timothy Carey), the movie is devoid of any real horror. Nevertheless, it's still worthy entertainment. The acting divas are fine and the production values are terrific. A music score by David Raskin, cinematography by Lucien Ballard and Oscar-nominated costumes contribute mightily. With this, A PLACE IN THE SUN and LOLITA to her credit, does anyone do crazy as well as Winters? Directed by Curtis Harrington, a master at this type of not quite A-movie exploitation. In addition to Carey, the oddball supporting cast includes Dennis Weaver, Agnes Moorehead (as a very Aimee Semple McPherson like evangelist), Yvette Vickers and Micheál MacLiammóir (the Irish Orson Welles) as Hamilton Starr, aptly nicknamed hammy.\n",
      "* * * * * * * * * \n",
      "5170\n",
      "I understand this movie was made on a very low budget but that is no excuse for the monstrosity that is Grendel. Deathstalker, The Throne of Fire, Barbarian Queen, Conquest, the Invincible Barbarian were all done on shoestring budgets and poor special effects yet they still managed to create cult classics by adding some scantily clad women warriors and a good sense of humor. The primitive costumes, dark castles and beautiful Bulgarian landscape gave Grendel the potential to be a very good low budget sword and sorcery film, but the makers completely ruined this opportunity by using extremely poor CGI effects and colorless characters. Compare this film to Beowulf (1999). It may not be Citizen Kane but it is a good example of how an entertaining low budget sci-fi/ adventure movie can be made by using credible special effects and appealing characters.\n",
      "* * * * * * * * * \n",
      "5534\n",
      "I wandered into this movie after watching the 82-minute \\Borat\\\" tonight, and left quite disappointed. I was a huge fan of Wallace and Gromit, and routinely go to see animated films. That being said, I found myself nodding off and at one point nearly walked out, but stayed waiting for this film to get better. Never happened.<br /><br />The visuals are stunning and the voice work is top notch, especially in my opinion, that of Kate Winslet and Ian McKellen (I had to remind myself a few times the bulbous headed lizard villain was Gandalf and Magneto). The problem with this movie for me is it's one of those animated features for the ADD-set. It registers after the fact as one zany slapstick routine after another, weighed down by a treacle filled plot that pulls out every stop in an attempt to convey an \\\"Important Message.\\\" It looks a lot like busted Oscar bait for the animated category, and considering the way it's scoring with critics, I wouldn't be surprised if the Academy gets it wrong and offers up its hardware. But if you're looking for an enjoyable animated feature about rats, take my advice and wait for Ratatouille.\"\n",
      "* * * * * * * * * \n",
      "5730\n",
      "Always enjoy great films which deal with the super-natural and the deep thoughts of the Spiritual world. However, this film just turned me off as far as its production and direction. There is nothing to go into deep discussion about what this story has to tell; all I can say is that it was a big waste of time and effort to put it on the big screen. The actors, namely: Mark Addy, Thomas Garrett, gave an outstanding performance in his native land England, and we have seen him in \\Still Standing\\\" a TV Series. Heath Ledger, played the real wicked dude and we have recently viewed him in \\\"Brokeback Mountain\\\",'05, gave a great supporting role. Shannyn Sossaman, (Mara Sinclair), did a good job of seducing a priest from a church not recognized by any faith. Don't waste your time, you will be sorry!\"\n",
      "* * * * * * * * * \n",
      "6073\n",
      "I regret that I've seen this movie. Can't believe that the creator of Best Intentions and Pelle the Conqueror could make such a bleak and boring film. What a waste!\n",
      "* * * * * * * * * \n",
      "6198\n",
      "\\Washington Square\\\" is a flat, shabby adaptation of the short novel by Henry James. Indeed, the novel is very good, but far from the level of James' masterpieces. Moreover its simple, eventless story seems unsuited to make it into a film (although William Wyler, with his \\\"The Heiress\\\", gave in 1949 a beautiful version of the novel). <br /><br />Anyway, the movie completely betrays the spirit of this work of the great American writer. In the novel, the heroine Catherine is shy, not very attractive and somewhat clumsy, but nonetheless she is a sound, intelligent young woman, and she's not as naive as it may seem. Her attachment for her father is dignified and respectful, with no morbid sides in it. Along three quarters of the movie, Catherine (Jennifer Jason Leigh) just seems to be mentally retarded, poor thing. In the last quarter, she suddenly (and incredibly) becomes intelligent, aware of her dignity as a woman, and all that.<br /><br />The director Agnieszka Holland has added two vulgar scenes to the story. The first, when the nervous child Catherine has, well, troubles with her vesica. The second scene, when we see on the background a sort of open-air brothel, with prostitutes taking their customers behind tents, and so on. Nothing could be more contrary to the spirit and artistic ideals of Henry James. It is notorious that the writer was extremely decent and demure even for the standards of the Victorian age. I defy anyone to find any coarseness anywhere in the thousands of pages of James' huge literary production. I really was particularly annoyed by these two scenes.<br /><br />Yes, I know that a director needs reasonable freedom in the screen adaptation of a novel. But if a director utterly ignores or misunderstands the art of an author (here Henry James), I don't see the point of using his work to make a bad movie. <br /><br />The acting is adequate to the movie: poor and flat, in spite of the talent of Albert Finney and Maggie Smith. \\\"Washington Square\\\" is definitely a non-recommendable film.\"\n",
      "* * * * * * * * * \n",
      "6447\n",
      "Robert Colomb has two full-time jobs. He's known throughout the world as a globetrotting TV reporter. Less well-known but equally effortful are his exploits as a full-time philanderer.<br /><br />I saw `Vivre pour Vivre' dubbed in English with the title 'Live for Life.' Some life! Robert seems to always have at least three women in his life: one mistress on her way out, one on her way in, and the cheated wife at home. It helps that Robert is a glib liar. Among his most useful lies are `I'll call you tomorrow' and `My work took longer than planned.' He spends a lot of time and money on planes, trains and hotel rooms for his succession of liaisons. You wonder when this guy will get caught with his pants down.<br /><br />Some may find his life exciting, but I thought it to be tedious. His companions, including his wife, Catherine, are all attractive and desirable women. But his lifestyle is so hectic and he is so deceitful, you wonder if he's enjoying all this.<br /><br />Adding to the tedium is considerable footage that doesn't further the plot. There are extended sections with no dialogue or French-only dialogue. We see documentaries of wars, torture, and troop training interspersed with the live action. When Robert's flight returns from Africa, we wait and wait for the plane to land and taxi to the airport terminal.<br /><br />Annie Girardot is the standout performer in this film. Hers was the most interesting character and she played it to perfection. It was also nice to see Candice Bergen at the beginning of her career. I can't find fault with Yves Montand's performance of what was basically an amoral bum.<br /><br />I enjoyed some of Claude Lelouch's novel techniques. In a hotel room scene, the camera pans around the room as Robert and his mistress argue. We catch sight of them briefly during each pass around the room. In another scene set on a sleeping car of a train, Robert is lying on the upper bunk while his wife is on the lower. Robert is giving his wife some important but distressing news, but we hear only parts of it because of the clatter of the train. I sensed that his wife was also unable to absorb every word due to the shocking nature of the news. I also liked the exciting safari scenes in Africa. The cinematography of those scenes and of those in Amsterdam was superb.<br /><br />I reviewed this movie as part of a project at the Library of Congress. I've named the project FIFTY: 50 Notable Films Forgotten Within 50 Years. As best I can determine, this film, like the other forty-nine I've identified, has not been on video, telecast, or distributed in the U.S. since its original release. In my opinion, it is worthy of being made available again.<br /><br />\n",
      "* * * * * * * * * \n",
      "6516\n",
      "THE FBI STORY (1959) was Warner Bros. 149 minute epic tribute to the famous criminal investigation agency! From a book by Don Whitehead came a somewhat laborious screenplay by Richard L. Green and John Twist and was directed with only a modicum of flair by Mervyn LeRoy. However it did have splendid colour Cinematography by Joseph Biroc and a helpful score by the studio's musical magician Max Steiner!<br /><br />The movie charts the history of the Bureau from its lowly beginnings in the twenties to modern times and its all seen through the recollections of aging fastidious agent Chip Hardesty (James Stewart) as he relates his investigative experiences - in flashback - to a class of budding young agents. But it's all very long-winded and episodic! And as it progresses it begins to look like a TV mini series instead of a major movie production as the young Hardesty runs the American crime gamut from taking on such notorious criminal figures as \\Baby Face\\\" Nelson, Ma Barker, Dillinger etc. to sorting out nefarious organisations like the Ku Klux Klan, Nazi spy rings and the Red Menace. And here it has to be said that only for the screen presence and appeal of its star THE FBI STORY would probably have ended up a forgotten disaster. Moreover, this is another problem with the picture - Stewart is left to carry the entire movie almost on his own! With the exception of Vera Miles - who has the thankless role of being his long suffering but devoted wife - he is surrounded by a cast of minor players! Throughout you find yourself half expecting someone like Robert Ryan, Jack Palance or even Raymond Burr to make a welcome entrance as a mobster or a police chief or whatever. But nothing quite as imaginative as that ever occurs! Pity!<br /><br />The film does however manage to give a good look inside the workings of the Bureau! With the help of Stewart's narration we learn about the thousands of men and women who work for the organisation which includes the hundreds of agents in the field. And we are also treated to a peek inside headquarters which houses the gigantic records section and we also get a glimpse of the chemists and fingerprint experts meticulously going through their daily chores.<br /><br />Another plus for the movie is Max Steiner's remarkable score! Heard over the titles is a powerful, rousing and determined march while for the picture's gentler moments there is an attractive love theme. But quite ingenious is the menacing and ominous march theme for the Ku Klux Klan sequence. And better still is the rhythmic Latin-American music the composer wrote for the South American scenes especially the exciting Fandango like orchestrations for the arrival of the Federal troops on horseback. THE FBI STORY was one of five scores the composer wrote in 1959 which included Samuel Bronston's naval epic \\\"John Paul Jones\\\", the charming Rom-com \\\"Cash McCall\\\", Delmer Daves' seminal western \\\"The Hanging Tree\\\" and Daves' \\\"A Summer Place\\\" from which derived the Young Love Theme - which was to become a major hit tune for Steiner better known as \\\"Theme From A Summer Place\\\".<br /><br />THE FBI STORY just about passes muster as a movie thanks to Biroc's rich colour Cinematography, Steiner's wonderful music and of course Jimmie Stewart who makes anything watchable!<br /><br />Classic but implausible line from THE FBI STORY............. As the bland Nick Adams (who has just blown up a plane with 43 people on board, including his mother) is being led away handcuffed he turns to the arresting officer and blurts: \\\"In case I get any mail you can send it to Canyon City prison for the next month or so - after that you can send it to HELL\\\". Wow!\"\n",
      "* * * * * * * * * \n",
      "6581\n",
      "Although the director tried(the filming was made in Tynisia and Morocco),this attempt to transport the New Testament in the screen failed.The script has serious inaccuracies and fantasies,while the duration is very long.But the most tragic is the protagonist Chris Sarandon,who doesn't seem to understand the demands of his role.\n",
      "* * * * * * * * * \n",
      "6625\n",
      "The NSA, CIA, FBI, FSB and all other snoop agency in the world should watch this movie to gain information as to how to spy on people. (as MST3k Commentary states it...\\Sanata has the dirt on every! Santa's Tentacles reach far and wide! There is no hiding from the Klaus Organization\\\")<br /><br />From telescopes that can spy over millions of miles to ears that can hear everything. Its amazing that the CIA doesn't have Santa on the payroll. <br /><br />Satan's dance routine is hilarious. Pitch...he is so useless.<br /><br />The cheese factor in of this movie is tremendous. Very low budget but so fun to watch. I recommend watching the Mystery Science Theatre 3000 version for even more laughs.<br /><br />You even get a laugh at the missfortune of the good kids.<br /><br />I give this a 1 for production quality and a 10 for pure cheese and fun factor.\"\n",
      "* * * * * * * * * \n",
      "6811\n",
      "I realize that bringing a novel to the big screen is always problematic. That is the only positive thing I can say about this truly horrid adaptation.<br /><br />Have you read 'Wise Blood?' It's an amazing book. Flannery O'Connor wrote about the south as no one else has. She was a southerner herself, a devout catholic, and a remarkably gifted writer. In her first novel she wove together a dark and deeply disturbing tale of faith, doubt, and redemption with a macabre sense of humor and surprising evenhandedness. The characters in the book may seem outrageous to those who have not lived in the rural south, but I can assure you that such people do exist. Not only do they exist, they are human beings with families, feelings, and concerns like anyone else. Flannery's intentions were so often misunderstood - she was not lampooning these backwoods zealots - she saw in them the beautiful operation of what she would have called 'grace'...even in the most violent, distressing, and maddening of circumstances. To read 'Wise Blood' is to be washed over with a sense of dread and impending doom. Finally, it is to think long and hard about our judgments and preconceptions - our entire world view.<br /><br />None of this comes through in John Huston's 'Gilligan's Island'-like adaptation. None. It is a farce. A bad farce. The entire film is saturated with a hauteur that turns the stomach. The acting is poor, the southern accents are fake and insulting. The filmmakers show no insight into the thinking of religious southerners. Ms. O'Connor's intense prose are reduced to sight gags and cheap, amateur theatre. The soundtrack is a mixture of hayseed silliness and 'Clockwork Orange'-style cheeseball electronics that doesn't fit the story or even the MOVIE. I was granted free admission to this movie and almost walked out. Truly, truly terrible.<br /><br />As an aside, I do not agree with Ms. O'Connor's religious views, and while I was raised in the deep south, years ago I made my way north and have not looked back. But the south is a beautiful place full of fascinating individuals (like every other place on earth), and the cartoonish mockery with which southerners and their attitudes are dealt in this movie borders on offensive. If you're into being offended (which I am not), then this movie most DEFINITELY crosses the line.<br /><br />I don't like to talk crap about an artist's work - John Huston was a man that I did not know, and I'm sure he was a sincere and gifted filmmaker, to which his respected place in film history attests. My views are clearly skewed by having read (and loved) Flannery O'Connor's work. So I don't claim to be coming from any other perspective. Maybe as a stand-alone film it works for cinephiles. But for Flannery O'Connor fans - and, I might add, for self-respecting southerners and openminded individuals of all stripes - this movie is a waste of time.\n",
      "* * * * * * * * * \n",
      "7014\n",
      "I own this movie. I bought it for $3.99 at a fairly major video retailer in order to do some \\indie\\\"\\\" type movie research since I had just finished my own feature and was editing it. Now when I feel down about my skills as a first time director I just sit down with a plate of cookies and Severed. Within minutes I feel great!!!<br /><br />I hate to down talk another filmmaker so I'll just use constructive criticism. 1. Find good actors. Take the time. It really helps. 2. When shooting video, over light your scenes and darken in the computer later on in post. 3. Closeups are better for Video. 4. When an actor enters a scene, wait a bit before<br /><br />having them speak so that we know what's going on and who's talking. 5. Never show the back of a door while we wait for someone to come open it. Damn well worth the $3.99<br /><br />The True Horror would be getting the reviews Severed has here on IMDb. And you have to give these guys credit... they did get distributed.\"\n",
      "* * * * * * * * * \n",
      "7235\n",
      "Any person with fairly good knowledge of German cinema will surely tell that numerous films about a young girl having troubles with her mother as well as her boy friend have been made in the past.If such a film is shown to people again,it would surely click provided if it has something new,fresh and captivating for today's challenging audiences. This is also true for German film maker Sylke Enders as her film's principal protagonist Kroko has been mistreated by everybody around her including her mother and boyfriend.She is bold enough to face any punishment as she has tried her hand at all kinds of criminal activities including shoplifting.Kroko was originally shot on DV to be blown afterwards to 35 mm format.Its technical virtuosity does not hamper our joys when we learn that Kroko would like to become a policeman as she feels that she is averse to the idea of becoming a run of the mill hairdresser.If someone were to state a positive aspect of Sylke Enders' film,it may well be Kroko's involvement with handicapped people as a result of a punishment.It is with Kroko that we learn that punks are human too with their unique joys and sorrows.\n",
      "* * * * * * * * * \n",
      "7833\n",
      "On Broadway, A Chorus Line was pure magic. From the second the show opened with a spectacular burst of energy to the truly grand finale, a joyous curtain call of all those chorus members who we grew to love during the course of the show, we were totally engaged - captivated by the intensely personal stories, some funny, some clever, some stirring, of this chorus line. The movie is another matter entirely. The focus is now on the director - and WHAT an ogre he is! Every time the film switches to Michael Douglas, there he is with a bitter, sour expression, barking out questions and orders, screaming and yelling whenever he gets the chance. Yikes!! That changes the dynamics of the story. On Broadway, the director was indeed an imperious offstage presence, but he was also sort of a theatrical device to allow the stories of these amazing strong/fragile/intriguing/hilarious chorus line members to be told with insight and clarity. There is a reason this work won the Pulitzer Prize! And actually in one of the only moments the director appears, he is there to comfort the young Puerto Rican Dancer after we hear that dancer's heart-breaking story. He appears again to ultimately express his genuine affection/ concern for Cassie. But in the movie, from the second Douglas' director starts bitterly barking orders, the chorus line members' stories become secondary. It's like they are in a lousy profession, where a jaded director instead of showing the joy at creating a new exciting theatrical show, is jaded, exhausted, furious at having to audition these chorus members. On stage, there was ALWAYS the excitement of the show. Here in the movie practically from the word go, you feel sorry for everyone involved. During the course of the musical, we desperately wished every single one of those chorus members well, and how happy we would have been if they had all gotten the job! But of course that couldn't happen. But in the Finale when they all came back in glorious costume with those amazing spinning mirrors on stage, sometimes reflecting us in the audience, in our hearts, and we know, also in the hearts of all those chorus members both accepted and rejected, they were on stage forever dancing in a profession they loved so much, bringing magic to the theatre. In the movie, after all the misplaced story lines and emphasis, that magic becomes totally diluted. All we feel (even with the exact same curtain call), is that some of the members got a job with a mean-spirited director. So they all come on the screen and are dancing again. Big deal.\n",
      "* * * * * * * * * \n",
      "8087\n",
      "I came away from this movie with the feeling that it could have been so much better. Instead of what should be a gripping, tense story of a boy's fight for survival in the wilderness, it comes off as a National Geographic documentary meets Columbia sportswear ad.<br /><br />The film begins with Brian (Jared Rushton) preparing for a journey by plane to see his father. His mother fortuitously gives him the curious choice of a hatchet as a going-away gift (what's wrong with a Rubik's Cube?), little knowing how badly he will soon need it. Once in the air, the plane's pilot (a blink-and-you'll-miss-him cameo by Ned Beatty) suffers a fatal heart attack, leaving Brian helpless as the plane crashes into a lake. Extremely lucky to walk (or rather swim) away virtually unscathed, Brian must find shelter, food and hope for rescue.<br /><br />Here is where the main problem with the movie begins. By the very nature of Brian's solitude, Jared has very few lines to speak, and so the film ought to have compensated by ratcheting up the tension of each scene. Instead, he is shown walking around, sitting around, and so on, with only a minimal sense of danger. As a result, too much reliance is placed on flashbacks to the parents' troubled marriage as the source of tension. These scenes merely get in the way and don't particularly add much to the story. Even worse, occasionally Jared  his face covered with mud - lets out a primal scream or two, which conjures up unfortunate parallels to `Predator.' Speaking of unfortunate, we could have done with being spared the sight of his mullet, but it presumably helped keep him warm at night.<br /><br />Another disappointment is Pamela Sue Martin in a totally ineffectual performance as the mother. Both she and the father have very little impact in the movie. For instance, we are never shown how they react to news of Brian's disappearance, how they might be organizing rescue attempts, and so on. This is just one source of tension the film-makers would have done well to explore instead of spending so much time on events that happened before Brian embarked on his journey.\n",
      "* * * * * * * * * \n",
      "8526\n",
      "The subject is certainly compelling: a group of people take their love of gaming one step further by creating a fake medieval world full of warriors, kings, princes and castles. Wargaming is an interesting phenomena that delves into our collective need to \\escape\\\" from reality and the sometimes mundaneness of our existence -- something almost everyone can relate to. The characters are the predictable mix of Lord of the Rings nerds and Star Trek enthusiasts. That's enough to get most people to watch. However, very quickly the film turns into an insider's view of wargaming with an almost stereotypical thumbing of the nose to viewers who \\\"don't get it\\\". The filmmakers seem to take the subject of wargaming, and this particular one, waaaaay too seriously rather than once in awhile recognizing the humor and fun in making a film about adults drssing up in medieval gear and pounding each other with foam swords. It's pretty hard for anyone who doesn't sit on their computer for 7-10 hours a day playing games or desiging the latest star destroyer to understand what the characters are talking about and why we should even care. However, the filmmakers themselves seem not to care choosing to focus solely on the subject of the game itself rather than building a strong narrative with a clear story that anyone can understand. Moreover, the characters themselves are not that compelling and you quickly become bored of them: a big no-no when you're trying to keep people's attention for 90 minutes.\"\n",
      "* * * * * * * * * \n",
      "8700\n",
      "You know what kind of movie you're getting into when the serial killer main character is being transported to the electric chair (in what seems to be a bakery truck), only to have the prison vehicle collide with (and I'm not making this up) a genetic engineering tanker truck. The goo which spurts forth melts him, and fuses his DNA with the snow, creating our protagonist, the killer snowman.<br /><br />My favorite portion of the movie, however, is an over-the-shoulder shot of the snowman thrashing some poor schmuck, in which his hands look suspiciously like a couple of white oven-potholder gloves.<br /><br />Mmmmm, schlock...\n",
      "* * * * * * * * * \n",
      "9257\n",
      "I was curious to watch this movie. A lot of people seem to be excited. I also have my beliefs. I believe in Jesus Christ but I'm opened for any kind of views or opinions. It doesn't matter for me, if Jesus existed in the way it's written in the bible. If Maria was a virgin or not, or all the other similar pagan coincidences. What matters for me is the idea of salvation, the idea of love as the only way to find peace in this world.<br /><br />What made me angry is when somebody takes a sentence, present it as a fact but without showing the context it was written. For example, they showed in this movie following sentence big: \\Those enemies of mine who did not want me to be king over them - bring them here and kill them in front of me\\\" Jesus (Lukas 19:27) What they didn't tell you is the context. Jesus told a story about an evil king. There is no passage in the bible where Jesus supports killing. He is love! After quoting the bible wrong they present us yelling people (pseudo-christians) filled with hate. The majority of viewers don't check the informations presented so they start thinking Jesus=hate=not good for me or for anybody else. This is pure manipulation people. Please use your brain. Don't take everything as a fact they tell you in this movie. We destroy our own basis, our civilization if we start dismantling Jesus in this way and the message he brought to us. You saw off the branch you're sitting on.\"\n",
      "* * * * * * * * * \n",
      "10355\n",
      "This movie contains no humor for anyone who has lived with a family member who has a mental illness. So many scenes reminded me too graphically of my own life experiences. This movie was the man's version of \\Mommy Dearest.\\\" It depicts both graphically and accurately the life many children of a mentally ill parent goes through. It also shows how easy it is for a psychiatrist to become corrupt and act like they are God. <br /><br />Someone told me it was funny. No way, I say! It is sick humor at best. <br /><br />The movie is so intense and depressing that my son and I had to leave the room. The best use for this movie is for people who don't understand mental illness or don't believe what we families actually do live through.\"\n",
      "* * * * * * * * * \n",
      "10603\n",
      "This was longer than the Ten Commandments, All Lord of the Rings and the Matrix Trilogy combined. My oh My, what a nightmare. This is the single biggest over-hype of 2006. THere is not a moment that is not scripted and clichéd. Movie Musicals can be done brilliantly and bring genuine excitement to the viewer. Dreamgirls takes the route of Chinese Water Torture, in the form of endless music montages, shoddy acting, and poor directing choices (Seriously, Mr. Condon, did you HAVE to do the old Billboard countdown shots? It's at #58! No wait, look its rising up the charts and here is the passing Billboard notice to show you again....and again....and again)\n",
      "* * * * * * * * * \n",
      "10637\n",
      "This adaptation, like 1949's *The Heiress*, is based on the Henry James novel. *The Heiress*, starring Olivia de Havilland, remains as a well-respected piece of work, though less true to James' original story than this new remake, which retains James' original title. It is the story of a awkward, yet loving daughter (Leigh), devoted to her father (Finney) after her mother dies during childbirth. The arrogant father holds his daughter in no esteem whatsoever, and considers her, as well as all women, simpleminded. When a young man (Chaplin) of good family and little fortune comes courting, the Father is naturally suspicious, but feeling so sure that his daughter could hold no interest for any man, is convinced that the young man is a fortune hunter and forbids her to see him. Leigh is a controversial actress  most either love her or hate her  and she always has a particular edginess and tenseness to her style, like she's acting through gritted teeth. She's not bad in this, and she handles her role relatively deftly  it's just an awkward role for any actress, making the audience want to grab the character by her shoulders and shake her until she comes to her senses. While the character garners a lot of sympathy, she's not particularly likable. The very handsome and immensely appealing Ben Chaplin (previously seen in *The Truth About Cats and Dogs*) plays his role with the exact amount of mystery required to keep the audience guessing whether he is after her fortune, or is really in love with her. Maggie Smith is one of the finest actresses alive and raises the level of the movie considerably with her portrayal of the well-meaning aunt. Finney is marvelous, of course, as the father who threatens to disinherit his daughter for her disobedience, but the daughter is willing to risk that for the man she loves. But does her ardent suitor still want her without her fortune? This is only one instance where *Washington Square* differs from *The Heiress*. Another instance is the ability to stick with it. It is a handsome movie that is as tedious as a dripping faucet, offering too little story in too long of a movie.\n",
      "* * * * * * * * * \n",
      "10757\n",
      "I have to admit I laughed a few times during this trivial 2004 holiday movie, but it's already moving out of my short-term memory. In a career that is sliding rather swiftly toward tabloid obscurity, Ben Affleck, once a promising comic character actor who became enmeshed in the Hollywood publicity machine to recreate himself into a romantic leading man. Judging from this film, the transformation doesn't seem to be taking, as he continues to lack the gravitas that would make him credible in such parts. While his buddy Matt Damon takes on smart roles in films like \\Syriana\\\", Affleck appears in this type of commercial pap. At least the superficial character of successful but lonely advertising executive Drew Latham suits Affleck better than most of the other roles he has tried.<br /><br />Directed by Mike Mitchell (whose most famous film is 1999's \\\"Deuce Bigelow: Male Gigolo\\\") and scripted by no less than four screenwriters (always a bad sign), the flimsy plot revolves around his character's need to \\\"rent\\\" a family living in his childhood home in order to live out his fantasy of having the old-fashioned Christmas he never had. The concept is actually intriguing because there is something to be said about the cathartic release of sentimentality we are all directed to feel amid the frenzied commercialism around the holidays. The real problem, however, is that the movie feels like an extended sketch lacking any logic or authentic emotional resonance. Affleck seems to be on overdrive attempting desperately to be lovable, but the net result is an exhausting turn by an actor who has an increasingly annoying habit of playing stupid people in ill-conceived films. Fortunately, he has the likes of James Gandofini and Catherine O'Hara playing the Valcos, the couple who decide to accept Drew's monetary offer to pretend to be his parents.<br /><br />Gandolfini plays Tom like a gruff, non-violent relative of Tony Soprano, but he does what he can in the role. From her classic SCTV Days to Christopher Guest's mockumentaries, O'Hara is always a comic gem no matter the vehicle, and unsurprisingly she earns the best laughs as Tom's wife Christine, whether dryly delivering a one-liner or posing in an inch of make-up for a dominatrix photo shoot. In what is becoming her standard screen role, Christina Applegate plays their mistrusting daughter Alicia, who of course becomes Drew's love interest. Despite some good moments where she is enjoying the deceit of playing Drew's sister in front of his girlfriend's family, her character seems to change in lightning-flash strokes making it hard to see what Drew would see in her. The story spins completely out of control by the last third with one contrived situation piled on top of another until plot strands are tied together in short order. It's rumored that much of the movie was improvised since there was no finished shooting script. It shows, but I also have to admit I stuck with it to the bitter end.\"\n",
      "* * * * * * * * * \n",
      "11303\n",
      "Unless I'm sadly mistaken, I rented A Nightmare on Elm Street 3 several years ago and there was a music video, I'm pretty sure which was called Dream Warriors, at the end of it, and I rented this one on DVD hoping that the video would be there because it was one of the funniest things I've ever seen. It's amazing how stuff from the 80s is so funny now, but nothing is funnier than 80s rap videos. There was this rap group singing that song Dream Warriors on the VHS version of this movie after the credits, and they're all wearing like denim jackets with no shirt underneath and form fitting jean shorts that are all frayed at the bottoms like Daisy Dukes. What could make a rap group look more foolish I can't imagine.<br /><br />(spoilers) At any rate, I was disappointed in looking for that video on the DVD version, so all I had was this mediocre installment in the Freddy Krueger series. The movie sort of starts off with the same idea as part 2, with the main character witnessing all kinds of gruesome murders and then sort of coming out of a trance and finding himself with the bloody hands. Kristen Parker (Patricia Arquette) has a nightmare about the infamous house that Nancy Thompson used to live in, then runs to the bathroom, the sink's handles turn into Freddy's hands and attack her, and then she wakes up standing in her bathroom having slit her own wrists. From there, the movie turns into the usual mental hospital installment. <br /><br />`Larry' Fishburne, tired of always playing the bad guy in his roles, was happy to take on the role in this film as a nice-guy orderly, stern but accommodating when the patients want to bend the rules a little. Not surprisingly, he turns in what is by leaps and bounds the best performance in the movie. Arquette later goes on to become an accomplished actor, but had not perfected her acting skills when she starred in this film. The characters in the movie are mostly all patients at the mental hospital that Kristen is placed into after cutting her wrists. All of them are cynical and uncooperative, almost none believing that they really belong there at all. Eventually, they realize and are able to convince the staff that they are all having dreams about the same man and it's not just some kind of group hysteria.<br /><br />Heather Langenkamp has returned in her famous role as Nancy Thompson, this time grown up into a dream researcher as a result of her childhood experiences involving Freddy Krueger. Not surprisingly, she is able to quickly relate to the hysterical Kristen and the rest of the patients, since she had experienced exactly what they're going through. There are some interesting murders in this installment, and the technology used for the special effects have taken a huge jump. There is a gigantic, worm-like Freddy that tries to swallow Kristen whole, there is a scene where a television turns into Freddy and with mechanical arms he picks up one of the patients there for some late night entertainment and punishes her for sitting too close to the TV, but there is also an unconvincing go-motion scene where a couple guys have a fight with Freddy Krueger's skeleton, which has been rotting in the trunk of some car in a car junkyard. And one of the more groan-inducing scenes was one where Freddy attacks one of the patients in his dream (the one famous for sleepwalking), tearing the muscles and tendons out of his arms and legs and leading him around like a puppet. Ouch.<br /><br />We get a peek into Freddy's past in this installment. Not only do we meet his mother, but we also find out the circumstances that led to Freddy being fathered by more than 100 maniacs. In fighting Freddy, the patients all band together and, in their dreams, use their special powers (most of which reflect their shortcomings in real life) to fight him. One student, bound to a wheelchair, is able to walk in his dreams, another has the hilarious powers of what he calls the `Wizard Master,' another is `beautiful and bad' (she has lots of makeup, her hair stands up in a foot-high Mohawk, and she has knives). Clever, but the movie falters when it has only one of the patients, the one who can't speak, not have any powers in his dreams until the climax of the movie, when he suddenly realizes that he can talk in his dreams (at just the right moment to save the day). His dream power was a little too obvious to have been left out for that long, but collectively, now you see why the movie was subtitled Dream Warriors.<br /><br />Altogether, this is not an entirely weak entry into the series. The acting is pretty shoddy, but it's actually pretty good for a horror movie. Larry Fishburne vastly overshadows the rest of the cast, displaying wonderful acting skills early on in his career, and the movie is not simply a rehash of either of the first two  a problem that plagues the Friday the 13th movies much more than the Elm Street films. The characters are never developed enough to allow for the later creation of much tension, which is why most of the deaths come across more as creative ways to kill off someone in a horror film than the tragic loss of the life of one of the characters that we've come to know and root for their triumph over evil. But then again, not a lot of horror movies take the time to really develop their characters to the point where you throw up your hands in defeat when they are killed, or are on the edge of your seat as they run for their lives. But it's important to note that the few horror films that actually do that are almost invariably the best ones\n",
      "* * * * * * * * * \n",
      "11332\n",
      "This oddity in the new DORIS DAY COLLECTION doesn't really need to be included as she is only in the film for less than 30 minutes. What she does do however, is shine when she's on screen. The near plot less movie is just an excuse to showcase some Warner contract players of the day. JANCIE RULE shows promise and it's a shame she didn't become a big star. RUTH ROMAN handles the role of the \\go-getter\\\" with aplomb. Better if this was in color. The Travis Air force base locations with some rear projection work well. What's best about the movie are some wonderful musical interludes. If you enjoyed THANK YOUR LUCKY STARS and Hollywood CANTEEN you'll like this one.\"\n",
      "* * * * * * * * * \n",
      "12140\n",
      "Life in some future fascist or near fascist state which severely restricts personal freedoms is a recurrent theme both in modern literature and for film makers. Such works post us warnings about undesirable trends in our society to watch out for; but to be effective they must also be entertaining. Unfortunately most of the books are probably more effective in posting the warnings than in entertaining us enough to become really widely read; whilst with the films the problem is usually the other way round. The first such work to become really widely known was probably George Orwell's \\1984\\\" (first published in 1948), and this is still readily available both in the form of a book and as a film.<br /><br />Watch or read it: and then, when you are feeling a little depressed by man's inhumanity to man, reach for Cinderella 2000. This is a feather light low budget film comedy based on the same theme which provides effortless but unrewarding viewing; and as with 1984 the calendar has now passed beyond its erstwhile period. Most of the comedy is laid on with a trowel although there are just a few genuinely funny moments. To exercise your mind in the long intervals between these you can focus it on the question of whether this film will gain a new extension of life by being released as a DVD or whether it will finally disappear into oblivion as existing tape copies deteriorate past redemption. There are many worse films appearing as DVD's these days, and frankly I do not care much what happens either way.<br /><br />So far the best of the films of this genre has probably been \\\"The Handmaiden's Tale\\\", but I would very happily swap them all for a well made film of Jack London's towering novel \\\"The Iron Heel\\\". Ambitious as this would be, it still seems incredible that no modern film maker has yet dared to attempt it (IMDb only lists a B/W silent version made in Russia in 1919).\"\n",
      "* * * * * * * * * \n",
      "12598\n",
      "Director Warren Beatty's intention to turn Chester Gould's famous comic strip into a live-action cartoon (with Beatty himself cast in the lead as the square-jawed detective) had sweet overtures of innocent nostalgia--quite unusual and intriguing coming from Warren Beatty. Unfortunately, the picture is requisite ham, fun for awhile but eventually tiring. Dick Tracy attempts to bring down mobster Big Boy Caprice, aided by loving Tess Trueheart but tripped up by evil Breathless Mahoney. For the first half-hour or so, the Oscar-winning art direction and set design are wonderful to absorb but, as the plot creaks along predictably (with no real sting in the writing), things begin to congeal. Al Pacino got a surprise Supporting Oscar nomination as bad boy Caprice, and Madonna (who is mostly used as a decorative prop) gets to sing Stephen Sondheim's \\Sooner or Later (I Always Get My Man)\\\", which copped the award for Best Original Song. Lots of heart, thanks to Beatty--who was dedicated to his vision--but the picture is too cool and calculated. It lacks heat. *1/2 from ****\"\n",
      "* * * * * * * * * \n",
      "13485\n",
      "With an absolutely amazing cast and crew, this might have been a classic. Instead it is a repetitive paraphrasing of all the conspiracy theories extant in 1979 about the JFK assassination grafted, rather pointlessly, on to a vaguely incoherent plot about the murder of fictitious president Kegan in 1960. Many superb character actors are wasted as they are either not given enough to do - Sterling Hayden or Eli Wallach, for instance, or they are asked to go rather luridly over the top - John Huston. Jeff Bridges and Anthony Perkins do manage to acquit themselves very well, in their very different ways, though.<br /><br />The photography is gorgeous, but does not justify an hour and a half of your life, or the price of the DVD purchase.\n",
      "* * * * * * * * * \n",
      "13577\n",
      "You may consider a couple of facts in the discussion to be spoilers.<br /><br />I'm sorry, but Spielberg didn't deserve to win any Oscar for this piece, and I think the Academy was right in that vote. (Other Oscars for best actor nominations and such... that I don't know about. But it would be hard to justify, given what they were told to do and what you see in the final product.) The way Spielberg directs this is so contrived, so meddlesome. While watching this movie a distinction made during a Film as Art course I have taken was screaming at me: \\Sentiment is honest emotion honestly rendered. Sentimentality is sugary and unreal, a false view of life.\\\" This is over-the-top sentimentality. When in real life to two people ever begin to read out loud in synchronicity, as Celie and Shug Avery do when sitting on the bed going over the letters from Nettie they have found? There are examples of this type of faux behavior throughout the film: all the men crowding around Miss Millie's car and then jumping in unison like a flock of birds taking off when she goes to drive away; Harpo falling through the roofs of various buildings he's working on (a cheap slapstick gag); the whole troop of revelers heading from the Jook Joint en masse to the chapel, as if magically entranced by the choir's singing... on and on. Nothing rings true. I even wondered if Harpo's name was chosen purposefully because it's his wife Sophia's real name, \\\"Oprah,\\\" backwards. Spielberg isn't above such \\\"cuteness.\\\"<br /><br />It's not that Spielberg is incapable of honestly rendered action and emotion. Schindler's List was amazing, deeply touching for me, and I greatly admire Saving Private Ryan too for its realism, even if the story is a bit contrived.\"\n",
      "* * * * * * * * * \n",
      "13635\n",
      "Daddy's girls Florence Lawrence and Dorothy West receive some terrific news at the local post office, unaware they are being stalked by burglar Charles Inslee. Meanwhile, father David Miles receives a message (from young Robert Harron) which necessitates daddy leaving home; so, when the young women return, they can be home alone. As the vulnerable pair bed down for the evening, the local \\Grand Ball of the Black and Tans\\\" gets underway; and, a dark-skinned drinker portends additional danger for D.W. Griffith's dynamic duo <br /><br />Mr. Inslee has one of his better Biograph roles, stealing the film from \\\"The Girls and Daddy\\\". Ironically, Director Griffith appears as one of the black-faced extras at the \\\"Black and Tans\\\" ball. \\\"Biograph Girls\\\" Lawrence and West are suggestive of later \\\"Griffith Girls\\\" Lillian and Dorothy Gish, especially in \\\"Orphans of the Storm\\\" (1921); and, they are excessively affectionate in bed! The racist tone is unfortunate, since the story of a burglar redeemed by saving his potential victims from a greater danger, is intriguing. <br /><br />*** The Girls and Daddy (2/1/09) D.W. Griffith ~ Florence Lawrence, Dorothy West, Charles Inslee\"\n",
      "* * * * * * * * * \n",
      "13681\n",
      "I wouldn't bring a child under 8 to see this. With puppies dangling off of buildings squirming through dangerous machines and listening to Cruella's scary laugh to name a few of the events there is entirely too much suspense for a small child. <br /><br />The live action gives a more ominous feel than the cartoon version and there are quite a few disquieting moments including some guy that seems to be a transvestite, a lot of tense moments that will worry and may frighten small kids.<br /><br />I don't know what the Disney folks were thinking but neither the story nor the acting were of their usual level. The puppies are cute But this movie is spotty at best.\n",
      "* * * * * * * * * \n",
      "14595\n",
      "A remake of the superb 1972 movie of the stage play, nicely casting Caine as the nemesis of his character from the first movie. But doing nothing else nicely at all.<br /><br />A under-parr performance from the actors, Law and Caine, diluted further by weak self-indulgent direction.<br /><br />The warmth of the setting in the original is forsaken for a super-modern homesetting. The subtle interplay between Oliver and Caine which made the first movie so watchable, is replaced with a horrid, brash arrogance that instantly breeds disdain in the viewer. But this is not the clever, to-ing and froing of liking one then the other character the original fostered so well, this is an obvious OTT character assassination of both character from the word go.<br /><br />This version of Sleuth is not really worth seeing, watch the original film and be dazzled from the opening act.\n",
      "* * * * * * * * * \n",
      "14858\n",
      "You can give JMS and the boys a pass on this one because they were at the beginning of their series and on a small budget, but the movie is still sub-par. Dont get me wrong, B5 the series is by far the best TV series ever, but if i was an exec seeing this movie, i wouldnt have ordered the series. I dont like O'Hare as an actor, the costumes are silly, and there are tons of cliches. The same can be said for most of the first season (with the exception of Babylon Squared and Survivors); Bruce immediately put a fire into the series and it went on to be an amazing spectacle. If you are a B5 fan and havent seen this movie, see it. If you arent a B5 fan, dont...you wont want to watch the series.\n",
      "* * * * * * * * * \n",
      "15431\n",
      "I'm studying Catalan, and was delighted to find El Mar, a movie with mostly Catalan dialogue, at my art-house video store.<br /><br />Hmmm... not so delighted to have seen it.<br /><br />Yes, as other reviewers have said, it's well-made, and beautifully photographed. Although the opening sequence of the children is shockingly violent, it's well-acted and convincing. (For the most part, that is... Would the Mallorquins strip a corpse in preparation for burial right in the middle of the town square, in full view of the dead man's 10-year-old boy?) Oh, well... minor detail. Up to this point, it had something of the feel of a non-magical Pan's Labyrinth, also set in the Spanish Civil War.<br /><br />Fast-forward, and the three children who survived the opening incident have come of age. Francisca is a nun working at a tuberculosis sanatorium and the two boys, Manuel and Ramallo, both are patients. I know, but hey, coincidences happen.<br /><br />The problem, as with so many Spanish movies (apologies to Almodovar fans), is that with one exception (Francisca) the characters are just so dang *weird*. Their motivations, personalities, and dialogue are often simply incoherent.<br /><br />What's more, it descends into some horrific wretched excess. Be prepared for LOTS of pain and LOTS of blood. The reviewer who called it a \\potboiler\\\" is quite on track. If it had been made 40 years ago, the poster would've said: SEE FORBIDDEN LOVE!! RAPE!! MURDER!! MUTILATION!! FANATICISM!! ANIMAL CRUELTY!! BETRAYAL!! <br /><br />The opening sequence is not nearly enough to make the personalities and relationships of the characters believable. To work, this should have had multiple flashbacks to flesh out the characters. As it is, it seems a bizarre and depressing cross between \\\"Brother Sun, Sister Moon\\\" and \\\"Pulp Fiction.\\\" If that sounds like something you've got to see, by all means, enjoy. I think I go with something that doesn't make me feel I need to take a shower to wash off the gore and gloom.<br /><br />As for the Catalan, it's the Mallorqui dialect, fairly different than the Barcelona dialect, though I was surprised by the comment that said that even Barcelonans apparently needed Catalan subtitles to understand it.\"\n",
      "* * * * * * * * * \n",
      "15707\n",
      "Four best friends young male chauvinist pigs (with the emphasis on pigs) meet weekly at a NYC diner to recount their dating sexploits in this misanthropic and visceral comedy. Peet is the common denominator who dates the three bachelors in the group which leads to conflict and the inevitable \\whipping\\\". Although the film's premise has potential and there are some funny moments to be had, overall the flick doesn't work especially in the end where the girls are made to appear no better than the guys which runs contrary to the crux of the story. One of those one-man band flix with a dozen producers, \\\"Whipped\\\" is likely to be enjoyed only by the kind of young males who think \\\"The Man Show\\\" is Emmy material.\"\n",
      "* * * * * * * * * \n",
      "16245\n",
      "Is this the same Kim Ki Duk who directed the poignant, life-spanning testimonial of \\Spring, Summer, Fall, Winter and Spring\\\"? The same Kim Ki Duk who directed the exquisite, nearly silent, heartbreaking longing of \\\"3 Iron\\\"? The same Kim Ki Duk who dazzled us with the staggering tragedy of \\\"The Coast Guard\\\" and made us squirm about the ugliness of nonchalant teenage prostitution before returning to his almost patented nature motif to allow us all (characters and viewers alike) to experience redemption in \\\"Samaritan Girl\\\"? I just cannot seem to find him in this film.<br /><br />Oh, sure, Kim's nature motif is still present. The film takes place entirely on a lake surrounded by mountains and on fishing floats resting placidly on the surface of calm waters. Yes, it's Kim Ki Duk, all right. Kim even describes the film as \\\"beautiful\\\" in an interview included in the DVD's special features. But I'm not sure anymore what that means after viewing this putrescent presentation.<br /><br />What is beautiful about angry, potty-mouthed prostitutes, lustful, violent and potty-mouthed fishermen, a covetous mute merchant, explicit animal torture, sequences of self-mutilation and a pace that swings nauseatingly between bestial carnality and mindless brutality? These are the only elements of humanity that present themselves in this utterly confounding and ultimately pointless film. If it is based on a fable or intended as a parable or is meant to be symbolic of something greater, this reviewer is unfamiliar with the source material. It has been favorably compared to \\\"Audition\\\" by Japanese director Takashi Miike (much to Kim's satisfaction), but aside from some astonishingly good performances, especially given what they had to work with, by lead actors Seo Jung and Kim Yoo Suk, I find little reason to recommend this film. I have not seen \\\"Audition,\\\" but I doubt it would alter in any way my view of \\\"The Isle.\\\" Its violence is pornographic and senselessly sadistic. Its sex is not pornographic, but passionless and masochistic. Characters behave on irritating impulse because there is no plot. Its point is either non-existent or, I will admit, lost amidst Korean cultural quirks that I fail to understand.<br /><br />The only beauty is in the cinematography, which is classic Kim: fog-shrouded boats lapping slowly across a serene lake, mountainous terrain dominating the background, and an imaginative and playful use of color. At times it seems as if viewers are locked in a big Kim Ki Duk romper room. Some touches, like the mysterious and seductive mute merchant played by Jung and the pleasantly odd use of motorbikes, are intriguing. But as a film, this effort is downright confusing and, in the end, offensive to the senses, not necessarily to sensibilities. One hopes that Kim will leave this kind of film-making in the trash heap of his past, for we know he is capable of so much more.\"\n",
      "* * * * * * * * * \n",
      "16425\n",
      "I am a massive fan of the book and Orwell is certainly my favourite writer ever since studying Animal Farm at GCSE. I bought the DVD out of sheer curiosity, Burton is an actor I hold in high regard so when I heard that he played the role of O'Brien I was swung.<br /><br />I watched the trailer on the DVD first and some fears started to set in, mostly regarding the frankly terrible \\Theme song\\\", hearing the Eurythmics mechanically shouting \\\"1984!\\\" over and over again to an electronic beat is as bad as it sounds.<br /><br />The acting on a whole is pretty good, Burton and Hurt play their roles well and the tension that exists in the Ministry of Truth towards the end can be felt, especially in the harrowing Room 101 scene. However this is also where the movie is let down. The movie spends too much time focusing on the Love affair between Winston and Julia, which frankly isn't what Orwell was writing about. He was writing about a harrowing future, about how Ingsoc build up a mans beliefs and then shatter them all in the name of him being made to love Big Brother. The movie skips over what is essentially the most important part of the book, Winstons coming to terms with his position in life and the world, and his re-education via O'Brien.<br /><br />The comment on IMDb at the moment states that the movie sticks to the book is completely incorrect. Julia is not present when Winston visits O'Brien, they do not commit themselves to Goldstien's Brotherhood and confess their crimes. There is no obvious mention of the initial instances where Winston finds the article with the Unpersons but it does get mentioned near the end, if you have not read the book it is completely confusing.<br /><br />A terrible screenplay, which some excellent acting cannot rescue. Michael Radford seems to have completely missed the point Orwell was trying to make, and the electronica sound track is frankly terrible.\"\n",
      "* * * * * * * * * \n",
      "16570\n",
      "I was fortunate enough to meet George Pal (and still have my DS:TMOB poster autographed by him) at a convention shortly after the release, and asked him why he chose to do the film \\camp\\\". Before he could answer, two studio flacks intercepted and lectured me on how the studio \\\"knew best\\\" and how \\\"no one will take such a film seriously\\\". I had been reading the Bantam reprints for a couple of years thanks to a friend (ComiCon attendees of the 1970s will recall Blackhawk and his band? I was in a couple of years of that with him), and had higher hopes than what we got.<br /><br />The flacks insisted that no high adventure would ever be done seriously, and so doing 'camp' was the only way. Several other fans jumped in on my side, with Pal listening as best he could. At the end of the little event, Pal came up to us and apologized, wishing he could have done more and better.<br /><br />STAR WARS put the lie to the flacks, and a year after Pal's death, Spielberg and Lucas proved that Doc Savage could have easily been the next major movie franchise...if it hadn't been for the flacks.<br /><br />Tear out the memory or history of Doc, and the film would have been worth a 6/10 rating as nothing more than a mindless popcorn seller.<br /><br />But destroying the legacy like that was no less an abomination than killing a baby in the crib.<br /><br />Doc Savage can still come to the screen, and survive the inevitable comparisons by the ill-informed to Indiana Jones, but it would have to be done in all seriousness and earnest to reclaim the glory that we should expect from the First American Superhero.<br /><br />SIDENOTES: Yes, there was a second script for ARCHENEMY OF EVIL, and it's a lot more serious. Yes, there was simultaneous footage shot, but mostly establishing shots and very little with actors. And, yes, there _is_ a one-sheet of Ron Ely leaping over a brick wall and blasting at something over his shoulder with a specially built bronze pistol. Ely's wearing a duster over a button down white shirt with a bronze tie, and the words \\\"DOC SAVAGE: ARCHENEMY OF EVIL...Coming Next Summer!\\\" POSTSCRIPT: If anyone knows who the studio flacks were that accompanied George Pal in 1975 to San Diego for the convention, smack the idiots up the side of the head and call them the idiots that they are. At the time, they were doing dorkknobs and Fu Manchu in stripes and baggy canvas pants, and carrying Paramount portfolios.\"\n",
      "* * * * * * * * * \n",
      "16903\n",
      "I was sooooo excited to see this movie after finally reading the book this week. My 13 year old son was looking forward to it too. I rented it and snuggled down to enjoy a classic holiday story brought to life on screen.<br /><br />Boy, was I disappointed. This movie veered off from the book more times than is forgivable. George C. Scott is an excellent actor but in this, it seemed that he was fully into character only about 20% of the time. The rest of the time he was quite flat.<br /><br />I realize that this was made in '84, pre-CG effects, for the most part. But it looked to be very B-movie quality, especially the encounter with Jacob Marley.<br /><br />The biggest disappointment was the fact that they left out one of the most moving parts of the story: When the Spirit of Christmas Present takes Scrooge on the whirlwind tour of the world, observing people in the bleakest of circumstances still having the light and love of Christmastime.<br /><br />I will admit that Mr. Scott did a good job with the \\reformed\\\" Scrooge at the end. That was a refreshing portrayal.<br /><br />I wish that Bob Cratchit had been portrayed as a little more ragged and down-trodden. And Tiny Tim... oh don't even get me started on bad child actors...\"\n",
      "* * * * * * * * * \n",
      "16959\n",
      "This is an art film that was either made in 1969 or 1972 (the National Film Preservation Foundation says 1969 and IMDb says 1972). Regardless of the exact date, the film definitely appears to be very indicative of this general time period--with some camera-work and pop art stylings that are pure late 60s-early 70s.<br /><br />The film consists of three simple images that are distorted using different weird camera tricks. These distorted images are accompanied by music and there is absolutely no dialog or plot of any sort. This was obviously intended as almost like a form of performance art, and like most performance art, it's interesting at first but quickly becomes tiresome. The film, to put it even more bluntly, is a total bore and would appeal to no one but perhaps those who made the film, their family and friends and perhaps a few people just too hip and \\with it\\\" to be understood by us mortals.\"\n",
      "* * * * * * * * * \n",
      "17055\n",
      "In 1914, Charlie Chaplin began making pictures. These were made for Mack Sennett (also known as \\Keystone Studios\\\") and were literally churned out in very rapid succession. The short comedies had very little structure and were completely ad libbed. As a result, the films, though popular in their day, were just awful by today's standards. Many of them bear a strong similarity to home movies featuring obnoxious relatives mugging for the camera. Many others show the characters wander in front of the camera and do pretty much nothing. And, regardless of the outcome, Keystone sent them straight to theaters. My assumption is that all movies at this time must have been pretty bad, as the Keystone films with Chaplin were very successful.<br /><br />The Charlie Chaplin we know and love today only began to evolve later in Chaplin's career with Keystone. By 1915, he signed a new lucrative contract with Essenay Studios and the films improved dramatically with Chaplin as director. However, at times these films were still very rough and not especially memorable. No, Chaplin as the cute Little Tramp was still evolving. In 1916, when he switched to Mutual Studios, his films once again improved and he became the more recognizable nice guy--in many of the previous films he was just a jerk (either getting drunk a lot, beating up women, provoking fights with innocent people, etc.). The final evolution of his Little Tramp to classic status occurred in the 1920s as a result of his full-length films.<br /><br />It's interesting that this film is called TWENTY MINUTES OF LOVE since the film only lasts about 10 minutes! Oh well. The plot, what little there is, involves the Little Tramp in the park. A couple wants to neck but inexplicably, Charlie insists on practically sitting on the couple's lap and really annoying them. I can't understand why and the short consists of Charlie wandering about the park annoying these people and some others later in the film. Perhaps he was looking for a threesome, I don't know. But the film lacks coherence and just isn't particularly funny--even when people start slapping each other and pushing each other in the lake. A typical poor effort before Chaplin began to give his character a plot and personality.\"\n",
      "* * * * * * * * * \n",
      "17194\n",
      "Prior to this film, I had only seen two films by director Andrea Bianchi: the trashy zombie flick Le Notti del Terrore (1981), famous amongst horror fans for its unforgettable performance from man-child Peter Bark, and the enjoyably sleazy giallo Strip Nude For Your Killer. Neither film was a particularly spectacular piece of cinema, but both were entertaining in their own special way (and the fact that they featured plenty of gore and nudity didn't hurt). Massacre, however, is dull, dull, dull, despite quite a bit of splatter and the odd spot of gratuitous bare flesh.<br /><br />The story, about a series of murders in a hotel where the cast and crew of a horror film are residing during their shoot, is confusing and oh-so boring: when the blood isn't flowing and the skin isn't on show, the film is a real struggle to sit through (it took me four attempts to finish), with endless scenes of unlikeable characters bickering among themselves and doing very little of note.<br /><br />The only point of interest about the film is that its producer, Lucio Fulci, used several of its death scenes to pad out his mega-gory movie Cat In The Brain (AKA Nightmare Concert). And if you've already seen that film, then there is very little reason to bother with Massacre.\n",
      "* * * * * * * * * \n",
      "18051\n",
      "Having just recently re-viewed \\Lipstick\\\" for the first time in a few decades, I backed it with \\\"Descent\\\" even though I have heard more negative comments than good from other film friends with tastes as varied as mine.<br /><br />It's interesting to contrast how the unique niche of the Rape Revenge movie has evolved in the past 32 years, from the full-on gore of \\\"I Spit On Your Grave,\\\" to the tawdry sensationalism of \\\"Lipstick,\\\" to the tasteful handling of the issue in \\\"The Accused.\\\" But \\\"Descent,\\\" though making some important points, never really offers us anything truly new in terms of revelatory meaning. No, \\\"Descent\\\" is so poorly made in terms of picture and sound quality that it detracts from any significant message it could hope to make --- a message that, when examined closely, isn't that groundbreaking.<br /><br />I pretty much knew the plot going in. What I wanted to see *was* the \\\"descent\\\" or degeneration of Dawson's character. Being a big fan of Rosario's, I was anxious to see the layers being stripped away and her psyche being slowly twisted...you know, the kind of portrayal DeNiro brings to \\\"Taxi Driver.\\\" Unfortunately, the script and the director/writer's choices don't provide any sort of believable transition.<br /><br />The biggest point of failure is the second act. It became obvious what the filmmaker's intentions were for this segment of club-hopping, drug use, and obsession with big black stallion Adrian (every white boy's nightmare, natch) from a Q&A on the DVD, but this excursion into Dawson's character is never believably rendered. We don't know exactly what the hell she's doing half the time, what she's after, or why she's doing it. The poor quality of the audio/video again don't help, but the sequence is just too damn long and pointless. It destroys any momentum and investment in the lead character set up during the otherwise exceptionally well-done first act. By the time we get to the finale, our interest has already waned.<br /><br />One point of success that Dawson does point out in the Q&A is that by the end \\\"revenge\\\" scene we are pumped for retribution, then realize just how drawn-out and ugly the reality is. While that's certainly valid, it doesn't make the scene any more intriguing.<br /><br />If you have the DVD, check out the deleted \\\"classroom\\\" scene. This is an excellent 8 minute plus outtake that crackles with energy and provocation (though all verbal) and really DOES show Dawson's slow crack-up materializing as she delightfully vivisects poor Francie Swift's prissy, condescending dorm counselor. If more expository scenes like this had been added and more of the middle third cut down, we might have an interesting psychological study of the impact of senseless acts of violence.<br /><br />As the film stands in the final cut, though, all we get is what we've seen before, only in a more graphic rendering. So what?\"\n",
      "* * * * * * * * * \n",
      "18969\n",
      "My favorite memory of this show and the band was when I got together with a bunch of my friends which are NBB haters and had a big bonfire and we took a CD of their songs and the DVD of the movie and a bunch of pictures of the band members and threw them into the fire and danced a happy jig around the burning stuff while singing \\Ding Dong The Witch Is Dead\\\". That was the best thing about the show and this show is stupid with a capitol God this show sucks. I hate it so much. Get rid of the crappy car. You guys really suck! You really ruined the whole channel! No offence or anything but you guys need to get a life, I mean, really, who makes a stupid show with a stupid lead singer that can't even sing! You guys really sound horrible and need to get a life as hobos or something, except Roselina. She's really pretty. But still, you guys reak!\"\n",
      "* * * * * * * * * \n",
      "19203\n",
      "Growing up, Joe Strummer was a hero of mine, but even I was left cold by this film. For better and worse, The Future Is Unwritten is not a straightforward \\Behind the Music\\\" style documentary. Rather it is a biographical art film, chock full of interviews, performance footage, home movies, and mostly pointless animation sketches lifted from \\\"Animal Farm.\\\" The movie is coherent but overlong by about a half hour.<br /><br />The campfire format, while touching in thought, is actually pretty annoying in execution. First off, without titles, its hard to even know who half of these interviewees are. Secondly, who really needs to hear people like Bono, Johnny Depp, and John Cusack mouth butt licking hosannas about the man? They were not relevant to Strummer's life and their opinions add nothing to his story.<br /><br />This picture is at it's best when Strummer, through taped interviews and conversation, touches on facets of his life most people did not know about: the suicide of his older brother, coming to terms with the death of his parents, the joy of fatherhood. To me, these were most moving because it showed Joe Strummer not as the punk icon we all knew and loved, but as a regular human being who had to deal with the joys and sorrows of life we all must face.<br /><br />There have been better, more straightforward documentaries about Strummer and The Clash. (Westway, VH1 Legends, and Kurt Loder's narrated MTV Documentary from the early 90's come to mind.) Joe Strummer: The Future Is Unwritten is for diehards only.\"\n",
      "* * * * * * * * * \n",
      "19406\n",
      "One-note comedy that probably sets modern day feminists' teeth on edge. Department store clerk Betsy Drake is in love with the idea of babies and marriage, pinning her hopes on women's magazines until she spies super-bait in the form of sleek bachelor Cary Grant. The rest of the film plods from one ploy to the next as the relentless Drake pursues her quarry. I guess the word \\perky\\\" just about sum's up Drake's approach to the role. She does have a charming smile, but after 20 minutes of memorizing her dentures, I began to overdose. Grant's role is basically secondary and minus his usual flair. There is one scene, however, that almost salvages this slender exercise. Drake queries the hapless Grant following his lecture to a roomful of respectable ladies. Here her perky manner has an unforced freshness that is really quite remarkable, and had the production not rubbed our noses in that upbeat grin for 90 minutes, the film might have amounted to more than a girls' camp day-dream, circa 1948.\"\n",
      "* * * * * * * * * \n"
     ]
    }
   ],
   "source": [
    "# false positives\n",
    "\n",
    "print(\"Examples of false positives:\")\n",
    "\n",
    "import random, time\n",
    "\n",
    "for i in range(0, len(rdf_predictions)):\n",
    "    if (rdf_predictions[i] == 1):\n",
    "        if (X_raw_train.iloc[i]['sentiment'] == 0):\n",
    "            if (random.uniform(0, 1) < 0.05): # to print only 5% of the false positives\n",
    "                print(i)\n",
    "                print(X_raw_train.iloc[i]['review'])\n",
    "                print('* * * * * * * * * ')"
   ]
  },
  {
   "cell_type": "markdown",
   "metadata": {},
   "source": [
    "---\n",
    "\n",
    "# <span style=\"color:red\">WARNING: Don't look at test set performance too much!</span>\n",
    "\n",
    "---\n",
    "\n",
    "The following cells show performance on your test set. Do not look at this too often! "
   ]
  },
  {
   "cell_type": "markdown",
   "metadata": {},
   "source": [
    "# Look at performance on the test set"
   ]
  },
  {
   "cell_type": "markdown",
   "metadata": {},
   "source": [
    "### MODEL: ordinary least squares"
   ]
  },
  {
   "cell_type": "code",
   "execution_count": 992,
   "metadata": {},
   "outputs": [
    {
     "name": "stdout",
     "output_type": "stream",
     "text": [
      "{'Pos': 2566, 'Neg': 2434, 'TP': 2145, 'TN': 2039, 'FP': 395, 'FN': 421, 'Accuracy': 0.8368, 'Precision': 0.844488188976378, 'Recall': 0.8359314107560405, 'desc': 'ols_test'}\n"
     ]
    }
   ],
   "source": [
    "ols_performance_test = BinaryClassificationPerformance(ols.predict(X_test), y_test, 'ols_test')\n",
    "ols_performance_test.compute_measures()\n",
    "print(ols_performance_test.performance_measures)"
   ]
  },
  {
   "cell_type": "markdown",
   "metadata": {},
   "source": [
    "### MODEL: SVM, linear"
   ]
  },
  {
   "cell_type": "code",
   "execution_count": 993,
   "metadata": {},
   "outputs": [
    {
     "name": "stdout",
     "output_type": "stream",
     "text": [
      "{'Pos': 2566, 'Neg': 2434, 'TP': 2148, 'TN': 2037, 'FP': 397, 'FN': 418, 'Accuracy': 0.837, 'Precision': 0.844007858546169, 'Recall': 0.8371005455962588, 'desc': 'svm_test'}\n"
     ]
    }
   ],
   "source": [
    "svm_performance_test = BinaryClassificationPerformance(svm.predict(X_test), y_test, 'svm_test')\n",
    "svm_performance_test.compute_measures()\n",
    "print(svm_performance_test.performance_measures)"
   ]
  },
  {
   "cell_type": "markdown",
   "metadata": {},
   "source": []
  },
  {
   "cell_type": "markdown",
   "metadata": {},
   "source": [
    "### MODEL: logistic regression"
   ]
  },
  {
   "cell_type": "code",
   "execution_count": 994,
   "metadata": {},
   "outputs": [
    {
     "name": "stdout",
     "output_type": "stream",
     "text": [
      "{'Pos': 2566, 'Neg': 2434, 'TP': 2159, 'TN': 2029, 'FP': 405, 'FN': 407, 'Accuracy': 0.8376, 'Precision': 0.8420436817472698, 'Recall': 0.8413873733437256, 'desc': 'lgs_test'}\n"
     ]
    }
   ],
   "source": [
    "lgs_performance_test = BinaryClassificationPerformance(lgs.predict(X_test), y_test, 'lgs_test')\n",
    "lgs_performance_test.compute_measures()\n",
    "print(lgs_performance_test.performance_measures)"
   ]
  },
  {
   "cell_type": "markdown",
   "metadata": {},
   "source": [
    "### MODEL: Naive Bayes"
   ]
  },
  {
   "cell_type": "code",
   "execution_count": 995,
   "metadata": {},
   "outputs": [
    {
     "name": "stdout",
     "output_type": "stream",
     "text": [
      "{}\n"
     ]
    }
   ],
   "source": [
    "nbs_performance_test = BinaryClassificationPerformance(nbs.predict(X_test), y_test, 'nbs_test')\n",
    "# nbs_performance_test.compute_measures()\n",
    "print(nbs_performance_test.performance_measures)"
   ]
  },
  {
   "cell_type": "markdown",
   "metadata": {},
   "source": [
    "### MODEL: Perceptron"
   ]
  },
  {
   "cell_type": "code",
   "execution_count": 996,
   "metadata": {},
   "outputs": [
    {
     "name": "stdout",
     "output_type": "stream",
     "text": [
      "{'Pos': 2566, 'Neg': 2434, 'TP': 2145, 'TN': 2010, 'FP': 424, 'FN': 421, 'Accuracy': 0.831, 'Precision': 0.8349552355001947, 'Recall': 0.8359314107560405, 'desc': 'prc_test'}\n"
     ]
    }
   ],
   "source": [
    "prc_performance_test = BinaryClassificationPerformance(prc.predict(X_test), y_test, 'prc_test')\n",
    "prc_performance_test.compute_measures()\n",
    "print(prc_performance_test.performance_measures)"
   ]
  },
  {
   "cell_type": "markdown",
   "metadata": {},
   "source": [
    "### MODEL: Ridge Regression Classifier"
   ]
  },
  {
   "cell_type": "code",
   "execution_count": 997,
   "metadata": {},
   "outputs": [
    {
     "name": "stdout",
     "output_type": "stream",
     "text": [
      "{'Pos': 2566, 'Neg': 2434, 'TP': 2074, 'TN': 1941, 'FP': 493, 'FN': 492, 'Accuracy': 0.803, 'Precision': 0.8079470198675497, 'Recall': 0.8082618862042089, 'desc': 'rdg_test'}\n"
     ]
    }
   ],
   "source": [
    "rdg_performance_test = BinaryClassificationPerformance(rdg.predict(X_test), y_test, 'rdg_test')\n",
    "rdg_performance_test.compute_measures()\n",
    "print(rdg_performance_test.performance_measures)"
   ]
  },
  {
   "cell_type": "markdown",
   "metadata": {},
   "source": [
    "### MODEL: Random Forest Classifier"
   ]
  },
  {
   "cell_type": "code",
   "execution_count": 998,
   "metadata": {},
   "outputs": [
    {
     "name": "stdout",
     "output_type": "stream",
     "text": [
      "{'Pos': 2566, 'Neg': 2434, 'TP': 1652, 'TN': 2091, 'FP': 343, 'FN': 914, 'Accuracy': 0.7486, 'Precision': 0.8280701754385965, 'Recall': 0.6438035853468433, 'desc': 'rdf_test'}\n"
     ]
    }
   ],
   "source": [
    "rdf_performance_test = BinaryClassificationPerformance(rdf.predict(X_test), y_test, 'rdf_test')\n",
    "rdf_performance_test.compute_measures()\n",
    "print(rdf_performance_test.performance_measures)"
   ]
  },
  {
   "cell_type": "markdown",
   "metadata": {},
   "source": [
    "### ROC plot to compare performance of various models and fits"
   ]
  },
  {
   "cell_type": "code",
   "execution_count": 999,
   "metadata": {},
   "outputs": [
    {
     "data": {
      "image/png": "[encoded data removed]",
      "text/plain": [
       "<Figure size 800x600 with 1 Axes>"
      ]
     },
     "metadata": {},
     "output_type": "display_data"
    }
   ],
   "source": [
    "fits = [ols_performance_test, svm_performance_test, lgs_performance_test,\n",
    "        nbs_performance_test, prc_performance_test, rdg_performance_test, rdf_performance_test]\n",
    "\n",
    "plt.figure(figsize=(8, 6))\n",
    "for fit in fits:\n",
    "    if 'FP' in fit.performance_measures and 'TP' in fit.performance_measures:\n",
    "        plt.plot(fit.performance_measures['FP'] / fit.performance_measures['Neg'],\n",
    "                 fit.performance_measures['TP'] / fit.performance_measures['Pos'], 'bo')\n",
    "        plt.text(fit.performance_measures['FP'] / fit.performance_measures['Neg'],\n",
    "                 fit.performance_measures['TP'] / fit.performance_measures['Pos'], fit.desc)\n",
    "\n",
    "plt.axis([0, 1, 0, 1])\n",
    "plt.title('ROC plot: test set')\n",
    "plt.xlabel('False positive rate')\n",
    "plt.ylabel('True positive rate')\n",
    "plt.show()"
   ]
  },
  {
   "cell_type": "markdown",
   "metadata": {},
   "source": [
    "---\n",
    "\n",
    "# <span style=\"color:red\">SUBMISSION</span>\n",
    "\n",
    "---"
   ]
  },
  {
   "cell_type": "code",
   "execution_count": 1000,
   "metadata": {},
   "outputs": [
    {
     "name": "stdout",
     "output_type": "stream",
     "text": [
      "movie_data is: <class 'pandas.core.frame.DataFrame'>\n",
      "movie_data has 25000 rows and 2 columns \n",
      "\n",
      "the data types for each of the columns in movie_data:\n",
      "id        object\n",
      "review    object\n",
      "dtype: object \n",
      "\n",
      "the first 10 rows in movie_data:\n",
      "         id                                             review\n",
      "0  12311_10  Naturally in a film who's main themes are of m...\n",
      "1    8348_2  This movie is a disaster within a disaster fil...\n",
      "2    5828_4  All in all, this is a movie for kids. We saw i...\n",
      "3    7186_2  Afraid of the Dark left me with the impression...\n",
      "4   12128_7  A very accurate depiction of small time mob li...\n",
      "Shape of HashingVectorizer X:\n",
      "(25000, 131072)\n",
      "Look at a few rows of the new quantitative features: \n",
      "   word_count  punc_count\n",
      "0         131           5\n",
      "1         169          15\n",
      "2         176          18\n",
      "3         112           5\n",
      "4         133           8\n",
      "5         331          20\n",
      "6         121          18\n",
      "7         230          22\n",
      "8          59           3\n",
      "9         224          14\n",
      "Size of combined bag of words and new quantitative variables matrix:\n",
      "(25000, 131074)\n",
      "(25000, 131074)\n",
      "Shape of X_test for submission:\n",
      "(25000, 131074)\n",
      "SUCCESS!\n",
      "Number of rows in the submission test set (should be 25,000): \n"
     ]
    }
   ],
   "source": [
    "# read in test data for submission\n",
    "# CHANGE FILE PATH and my_random_seed number (any integer other than 74 will do): \n",
    "raw_data, X_test_submission = process_raw_data(\n",
    "    fn='/Users/wuyuming/Desktop/Project/machine learning/YuMingWu_ml-master/final_assignment_1/moviereviews_test.tsv', my_random_seed=3310, test=True)\n",
    "print(\"Number of rows in the submission test set (should be 25,000): \")"
   ]
  },
  {
   "cell_type": "code",
   "execution_count": 1001,
   "metadata": {},
   "outputs": [],
   "source": [
    "# lgs_performance_test = BinaryClassificationPerformance(\n",
    "#     lgs.predict(X_test), y_test, 'lgs_test')\n",
    "# lgs_performance_test.compute_measures()\n",
    "# print(lgs_performance_test.performance_measures)"
   ]
  },
  {
   "cell_type": "code",
   "execution_count": 1002,
   "metadata": {},
   "outputs": [
    {
     "name": "stdout",
     "output_type": "stream",
     "text": [
      "{'Pos': 2566, 'Neg': 2434, 'TP': 2145, 'TN': 2010, 'FP': 424, 'FN': 421, 'Accuracy': 0.831, 'Precision': 0.8349552355001947, 'Recall': 0.8359314107560405, 'desc': 'prc_test'}\n"
     ]
    }
   ],
   "source": [
    "# prc prediction\n",
    "prc_performance_test = BinaryClassificationPerformance(\n",
    "    prc.predict(X_test), y_test, 'prc_test')\n",
    "prc_performance_test.compute_measures()\n",
    "print(prc_performance_test.performance_measures)"
   ]
  },
  {
   "cell_type": "code",
   "execution_count": 1003,
   "metadata": {},
   "outputs": [
    {
     "name": "stdout",
     "output_type": "stream",
     "text": [
      "{'Pos': 2566, 'Neg': 2434, 'TP': 2148, 'TN': 2037, 'FP': 397, 'FN': 418, 'Accuracy': 0.837, 'Precision': 0.844007858546169, 'Recall': 0.8371005455962588, 'desc': 'svm_test'}\n"
     ]
    }
   ],
   "source": [
    "# svm prediction\n",
    "svm_performance_test = BinaryClassificationPerformance(\n",
    "    svm.predict(X_test), y_test,'svm_test')\n",
    "svm_performance_test.compute_measures()\n",
    "print(svm_performance_test.performance_measures)"
   ]
  },
  {
   "cell_type": "markdown",
   "metadata": {},
   "source": [
    "---\n",
    "\n",
    "Choose a <span style=\"color:red\">*single*</span> model for your submission. In this code, I am choosing the Ordinary Least Squares model fit, which is in the `ols` object. But you should choose the model that is performing the best for you! "
   ]
  },
  {
   "cell_type": "code",
   "execution_count": 1004,
   "metadata": {},
   "outputs": [
    {
     "name": "stdout",
     "output_type": "stream",
     "text": [
      "0.46476\n"
     ]
    }
   ],
   "source": [
    "# PRC_TEST\n",
    "\n",
    "# store the id from the raw data\n",
    "my_submission = pd.DataFrame(raw_data[\"id\"])\n",
    "# concatenate predictions to the id\n",
    "my_submission[\"prediction\"] = prc.predict(X_test_submission)\n",
    "# look at the proportion of positive predictions\n",
    "print(my_submission['prediction'].mean())"
   ]
  },
  {
   "cell_type": "code",
   "execution_count": 1005,
   "metadata": {},
   "outputs": [
    {
     "data": {
      "image/png": "[encoded data removed]",
      "text/plain": [
       "<Figure size 800x600 with 1 Axes>"
      ]
     },
     "metadata": {},
     "output_type": "display_data"
    }
   ],
   "source": [
    "from sklearn.metrics import roc_curve, roc_auc_score\n",
    "import matplotlib.pyplot as plt\n",
    "\n",
    "y_pred_proba = model.predict_proba(X_test)[:, 1]\n",
    "\n",
    "fpr, tpr, thresholds = roc_curve(y_test, y_pred_proba)\n",
    "roc_auc = roc_auc_score(y_test, y_pred_proba)\n",
    "\n",
    "plt.figure(figsize=(8, 6))\n",
    "plt.plot(fpr, tpr, label='ROC curve (AUC = {:.2f})'.format(roc_auc))\n",
    "plt.plot([0, 1], [0, 1], 'k--')  # 绘制对角线\n",
    "plt.xlim([0.0, 1.0])\n",
    "plt.ylim([0.0, 1.05])\n",
    "plt.xlabel('False Positive Rate (FPR)')\n",
    "plt.ylabel('True Positive Rate (TPR)')\n",
    "plt.title('Receiver Operating Characteristic (ROC) Curve')\n",
    "plt.legend(loc='lower right')\n",
    "plt.show()"
   ]
  },
  {
   "cell_type": "code",
   "execution_count": 1006,
   "metadata": {},
   "outputs": [
    {
     "data": {
      "text/html": [
       "<div>\n",
       "<style scoped>\n",
       "    .dataframe tbody tr th:only-of-type {\n",
       "        vertical-align: middle;\n",
       "    }\n",
       "\n",
       "    .dataframe tbody tr th {\n",
       "        vertical-align: top;\n",
       "    }\n",
       "\n",
       "    .dataframe thead th {\n",
       "        text-align: right;\n",
       "    }\n",
       "</style>\n",
       "<table border=\"1\" class=\"dataframe\">\n",
       "  <thead>\n",
       "    <tr style=\"text-align: right;\">\n",
       "      <th></th>\n",
       "      <th>id</th>\n",
       "      <th>review</th>\n",
       "      <th>word_count</th>\n",
       "      <th>punc_count</th>\n",
       "    </tr>\n",
       "  </thead>\n",
       "  <tbody>\n",
       "    <tr>\n",
       "      <th>24990</th>\n",
       "      <td>5071_2</td>\n",
       "      <td>I'd love to write a little summary of this mov...</td>\n",
       "      <td>174</td>\n",
       "      <td>9</td>\n",
       "    </tr>\n",
       "    <tr>\n",
       "      <th>24991</th>\n",
       "      <td>5078_2</td>\n",
       "      <td>Obvious tailored vehicle for Ryan Philippe. It...</td>\n",
       "      <td>167</td>\n",
       "      <td>9</td>\n",
       "    </tr>\n",
       "    <tr>\n",
       "      <th>24992</th>\n",
       "      <td>10069_3</td>\n",
       "      <td>&lt;br /&gt;&lt;br /&gt;JURASSIC PARK III *___ Adventure &lt;...</td>\n",
       "      <td>204</td>\n",
       "      <td>12</td>\n",
       "    </tr>\n",
       "    <tr>\n",
       "      <th>24993</th>\n",
       "      <td>7407_8</td>\n",
       "      <td>If you're even mildly interested in the War be...</td>\n",
       "      <td>186</td>\n",
       "      <td>8</td>\n",
       "    </tr>\n",
       "    <tr>\n",
       "      <th>24994</th>\n",
       "      <td>7207_1</td>\n",
       "      <td>It used to be that video distributors like Sub...</td>\n",
       "      <td>318</td>\n",
       "      <td>11</td>\n",
       "    </tr>\n",
       "    <tr>\n",
       "      <th>24995</th>\n",
       "      <td>2155_10</td>\n",
       "      <td>Sony Pictures Classics, I'm looking at you! So...</td>\n",
       "      <td>148</td>\n",
       "      <td>3</td>\n",
       "    </tr>\n",
       "    <tr>\n",
       "      <th>24996</th>\n",
       "      <td>59_10</td>\n",
       "      <td>I always felt that Ms. Merkerson had never got...</td>\n",
       "      <td>197</td>\n",
       "      <td>9</td>\n",
       "    </tr>\n",
       "    <tr>\n",
       "      <th>24997</th>\n",
       "      <td>2531_1</td>\n",
       "      <td>I was so disappointed in this movie. I am very...</td>\n",
       "      <td>164</td>\n",
       "      <td>9</td>\n",
       "    </tr>\n",
       "    <tr>\n",
       "      <th>24998</th>\n",
       "      <td>7772_8</td>\n",
       "      <td>From the opening sequence, filled with black a...</td>\n",
       "      <td>154</td>\n",
       "      <td>11</td>\n",
       "    </tr>\n",
       "    <tr>\n",
       "      <th>24999</th>\n",
       "      <td>11465_10</td>\n",
       "      <td>This is a great horror film for people who don...</td>\n",
       "      <td>165</td>\n",
       "      <td>6</td>\n",
       "    </tr>\n",
       "  </tbody>\n",
       "</table>\n",
       "</div>"
      ],
      "text/plain": [
       "             id                                             review  \\\n",
       "24990    5071_2  I'd love to write a little summary of this mov...   \n",
       "24991    5078_2  Obvious tailored vehicle for Ryan Philippe. It...   \n",
       "24992   10069_3  <br /><br />JURASSIC PARK III *___ Adventure <...   \n",
       "24993    7407_8  If you're even mildly interested in the War be...   \n",
       "24994    7207_1  It used to be that video distributors like Sub...   \n",
       "24995   2155_10  Sony Pictures Classics, I'm looking at you! So...   \n",
       "24996     59_10  I always felt that Ms. Merkerson had never got...   \n",
       "24997    2531_1  I was so disappointed in this movie. I am very...   \n",
       "24998    7772_8  From the opening sequence, filled with black a...   \n",
       "24999  11465_10  This is a great horror film for people who don...   \n",
       "\n",
       "       word_count  punc_count  \n",
       "24990         174           9  \n",
       "24991         167           9  \n",
       "24992         204          12  \n",
       "24993         186           8  \n",
       "24994         318          11  \n",
       "24995         148           3  \n",
       "24996         197           9  \n",
       "24997         164           9  \n",
       "24998         154          11  \n",
       "24999         165           6  "
      ]
     },
     "execution_count": 1006,
     "metadata": {},
     "output_type": "execute_result"
    }
   ],
   "source": [
    "raw_data.tail(10)"
   ]
  },
  {
   "cell_type": "code",
   "execution_count": 1007,
   "metadata": {},
   "outputs": [
    {
     "data": {
      "text/html": [
       "<div>\n",
       "<style scoped>\n",
       "    .dataframe tbody tr th:only-of-type {\n",
       "        vertical-align: middle;\n",
       "    }\n",
       "\n",
       "    .dataframe tbody tr th {\n",
       "        vertical-align: top;\n",
       "    }\n",
       "\n",
       "    .dataframe thead th {\n",
       "        text-align: right;\n",
       "    }\n",
       "</style>\n",
       "<table border=\"1\" class=\"dataframe\">\n",
       "  <thead>\n",
       "    <tr style=\"text-align: right;\">\n",
       "      <th></th>\n",
       "      <th>id</th>\n",
       "      <th>prediction</th>\n",
       "    </tr>\n",
       "  </thead>\n",
       "  <tbody>\n",
       "    <tr>\n",
       "      <th>24990</th>\n",
       "      <td>5071_2</td>\n",
       "      <td>0</td>\n",
       "    </tr>\n",
       "    <tr>\n",
       "      <th>24991</th>\n",
       "      <td>5078_2</td>\n",
       "      <td>0</td>\n",
       "    </tr>\n",
       "    <tr>\n",
       "      <th>24992</th>\n",
       "      <td>10069_3</td>\n",
       "      <td>1</td>\n",
       "    </tr>\n",
       "    <tr>\n",
       "      <th>24993</th>\n",
       "      <td>7407_8</td>\n",
       "      <td>0</td>\n",
       "    </tr>\n",
       "    <tr>\n",
       "      <th>24994</th>\n",
       "      <td>7207_1</td>\n",
       "      <td>0</td>\n",
       "    </tr>\n",
       "    <tr>\n",
       "      <th>24995</th>\n",
       "      <td>2155_10</td>\n",
       "      <td>0</td>\n",
       "    </tr>\n",
       "    <tr>\n",
       "      <th>24996</th>\n",
       "      <td>59_10</td>\n",
       "      <td>1</td>\n",
       "    </tr>\n",
       "    <tr>\n",
       "      <th>24997</th>\n",
       "      <td>2531_1</td>\n",
       "      <td>0</td>\n",
       "    </tr>\n",
       "    <tr>\n",
       "      <th>24998</th>\n",
       "      <td>7772_8</td>\n",
       "      <td>0</td>\n",
       "    </tr>\n",
       "    <tr>\n",
       "      <th>24999</th>\n",
       "      <td>11465_10</td>\n",
       "      <td>0</td>\n",
       "    </tr>\n",
       "  </tbody>\n",
       "</table>\n",
       "</div>"
      ],
      "text/plain": [
       "             id  prediction\n",
       "24990    5071_2           0\n",
       "24991    5078_2           0\n",
       "24992   10069_3           1\n",
       "24993    7407_8           0\n",
       "24994    7207_1           0\n",
       "24995   2155_10           0\n",
       "24996     59_10           1\n",
       "24997    2531_1           0\n",
       "24998    7772_8           0\n",
       "24999  11465_10           0"
      ]
     },
     "execution_count": 1007,
     "metadata": {},
     "output_type": "execute_result"
    }
   ],
   "source": [
    "my_submission.tail(10)"
   ]
  },
  {
   "cell_type": "code",
   "execution_count": 1008,
   "metadata": {},
   "outputs": [
    {
     "data": {
      "text/plain": [
       "(25000, 2)"
      ]
     },
     "execution_count": 1008,
     "metadata": {},
     "output_type": "execute_result"
    }
   ],
   "source": [
    "my_submission.shape"
   ]
  },
  {
   "cell_type": "code",
   "execution_count": 1009,
   "metadata": {},
   "outputs": [],
   "source": [
    "# export submission file as pdf\n",
    "# CHANGE FILE PATH: \n",
    "my_submission.to_csv(\n",
    "    '/Users/wuyuming/Desktop/Project/machine learning/YuMingWu_ml-master/final_assignment_1/sample_submissions/YuMingWu_moviereviews_sample_submission.csv', index=False)"
   ]
  },
  {
   "cell_type": "markdown",
   "metadata": {},
   "source": [
    "# Submit to Canvas: 1) the CSV file that was written in the previous cell and 2) the url to the repository (GitHub or other) that contains your code and documentation"
   ]
  }
 ],
 "metadata": {
  "kernelspec": {
   "display_name": "Python 3",
   "language": "python",
   "name": "python3"
  },
  "language_info": {
   "codemirror_mode": {
    "name": "ipython",
    "version": 3
   },
   "file_extension": ".py",
   "mimetype": "text/x-python",
   "name": "python",
   "nbconvert_exporter": "python",
   "pygments_lexer": "ipython3",
   "version": "3.12.1"
  }
 },
 "nbformat": 4,
 "nbformat_minor": 2
}
